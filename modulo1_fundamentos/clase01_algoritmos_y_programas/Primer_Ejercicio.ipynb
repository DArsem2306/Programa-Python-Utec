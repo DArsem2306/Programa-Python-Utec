{
  "cells": [
    {
      "cell_type": "markdown",
      "metadata": {
        "id": "view-in-github",
        "colab_type": "text"
      },
      "source": [
        "<a href=\"https://colab.research.google.com/github/DArsem2306/Programa-Python-Utec/blob/main/modulo1_fundamentos/clase01/Primer_Ejercicio.ipynb\" target=\"_parent\"><img src=\"https://colab.research.google.com/assets/colab-badge.svg\" alt=\"Open In Colab\"/></a>"
      ]
    },
    {
      "cell_type": "code",
      "execution_count": 1,
      "metadata": {
        "colab": {
          "base_uri": "https://localhost:8080/",
          "height": 108
        },
        "id": "1NlrzJgQgMeb",
        "outputId": "720e4c76-1514-4594-b722-e6a80577a2cc"
      },
      "outputs": [
        {
          "output_type": "error",
          "ename": "SyntaxError",
          "evalue": "invalid syntax. Maybe you meant '==' or ':=' instead of '='? (<ipython-input-1-1335ab10dd8c>, line 7)",
          "traceback": [
            "\u001b[0;36m  File \u001b[0;32m\"<ipython-input-1-1335ab10dd8c>\"\u001b[0;36m, line \u001b[0;32m7\u001b[0m\n\u001b[0;31m    if negocio = \"no\":\u001b[0m\n\u001b[0m       ^\u001b[0m\n\u001b[0;31mSyntaxError\u001b[0m\u001b[0;31m:\u001b[0m invalid syntax. Maybe you meant '==' or ':=' instead of '='?\n"
          ]
        }
      ],
      "source": [
        "print ('Hola, Bienvenido al Banco del Futuro.')\n",
        "print ('Queremos Ofrecerte el mejor producto para ti')\n",
        "nombre = input ('Como te llamas? ')\n",
        "print ('Hola', nombre)\n",
        "\n",
        "# Ingreso de datos\n",
        "ahorro = float(input(\"Ahorro mensual (S/): \"))  # Solicita cuánto ahorra el cliente\n",
        "ingreso = float(input(\"Ingreso mensual (S/): \"))  # Solicita su ingreso total\n",
        "\n",
        "# Cálculo del porcentaje de ahorro\n",
        "porcentaje = (ahorro / ingreso) * 100  # Se calcula el porcentaje que representa el ahorro sobre el ingreso\n",
        "print(\"Porcentaje de ahorro:\", porcentaje)\n",
        "\n",
        "# Clasificacion de Cliente por Edad\n",
        "if edad >= 25:\n",
        "  print ('La cuenta ideal para ti es Cuenta Inversion')\n",
        "else:\n",
        "  print ('La cuenta ideal para ti es la Cuenta Primer Ahorro')\n",
        "\n",
        "# Clasificación del cliente según su porcentaje de ahorro\n",
        "if porcentaje >= 20:\n",
        "    print(\"Segmento: Premium\")  # Alta capacidad de ahorro\n",
        "else:\n",
        "    print(\"Segmento: Estándar\")  # Ahorro menor, con potencial de fidelización\n",
        "----\n",
        "# Condicional para ver si quiere hacer algo mas\n",
        "def realizar_accion ():\n",
        "  print ('Deseas cambiar tus datos, volvamos')\n",
        "  # Ingreso de datos\n",
        "ahorro = float(input(\"Ahorro mensual (S/): \"))  # Solicita cuánto ahorra el cliente\n",
        "ingreso = float(input(\"Ingreso mensual (S/): \"))  # Solicita su ingreso total\n",
        "\n",
        "# Cálculo del porcentaje de ahorro\n",
        "porcentaje = (ahorro / ingreso) * 100  # Se calcula el porcentaje que representa el ahorro sobre el ingreso\n",
        "print(\"Porcentaje de ahorro:\", porcentaje)\n",
        "\n",
        "respuesta = input ('Quieres modificar algun dato financiero?')\n",
        "if respuesta.lower() == ('si'):\n",
        "  realizar_accion() #llamamos a la funcion de la respuesta si\n",
        "else:\n",
        "  print ('Muchas gracias por consulta con el Banco del Futuro')\n",
        "  print ('Hasta la proxima')\n"
      ]
    },
    {
      "cell_type": "code",
      "execution_count": 4,
      "metadata": {
        "id": "9kgJuIgLkmHy",
        "colab": {
          "base_uri": "https://localhost:8080/"
        },
        "outputId": "19fbb8c6-dd43-409f-d5ac-a656ac9bfc90"
      },
      "outputs": [
        {
          "output_type": "stream",
          "name": "stdout",
          "text": [
            "Hola, Bienvenido al Banco del Futuro.\n",
            "Queremos Ofrecerte el mejor producto para ti\n",
            "Como te llamas? Daniel\n",
            "Hola Daniel\n",
            "Tienes un negocio? no\n",
            "La cuenta ideal para ti es Cuenta Ahorros simple\n"
          ]
        }
      ],
      "source": [
        "print ('Hola, Bienvenido al Banco del Futuro.')\n",
        "print ('Queremos Ofrecerte el mejor producto para ti')\n",
        "nombre = input ('Como te llamas? ')\n",
        "print ('Hola', nombre)\n",
        "\n",
        "negocio = str (input ('Tienes un negocio? '))\n",
        "if negocio == \"no\":\n",
        "   print ('La cuenta ideal para ti es Cuenta Ahorros simple')\n",
        "elif\n",
        "else:\n",
        "  facturacion = float(input(\"Ahorro mensual (S/): \"))\n",
        "  print ('La cuenta ideal para ti es Cuenta Negocio')"
      ]
    }
  ],
  "metadata": {
    "colab": {
      "provenance": [],
      "include_colab_link": true
    },
    "kernelspec": {
      "display_name": "Python 3",
      "name": "python3"
    },
    "language_info": {
      "name": "python"
    }
  },
  "nbformat": 4,
  "nbformat_minor": 0
}