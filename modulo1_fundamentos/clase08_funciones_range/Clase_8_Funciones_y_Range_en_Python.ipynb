{
  "nbformat": 4,
  "nbformat_minor": 0,
  "metadata": {
    "colab": {
      "provenance": [],
      "include_colab_link": true
    },
    "kernelspec": {
      "name": "python3",
      "display_name": "Python 3"
    },
    "language_info": {
      "name": "python"
    }
  },
  "cells": [
    {
      "cell_type": "markdown",
      "metadata": {
        "id": "view-in-github",
        "colab_type": "text"
      },
      "source": [
        "<a href=\"https://colab.research.google.com/github/DArsem2306/Programa-Python-Utec/blob/main/modulo1_fundamentos/clase08_funciones_range/Clase_8_Funciones_y_Range_en_Python.ipynb\" target=\"_parent\"><img src=\"https://colab.research.google.com/assets/colab-badge.svg\" alt=\"Open In Colab\"/></a>"
      ]
    },
    {
      "cell_type": "markdown",
      "source": [
        "# Funciones y Range en Python"
      ],
      "metadata": {
        "id": "X1el0Wz1JZqY"
      }
    },
    {
      "cell_type": "markdown",
      "source": [
        "**1. INTRODUCCIÓN**\n",
        "\n",
        "**Objetivo de la clase:**\n",
        "\n",
        "- Comprender qué son las funciones y cómo se usan en Python.\n",
        "\n",
        "- Comprender el uso de range() como herramienta de iteración.\n",
        "\n",
        "- Aplicar ambos conceptos en contextos de marketing, finanzas y ecommerce."
      ],
      "metadata": {
        "id": "ywsKcY8cJfJo"
      }
    },
    {
      "cell_type": "markdown",
      "source": [
        "**2. FUNCIONES EN PYTHON**\n",
        "\n",
        "**¿Qué es una función?**\n",
        "\n",
        "Una función es un bloque de código reutilizable que se puede ejecutar cuando sea necesario. Ayuda a organizar el código y evitar repeticiones."
      ],
      "metadata": {
        "id": "LQuCiXPzJojH"
      }
    },
    {
      "cell_type": "markdown",
      "source": [
        "**Estructura básica:**"
      ],
      "metadata": {
        "id": "7AK84BGCJszm"
      }
    },
    {
      "cell_type": "code",
      "execution_count": null,
      "metadata": {
        "id": "htagfLrqJPYN"
      },
      "outputs": [],
      "source": [
        "def nombre_de_funcion(parametros):\n",
        "    # bloque de código\n",
        "    return resultado"
      ]
    },
    {
      "cell_type": "markdown",
      "source": [
        "**Ejemplo 1**\n",
        "\n",
        "Diseñar una función que calcule el interés en monto que pagará un cliente al tomar un crédito, use como inputs (capital en soles, tasa de interés y duración del crédito en meses)"
      ],
      "metadata": {
        "id": "NW7S7xplKMGT"
      }
    },
    {
      "cell_type": "code",
      "source": [
        "def calcular_interes(capital, tasa, tiempo): #Nombre de la funcion es nombre(parametros)\n",
        "    interes = capital * tasa * tiempo\n",
        "    return interes"
      ],
      "metadata": {
        "id": "Rr6v1Y70KmYN"
      },
      "execution_count": null,
      "outputs": []
    },
    {
      "cell_type": "code",
      "source": [
        "calcular_interes(1000, 0.05, 1)"
      ],
      "metadata": {
        "id": "cAWTfFNETuwl",
        "outputId": "865115b9-0a0b-47dc-cc0d-570f04ed694e",
        "colab": {
          "base_uri": "https://localhost:8080/"
        }
      },
      "execution_count": null,
      "outputs": [
        {
          "output_type": "execute_result",
          "data": {
            "text/plain": [
              "50.0"
            ]
          },
          "metadata": {},
          "execution_count": 3
        }
      ]
    },
    {
      "cell_type": "code",
      "source": [
        "print(calcular_interes(1000, 0.05, 1))  # Resultado: 50.0"
      ],
      "metadata": {
        "id": "14HMlvihKrhq",
        "outputId": "e2de1139-fd36-4112-81d1-76cdfecea59e",
        "colab": {
          "base_uri": "https://localhost:8080/"
        }
      },
      "execution_count": null,
      "outputs": [
        {
          "output_type": "stream",
          "name": "stdout",
          "text": [
            "50.0\n"
          ]
        }
      ]
    },
    {
      "cell_type": "markdown",
      "source": [
        "**Ejemplo 2**\n",
        "\n",
        "Diseñar una función que calcule el nuevo precio incluyendo el descuento de una campaña específica, use como inputs (precio en soles y descuento en porcentaje)"
      ],
      "metadata": {
        "id": "6xNqUFtzKzW9"
      }
    },
    {
      "cell_type": "code",
      "source": [
        "precio_reg = float(input(\"Ingrese el precio del producto: \"))\n",
        "descuento = float(input(\"Ingrese el descuento en porcentaje: \"))\n",
        "\n",
        "def precio_des(precio_reg, descuento):\n",
        "    precio_f = precio_reg * (1 - descuento / 100)\n",
        "    return precio_f\n",
        "\n",
        "print(f'El precio con el descuento es:',precio_des(precio_reg,descuento))"
      ],
      "metadata": {
        "id": "5fZiaxejUGSU",
        "outputId": "d7b7385b-4f37-492e-de5e-b2cfb31ee6ec",
        "colab": {
          "base_uri": "https://localhost:8080/"
        }
      },
      "execution_count": null,
      "outputs": [
        {
          "output_type": "stream",
          "name": "stdout",
          "text": [
            "Ingrese el precio del producto: 100\n",
            "Ingrese el descuento en porcentaje: 10\n",
            "El precio con el descuento es: 90.0\n"
          ]
        }
      ]
    },
    {
      "cell_type": "markdown",
      "source": [
        "**Ejemplo 3**\n",
        "\n",
        "Diseñar una función que calcule el cpcc (Costo por Click) de un ad publicitario en internet, considerde como input (Tarifa en soles que se aplicará por click, número de clicks en el Ad)"
      ],
      "metadata": {
        "id": "zU28K4nWLe2N"
      }
    },
    {
      "cell_type": "code",
      "source": [
        "inversion = float(input(\"Ingrese la inversion total: \"))\n",
        "clicks = int(input(\"Ingrese el número de clicks: \"))\n",
        "\n",
        "def cpc(inversion, clicks):\n",
        "    cpc = inversion / clicks\n",
        "    return cpc\n",
        "\n",
        "print(f'El costo por click es:',cpc(inversion,clicks))"
      ],
      "metadata": {
        "id": "NEPc3GYQXE58",
        "outputId": "7cae9333-7fcd-492b-8530-e688b855d19e",
        "colab": {
          "base_uri": "https://localhost:8080/"
        }
      },
      "execution_count": null,
      "outputs": [
        {
          "output_type": "stream",
          "name": "stdout",
          "text": [
            "Ingrese la inversion total: 3000\n",
            "Ingrese el número de clicks: 100000\n",
            "El costo por click es: 0.03\n"
          ]
        }
      ]
    },
    {
      "cell_type": "markdown",
      "source": [
        "**2. RANGE EN PYTHON**\n",
        "\n",
        "**¿Qué es range()?**\n",
        "\n",
        "range() genera una secuencia de números, comúnmente usada para repetir acciones un número definido de veces."
      ],
      "metadata": {
        "id": "isGog95fMNbO"
      }
    },
    {
      "cell_type": "markdown",
      "source": [
        "**Estructura básica:**"
      ],
      "metadata": {
        "id": "-oR_Etb6MXAD"
      }
    },
    {
      "cell_type": "code",
      "source": [
        "range(inicio, fin, paso) #range tiene 3 parametros\n",
        "#range genera una secuencia de numeros"
      ],
      "metadata": {
        "id": "d8XGHQQkLT0Q",
        "outputId": "b8be7a57-3533-4572-f94b-8cd358fcce2a",
        "colab": {
          "base_uri": "https://localhost:8080/",
          "height": 144
        }
      },
      "execution_count": null,
      "outputs": [
        {
          "output_type": "error",
          "ename": "NameError",
          "evalue": "name 'inicio' is not defined",
          "traceback": [
            "\u001b[0;31m---------------------------------------------------------------------------\u001b[0m",
            "\u001b[0;31mNameError\u001b[0m                                 Traceback (most recent call last)",
            "\u001b[0;32m<ipython-input-27-099d22bc95ea>\u001b[0m in \u001b[0;36m<cell line: 0>\u001b[0;34m()\u001b[0m\n\u001b[0;32m----> 1\u001b[0;31m \u001b[0mrange\u001b[0m\u001b[0;34m(\u001b[0m\u001b[0minicio\u001b[0m\u001b[0;34m,\u001b[0m \u001b[0mfin\u001b[0m\u001b[0;34m,\u001b[0m \u001b[0mpaso\u001b[0m\u001b[0;34m)\u001b[0m\u001b[0;34m\u001b[0m\u001b[0;34m\u001b[0m\u001b[0m\n\u001b[0m",
            "\u001b[0;31mNameError\u001b[0m: name 'inicio' is not defined"
          ]
        }
      ]
    },
    {
      "cell_type": "markdown",
      "source": [
        "**Ejemplo 1**"
      ],
      "metadata": {
        "id": "bLDJfdmEMbfS"
      }
    },
    {
      "cell_type": "code",
      "source": [
        "for i in range(5):\n",
        "    print(i)  # Imprime del 0 al 4"
      ],
      "metadata": {
        "id": "mmyPk4RzMcNg",
        "outputId": "b9dea55c-eea0-4562-8282-cc9c6c631357",
        "colab": {
          "base_uri": "https://localhost:8080/"
        }
      },
      "execution_count": null,
      "outputs": [
        {
          "output_type": "stream",
          "name": "stdout",
          "text": [
            "0\n",
            "1\n",
            "2\n",
            "3\n",
            "4\n"
          ]
        }
      ]
    },
    {
      "cell_type": "markdown",
      "source": [
        "**Ejemplo 2**\n",
        "\n",
        "Diseñe una función que presente el portafolio de productos que tiene un negocio"
      ],
      "metadata": {
        "id": "valEOhXnMh5T"
      }
    },
    {
      "cell_type": "code",
      "source": [
        "productos = [\"zapatos\", \"camisa\", \"pantalón\"]\n",
        "for i in range(len(productos)):\n",
        "    print(\"Producto:\", productos[i])"
      ],
      "metadata": {
        "id": "h8eQF6oeMiYZ",
        "outputId": "446a0b18-251e-4bfa-be92-6eff08b91e35",
        "colab": {
          "base_uri": "https://localhost:8080/"
        }
      },
      "execution_count": null,
      "outputs": [
        {
          "output_type": "stream",
          "name": "stdout",
          "text": [
            "Producto: zapatos\n",
            "Producto: camisa\n",
            "Producto: pantalón\n"
          ]
        }
      ]
    },
    {
      "cell_type": "code",
      "source": [
        "len(productos)"
      ],
      "metadata": {
        "id": "qS0_SOi6b1ED",
        "outputId": "b84a9cf9-78c9-49c8-e817-7b8e93b2ae8c",
        "colab": {
          "base_uri": "https://localhost:8080/"
        }
      },
      "execution_count": null,
      "outputs": [
        {
          "output_type": "execute_result",
          "data": {
            "text/plain": [
              "3"
            ]
          },
          "metadata": {},
          "execution_count": 30
        }
      ]
    },
    {
      "cell_type": "code",
      "source": [
        "range(3)"
      ],
      "metadata": {
        "id": "9ZzYJ0pib4TU",
        "outputId": "3e9cda69-8f8f-42d7-fff4-5a956dabdc6f",
        "colab": {
          "base_uri": "https://localhost:8080/"
        }
      },
      "execution_count": null,
      "outputs": [
        {
          "output_type": "execute_result",
          "data": {
            "text/plain": [
              "range(0, 3)"
            ]
          },
          "metadata": {},
          "execution_count": 31
        }
      ]
    },
    {
      "cell_type": "markdown",
      "source": [
        "**4. EJERCICIOS DE PRÁCTICA EN CLASE**\n",
        "\n",
        "**Funciones:**\n",
        "\n",
        "1. Crear una función que calcule el IGV (18%) de una venta.\n",
        "\n",
        "2. Crear una función que reciba una lista de ingresos mensuales y devuelva el promedio.\n",
        "\n",
        "3. Crear una función que indique si un cliente es \"Premium\" (si tiene más de 3 productos).\n",
        "\n",
        "**Range:**\n",
        "\n",
        "1. Usar range() para imprimir los primeros 10 múltiplos de 5.\n",
        "\n",
        "2. Usar range() para simular 6 meses de ahorro mensual y mostrar el total ahorrado."
      ],
      "metadata": {
        "id": "4xIvrZsOM41P"
      }
    },
    {
      "cell_type": "markdown",
      "source": [],
      "metadata": {
        "id": "-KpNx2ZVgAsb"
      }
    },
    {
      "cell_type": "markdown",
      "source": [],
      "metadata": {
        "id": "XjwgH3MZf2Z3"
      }
    },
    {
      "cell_type": "markdown",
      "source": [
        "1. Crear una función que calcule el IGV (18%) de una venta."
      ],
      "metadata": {
        "id": "GUSe6auyf3wj"
      }
    },
    {
      "cell_type": "code",
      "source": [
        "def igv(precio):\n",
        "    igv = precio * 0.18\n",
        "    return igv\n",
        "\n",
        "print(f'El IGV es:',igv(100))"
      ],
      "metadata": {
        "id": "oe0_PeOodLL5",
        "outputId": "a6cacee3-8a9b-4e2d-8f29-a7c3c3ca1fb2",
        "colab": {
          "base_uri": "https://localhost:8080/"
        }
      },
      "execution_count": null,
      "outputs": [
        {
          "output_type": "stream",
          "name": "stdout",
          "text": [
            "El IGV es: 18.0\n"
          ]
        }
      ]
    },
    {
      "cell_type": "markdown",
      "source": [
        "2. Crear una función que reciba una lista de ingresos mensuales y devuelva el promedio."
      ],
      "metadata": {
        "id": "HtZVXlwcgOuE"
      }
    },
    {
      "cell_type": "code",
      "source": [
        "#definiendo la formula\n",
        "def calcular_promedio(ingresos_mensuales):\n",
        "    if len(ingresos_mensuales) == 0:\n",
        "        return 0\n",
        "    promedio = sum(ingresos_mensuales) / len(ingresos_mensuales)\n",
        "    return promedio\n",
        "\n",
        "# Ejemplo de uso\n",
        "ingresos = [2500, 3000, 2800, 3100]\n",
        "prom = calcular_promedio(ingresos)\n",
        "print(f\"El promedio de ingresos mensuales es: {prom:.2f}\")"
      ],
      "metadata": {
        "id": "cwu9BtvVdhEK",
        "outputId": "a684f9b2-5e38-4dbf-d4c4-205a7d7614d9",
        "colab": {
          "base_uri": "https://localhost:8080/"
        }
      },
      "execution_count": 42,
      "outputs": [
        {
          "output_type": "stream",
          "name": "stdout",
          "text": [
            "El promedio de ingresos mensuales es: 2850.00\n"
          ]
        }
      ]
    },
    {
      "cell_type": "markdown",
      "source": [
        "3. Crear una función que indique si un cliente es \"Premium\" (si tiene más de 3 productos)."
      ],
      "metadata": {
        "id": "mhhMgGFpgTYh"
      }
    },
    {
      "cell_type": "code",
      "source": [
        "def cliente_premium(num_productos):\n",
        "    if len(num_productos) > 3:\n",
        "        return \"Premium\"\n",
        "    else:\n",
        "        return \"No Premium\"\n",
        "\n",
        "cliente_prod1 = ['cef','cuenta premio']\n",
        "cliente_prod2 = ['cef', 'TC', 'Hipotecario', 'Vehicular']\n",
        "\n",
        "print(cliente_premium(cliente_prod1))\n",
        "print(cliente_premium(cliente_prod2))"
      ],
      "metadata": {
        "id": "CJu6LrKzqR62",
        "outputId": "cfeb2448-4ee2-4148-8223-73345787fdc1",
        "colab": {
          "base_uri": "https://localhost:8080/"
        }
      },
      "execution_count": 52,
      "outputs": [
        {
          "output_type": "stream",
          "name": "stdout",
          "text": [
            "No Premium\n",
            "Premium\n"
          ]
        }
      ]
    },
    {
      "cell_type": "code",
      "source": [
        "def cliente_premium(num_productos):\n",
        "    if num_productos > 3:\n",
        "        return \"Premium\"\n",
        "    else:\n",
        "        return \"No Premium\"\n",
        "\n",
        "productos = int(input(\"Ingrese la cantidad de productos del cliente: \"))\n",
        "categoria = cliente_premium(productos)\n",
        "print(f\"El cliente es: {categoria}\")"
      ],
      "metadata": {
        "id": "yq7zlY5Vfuoe",
        "outputId": "8e9e7ec9-a2ed-40a6-c9d1-b33e389c4fd5",
        "colab": {
          "base_uri": "https://localhost:8080/"
        }
      },
      "execution_count": 53,
      "outputs": [
        {
          "output_type": "stream",
          "name": "stdout",
          "text": [
            "Ingrese la cantidad de productos del cliente: 5\n",
            "El cliente es: Premium\n"
          ]
        }
      ]
    },
    {
      "cell_type": "markdown",
      "source": [
        "Usar range() para imprimir los primeros 10 múltiplos de 5."
      ],
      "metadata": {
        "id": "uZKZ_TLEsF96"
      }
    },
    {
      "cell_type": "code",
      "source": [
        "print(\"Primeros 10 múltiplos de 5:\")\n",
        "for numero in range(1,11,1):\n",
        "    producto = 5 * numero\n",
        "    print(f'5 x {numero} = {producto}')"
      ],
      "metadata": {
        "id": "0t9te5O2sFv2",
        "outputId": "c1d82481-95b0-4400-f41e-430bb5dc735e",
        "colab": {
          "base_uri": "https://localhost:8080/"
        }
      },
      "execution_count": 67,
      "outputs": [
        {
          "output_type": "stream",
          "name": "stdout",
          "text": [
            "Primeros 10 múltiplos de 5:\n",
            "5 x 1 = 5\n",
            "5 x 2 = 10\n",
            "5 x 3 = 15\n",
            "5 x 4 = 20\n",
            "5 x 5 = 25\n",
            "5 x 6 = 30\n",
            "5 x 7 = 35\n",
            "5 x 8 = 40\n",
            "5 x 9 = 45\n",
            "5 x 10 = 50\n"
          ]
        }
      ]
    },
    {
      "cell_type": "markdown",
      "source": [
        "\n",
        "Usar range() para simular 6 meses de ahorro mensual y mostrar el total ahorrado."
      ],
      "metadata": {
        "id": "Eg51vAYJsHxk"
      }
    },
    {
      "cell_type": "code",
      "source": [
        "# Solicitar al usuario cuánto va a ahorrar cada mes\n",
        "ahorro_mensual = float(input(\"Ingrese el monto que desea ahorrar cada mes: \"))\n",
        "\n",
        "# Inicializar el total acumulado\n",
        "total_ahorrado = 0\n",
        "\n",
        "# Simular 6 meses de ahorro usando range\n",
        "for mes in range(1, 7):\n",
        "    total_ahorrado += ahorro_mensual\n",
        "    print(f\"Mes {mes}: Ahorro acumulado: S/ {total_ahorrado}\")"
      ],
      "metadata": {
        "id": "MckEiBa9sKNR",
        "outputId": "cc5559bd-7173-485e-f364-392978d4a15c",
        "colab": {
          "base_uri": "https://localhost:8080/"
        }
      },
      "execution_count": 58,
      "outputs": [
        {
          "output_type": "stream",
          "name": "stdout",
          "text": [
            "Ingrese el monto que desea ahorrar cada mes: 1000\n",
            "Mes 1: ahorró S/ 1000.0\n",
            "Mes 2: ahorró S/ 2000.0\n",
            "Mes 3: ahorró S/ 3000.0\n",
            "Mes 4: ahorró S/ 4000.0\n",
            "Mes 5: ahorró S/ 5000.0\n",
            "Mes 6: ahorró S/ 6000.0\n",
            "\n",
            "Total ahorrado en 6 meses: S/ 6000.00\n"
          ]
        }
      ]
    },
    {
      "cell_type": "markdown",
      "source": [
        "**5. MINI PROYECTO FINAL**\n",
        "\n",
        "**Descripción:**\n",
        "\n",
        "Simular un sistema básico para evaluar el rendimiento financiero de clientes bancarios.\n",
        "\n",
        "**Requisitos:**\n",
        "\n",
        "- Lista de clientes (IDs)\n",
        "\n",
        "- Diccionario con ingresos mensuales\n",
        "\n",
        "- Funciones para:\n",
        "\n",
        "- Calcular ingreso anual\n",
        "\n",
        "- Clasificar al cliente (alto, medio, bajo ingreso)\n",
        "\n",
        "- Uso de range para simular 12 meses\n",
        "\n",
        "- Uso de if, else, for, while"
      ],
      "metadata": {
        "id": "qZKELUZANEtx"
      }
    },
    {
      "cell_type": "code",
      "source": [
        "# Lista de clientes (IDs)\n",
        "clientes = [\"C001\", \"C002\", \"C003\", \"C004\", \"C005\"]\n",
        "\n",
        "# Diccionario con ingresos mensuales\n",
        "ingresos_mensuales = {\n",
        "    \"C001\": 4200,\n",
        "    \"C002\": 1500,\n",
        "    \"C003\": 3000,\n",
        "    \"C004\": 7000,\n",
        "    \"C005\": 2500\n",
        "}\n",
        "\n",
        "# Función para calcular ingreso anual\n",
        "def calcular_ingreso_anual(ingreso_mensual):\n",
        "    ingreso_total = 0\n",
        "    for mes in range(12):  # Simula los 12 meses\n",
        "        ingreso_total += ingreso_mensual\n",
        "    return ingreso_total\n",
        "\n",
        "# Función para clasificar al cliente según ingreso anual\n",
        "def clasificar_cliente(ingreso_anual):\n",
        "    if ingreso_anual >= 60000:\n",
        "        return \"Alto ingreso\"\n",
        "    elif ingreso_anual >= 30000:\n",
        "        return \"Medio ingreso\"\n",
        "    else:\n",
        "        return \"Bajo ingreso\"\n",
        "\n",
        "# Evaluar cada cliente\n",
        "index = 0\n",
        "while index < len(clientes):\n",
        "    cliente_id = clientes[index]\n",
        "    ingreso_mensual = ingresos_mensuales[cliente_id]\n",
        "    ingreso_anual = calcular_ingreso_anual(ingreso_mensual)\n",
        "    clasificacion = clasificar_cliente(ingreso_anual)\n",
        "\n",
        "    print(f\"Cliente {cliente_id}:\")\n",
        "    print(f\"  Ingreso mensual: S/ {ingreso_mensual}\")\n",
        "    print(f\"  Ingreso anual: S/ {ingreso_anual}\")\n",
        "    print(f\"  Clasificación: {clasificacion}\")\n",
        "    print(\"-\" * 20)\n",
        "\n",
        "    index += 1\n"
      ],
      "metadata": {
        "id": "ZnzK9eFCNW9F",
        "outputId": "37e4a746-1b3f-43f4-84f6-336296e56516",
        "colab": {
          "base_uri": "https://localhost:8080/"
        }
      },
      "execution_count": 51,
      "outputs": [
        {
          "output_type": "stream",
          "name": "stdout",
          "text": [
            "Cliente C001:\n",
            "  Ingreso mensual: S/ 4200\n",
            "  Ingreso anual: S/ 50400\n",
            "  Clasificación: Medio ingreso\n",
            "--------------------\n",
            "Cliente C002:\n",
            "  Ingreso mensual: S/ 1500\n",
            "  Ingreso anual: S/ 18000\n",
            "  Clasificación: Bajo ingreso\n",
            "--------------------\n",
            "Cliente C003:\n",
            "  Ingreso mensual: S/ 3000\n",
            "  Ingreso anual: S/ 36000\n",
            "  Clasificación: Medio ingreso\n",
            "--------------------\n",
            "Cliente C004:\n",
            "  Ingreso mensual: S/ 7000\n",
            "  Ingreso anual: S/ 84000\n",
            "  Clasificación: Alto ingreso\n",
            "--------------------\n",
            "Cliente C005:\n",
            "  Ingreso mensual: S/ 2500\n",
            "  Ingreso anual: S/ 30000\n",
            "  Clasificación: Medio ingreso\n",
            "--------------------\n"
          ]
        }
      ]
    }
  ]
}