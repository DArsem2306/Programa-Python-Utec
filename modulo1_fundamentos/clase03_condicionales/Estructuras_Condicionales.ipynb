{
  "nbformat": 4,
  "nbformat_minor": 0,
  "metadata": {
    "colab": {
      "provenance": [],
      "include_colab_link": true
    },
    "kernelspec": {
      "name": "python3",
      "display_name": "Python 3"
    },
    "language_info": {
      "name": "python"
    }
  },
  "cells": [
    {
      "cell_type": "markdown",
      "metadata": {
        "id": "view-in-github",
        "colab_type": "text"
      },
      "source": [
        "<a href=\"https://colab.research.google.com/github/DArsem2306/Programa-Python-Utec/blob/main/modulo1_fundamentos/clase03_condicionales/Estructuras_Condicionales.ipynb\" target=\"_parent\"><img src=\"https://colab.research.google.com/assets/colab-badge.svg\" alt=\"Open In Colab\"/></a>"
      ]
    },
    {
      "cell_type": "markdown",
      "source": [
        "<img src=\"https://posgrado.utec.edu.pe/sites/default/files/2023-08/Testimonial-home-2.jpg\" alt=\"HTML5 Icon\" width=\"900\" height=\"250\" >\n"
      ],
      "metadata": {
        "id": "v3JGreO5zErE"
      }
    },
    {
      "cell_type": "markdown",
      "source": [
        "# **Estructuras Condicionales**"
      ],
      "metadata": {
        "id": "A9PFo41IzIqt"
      }
    },
    {
      "cell_type": "markdown",
      "source": [
        "---\n",
        "\n",
        "**Objetivo**\n",
        "\n",
        "- Comprender y aplicar pruebas condicionales usando comparaciones y operadores lógicos.\n",
        "- Utilizar sentencias `if`, `if-else` y `if-elif-else` para controlar el flujo de un programa.\n",
        "- Evaluar condiciones simples, múltiples y compuestas, incluyendo la pertenencia a listas.\n",
        "\n",
        "\n"
      ],
      "metadata": {
        "id": "DVXsQR7LzUZt"
      }
    },
    {
      "cell_type": "markdown",
      "source": [
        "---\n",
        "\n",
        "**Contenido**\n",
        "\n",
        "- 1. Pruebas Condicionales\n",
        "  - Igualdad y desigualdad\n",
        "  - Comparaciones numéricas\n",
        "  - Mayúsculas/minúsculas\n",
        "  - Condiciones múltiples y booleanos\n",
        "  - Verificación en listas\n",
        "- 2. Sentencias IF\n",
        "  - If simple\n",
        "  - If-else\n",
        "  - If-elif-else\n",
        "  - If sin else\n",
        "  - Múltiples if independientes\n",
        "\n",
        "  ---"
      ],
      "metadata": {
        "id": "Imzierfsz88s"
      }
    },
    {
      "cell_type": "markdown",
      "source": [
        "## 1. Pruebas Condicionales\n"
      ],
      "metadata": {
        "id": "lXLgRjAB0HX5"
      }
    },
    {
      "cell_type": "markdown",
      "source": [
        "### 1.1 Comprobar la igualdad\n"
      ],
      "metadata": {
        "id": "cnslePwn0L1e"
      }
    },
    {
      "cell_type": "markdown",
      "source": [
        "Las condiciones permiten verificar si dos valores son exactamente iguales usando `==`. Esta operación es fundamental para evaluar decisiones básicas en programas interactivos.\n"
      ],
      "metadata": {
        "id": "h6BAkjWN0NTh"
      }
    },
    {
      "cell_type": "markdown",
      "source": [
        "**Ejemplo**"
      ],
      "metadata": {
        "id": "HpNwudoq0RcY"
      }
    },
    {
      "cell_type": "code",
      "execution_count": null,
      "metadata": {
        "id": "EugCWlpFzDDJ"
      },
      "outputs": [],
      "source": [
        "color = 'rojo'"
      ]
    },
    {
      "cell_type": "code",
      "source": [
        "print(color)"
      ],
      "metadata": {
        "id": "Fmd5F02Y-zSy",
        "outputId": "14778dc8-199d-47b9-cfa6-68696820d37c",
        "colab": {
          "base_uri": "https://localhost:8080/"
        }
      },
      "execution_count": null,
      "outputs": [
        {
          "output_type": "stream",
          "name": "stdout",
          "text": [
            "rojo\n"
          ]
        }
      ]
    },
    {
      "cell_type": "code",
      "source": [
        "print(color == 'rojo')  # True"
      ],
      "metadata": {
        "id": "dkWed9JC0WnE",
        "outputId": "a48a2017-5003-4c8b-f105-9bfd83a59129",
        "colab": {
          "base_uri": "https://localhost:8080/"
        }
      },
      "execution_count": null,
      "outputs": [
        {
          "output_type": "stream",
          "name": "stdout",
          "text": [
            "True\n"
          ]
        }
      ]
    },
    {
      "cell_type": "code",
      "source": [
        "print(color == 'verde')  # False"
      ],
      "metadata": {
        "id": "BC1BC9q60V3z",
        "outputId": "3bb353d9-2e8a-46cd-847c-62ac93c3e4d9",
        "colab": {
          "base_uri": "https://localhost:8080/"
        }
      },
      "execution_count": null,
      "outputs": [
        {
          "output_type": "stream",
          "name": "stdout",
          "text": [
            "False\n"
          ]
        }
      ]
    },
    {
      "cell_type": "markdown",
      "source": [
        "**Ejercicio 1.1**\n",
        "\n",
        "Declara una variable con tu comida favorita y verifica si es igual a 'pizza'. Imprime un mensaje según el resultado.\n"
      ],
      "metadata": {
        "id": "no3xYmgP0ZdP"
      }
    },
    {
      "cell_type": "code",
      "source": [
        "fav_food = \"pizza\"\n",
        "print(fav_food == \"pizza\") #true\n",
        "print(fav_food == \"pollo\") #false"
      ],
      "metadata": {
        "id": "gkNmow3a0f1W",
        "outputId": "0f05e1e6-71d9-4e5e-8603-e9b1c8d88a46",
        "colab": {
          "base_uri": "https://localhost:8080/"
        }
      },
      "execution_count": null,
      "outputs": [
        {
          "output_type": "stream",
          "name": "stdout",
          "text": [
            "True\n",
            "False\n"
          ]
        }
      ]
    },
    {
      "cell_type": "code",
      "source": [
        "fav_food = input(\"Cual es tu comida favorita?: \") #usando Input\n",
        "myfav_food = \"pizza\"\n",
        "\n",
        "if fav_food == myfav_food:\n",
        "    print(\"Tenemos los mismos gusto\")\n",
        "else:\n",
        "    print(f\"Tu comida favorita es {fav_food}, la mia es la pizza\")"
      ],
      "metadata": {
        "id": "gX7WdwiVAep9",
        "outputId": "47d2f2fd-1bea-4418-8eab-fedda4aa3a5a",
        "colab": {
          "base_uri": "https://localhost:8080/"
        }
      },
      "execution_count": null,
      "outputs": [
        {
          "output_type": "stream",
          "name": "stdout",
          "text": [
            "Cual es tu comida favorita?: camote\n",
            "Tu comida favorita es camote, la mia es la pizza\n"
          ]
        }
      ]
    },
    {
      "cell_type": "code",
      "source": [
        "fav_food = input(\"Cual es tu comida favorita?: \") #usando Input\n",
        "myfav_food = \"pizza\"\n",
        "\n",
        "print(f\"Tu comida favorita es {fav_food}, the condition is {fav_food == myfav_food}\")"
      ],
      "metadata": {
        "id": "NAxpBLqLCoxm",
        "outputId": "0ecbec74-2618-4d4f-a304-1568f91bffb5",
        "colab": {
          "base_uri": "https://localhost:8080/"
        }
      },
      "execution_count": null,
      "outputs": [
        {
          "output_type": "stream",
          "name": "stdout",
          "text": [
            "Cual es tu comida favorita?: atun\n",
            "Tu comida favorita es atun, the condition is False\n"
          ]
        }
      ]
    },
    {
      "cell_type": "markdown",
      "source": [
        "### 1.2 Mayúsculas y minúsculas en igualdad\n",
        "\n"
      ],
      "metadata": {
        "id": "FffdvjBt0gS6"
      }
    },
    {
      "cell_type": "markdown",
      "source": [
        "Las cadenas en Python son sensibles a mayúsculas. Para hacer comparaciones insensibles al formato, se puede usar `.lower()` o `.upper()`."
      ],
      "metadata": {
        "id": "BmNqgS540mKz"
      }
    },
    {
      "cell_type": "markdown",
      "source": [
        "**Ejemplo**"
      ],
      "metadata": {
        "id": "DmA3GcBH0vtS"
      }
    },
    {
      "cell_type": "code",
      "source": [
        "animal = 'Gato'"
      ],
      "metadata": {
        "id": "38Q7H1Eo0s8X"
      },
      "execution_count": null,
      "outputs": []
    },
    {
      "cell_type": "code",
      "source": [
        "print(animal == 'gato')        # False"
      ],
      "metadata": {
        "id": "H6ILyOQD0yRV"
      },
      "execution_count": null,
      "outputs": []
    },
    {
      "cell_type": "code",
      "source": [
        "print(animal.lower() == 'gato')  # True"
      ],
      "metadata": {
        "id": "-0cnvpPB0zB6"
      },
      "execution_count": null,
      "outputs": []
    },
    {
      "cell_type": "code",
      "source": [
        "fav_food = input(\"Cual es tu comida favorita?: \") #usando Input\n",
        "myfav_food = \"pizza\"\n",
        "\n",
        "if fav_food.lower() == myfav_food:\n",
        "    print(\"Tenemos los mismos gustos\")\n",
        "else:\n",
        "    print(f\"Tu comida favorita es {fav_food}, la mia es la pizza\")"
      ],
      "metadata": {
        "id": "KntQSWiLEYa_",
        "outputId": "aaf316df-2d3e-4713-f24d-d1b5941bec0a",
        "colab": {
          "base_uri": "https://localhost:8080/"
        }
      },
      "execution_count": null,
      "outputs": [
        {
          "output_type": "stream",
          "name": "stdout",
          "text": [
            "Cual es tu comida favorita?: pizza\n",
            "Tenemos los mismos gusto\n"
          ]
        }
      ]
    },
    {
      "cell_type": "code",
      "source": [
        "fav_food = input(\"Cual es tu comida favorita?: \").lower().strip() #usando Input\n",
        "myfav_food = \"pizza\"\n",
        "\n",
        "if fav_food == myfav_food:\n",
        "    print(\"Tenemos los mismos gustos\")\n",
        "else:\n",
        "    print(f\"Tu comida favorita es {fav_food}, la mia es la pizza\")"
      ],
      "metadata": {
        "id": "CQXBtJahHxF5",
        "outputId": "8e67747a-f1a5-463f-d613-5c7dd0ede5c0",
        "colab": {
          "base_uri": "https://localhost:8080/"
        }
      },
      "execution_count": null,
      "outputs": [
        {
          "output_type": "stream",
          "name": "stdout",
          "text": [
            "Cual es tu comida favorita?:      PIZZA \n",
            "Tenemos los mismos gustos\n"
          ]
        }
      ]
    },
    {
      "cell_type": "markdown",
      "source": [
        "**Ejercicio 1.2**\n",
        "\n",
        "Pide al usuario su ciudad favorita y comprueba si es igual a 'lima', ignorando mayúsculas.\n"
      ],
      "metadata": {
        "id": "PmxEydgl02Uk"
      }
    },
    {
      "cell_type": "code",
      "source": [
        "fav_city = input(\"Cual es tu ciudad favorita?: \") #usando Input\n",
        "myfav_city = \"lima\"\n",
        "\n",
        "if fav_city.lower() == myfav_city:\n",
        "    print(\"La mia tambien!\")\n",
        "else:\n",
        "    print(f\"Tu ciudad favorita es {fav_city}, la mia es Lima\")"
      ],
      "metadata": {
        "id": "V9iqcPyD0-d9",
        "outputId": "da355f45-5367-40ad-dcd2-e2930b79b1b3",
        "colab": {
          "base_uri": "https://localhost:8080/"
        }
      },
      "execution_count": null,
      "outputs": [
        {
          "output_type": "stream",
          "name": "stdout",
          "text": [
            "Cual es tu ciudad favorita?: Lima\n",
            "La mia tambien!\n"
          ]
        }
      ]
    },
    {
      "cell_type": "markdown",
      "source": [
        "### 1.3 Desigualdad\n",
        "\n",
        "El operador `!=` permite comprobar si dos valores son distintos. Es útil cuando queremos ejecutar una acción solo si algo **no** ocurre.\n"
      ],
      "metadata": {
        "id": "UNuwlNiC1BHb"
      }
    },
    {
      "cell_type": "markdown",
      "source": [
        "**Ejemplo**"
      ],
      "metadata": {
        "id": "tJSg4HJy1NnD"
      }
    },
    {
      "cell_type": "code",
      "source": [
        "1 == 2"
      ],
      "metadata": {
        "id": "HhXg9YvzJdnc",
        "outputId": "ebcba2cc-d726-4beb-fa38-77d7a332750d",
        "colab": {
          "base_uri": "https://localhost:8080/"
        }
      },
      "execution_count": null,
      "outputs": [
        {
          "output_type": "execute_result",
          "data": {
            "text/plain": [
              "False"
            ]
          },
          "metadata": {},
          "execution_count": 51
        }
      ]
    },
    {
      "cell_type": "code",
      "source": [
        "1 != 2"
      ],
      "metadata": {
        "id": "AsglB7dzJgnw",
        "outputId": "1839bd64-e58e-472e-c571-50cfb95ec45f",
        "colab": {
          "base_uri": "https://localhost:8080/"
        }
      },
      "execution_count": null,
      "outputs": [
        {
          "output_type": "execute_result",
          "data": {
            "text/plain": [
              "True"
            ]
          },
          "metadata": {},
          "execution_count": 52
        }
      ]
    },
    {
      "cell_type": "code",
      "source": [
        "lenguaje = 'Python'\n",
        "if lenguaje != 'Java':\n",
        "    print(\"Estás aprendiendo un buen lenguaje.\")"
      ],
      "metadata": {
        "id": "Zf4b76Tf1Cui",
        "outputId": "d36c0f87-32e8-4873-e579-59eb0b31f126",
        "colab": {
          "base_uri": "https://localhost:8080/"
        }
      },
      "execution_count": null,
      "outputs": [
        {
          "output_type": "stream",
          "name": "stdout",
          "text": [
            "Estás aprendiendo un buen lenguaje.\n"
          ]
        }
      ]
    },
    {
      "cell_type": "markdown",
      "source": [
        "**Ejercicio 1.3**\n",
        "\n",
        "Crea una variable con tu deporte favorito y verifica que no sea \"fútbol\". Imprime un mensaje adecuado.\n"
      ],
      "metadata": {
        "id": "3FDNFb-71RCT"
      }
    },
    {
      "cell_type": "code",
      "source": [],
      "metadata": {
        "id": "Z2OcAhqh1Tcc"
      },
      "execution_count": null,
      "outputs": []
    },
    {
      "cell_type": "markdown",
      "source": [
        "### 1.4 Comparaciones numéricas\n",
        "\n",
        "Permiten comparar valores numéricos para establecer relaciones como mayor, menor o igual. Esto es clave en validaciones, rangos y lógica de negocio.\n"
      ],
      "metadata": {
        "id": "FZiB43wL1T21"
      }
    },
    {
      "cell_type": "markdown",
      "source": [
        "**Ejemplo**"
      ],
      "metadata": {
        "id": "2RqXr4Jg3eGO"
      }
    },
    {
      "cell_type": "code",
      "source": [
        "edad = 18\n",
        "if edad >= 18:\n",
        "    print(\"Eres mayor de edad.\")"
      ],
      "metadata": {
        "id": "awVISLb61XGY",
        "outputId": "083357a8-5255-434f-9462-fd9eebf5e4b3",
        "colab": {
          "base_uri": "https://localhost:8080/"
        }
      },
      "execution_count": null,
      "outputs": [
        {
          "output_type": "stream",
          "name": "stdout",
          "text": [
            "Eres mayor de edad.\n"
          ]
        }
      ]
    },
    {
      "cell_type": "markdown",
      "source": [
        "**Ejercicio 1.4**\n",
        "\n",
        "Verifica si una persona puede jubilarse (edad mayor o igual a 65). Imprime un mensaje.\n"
      ],
      "metadata": {
        "id": "QyzSWy7a24eC"
      }
    },
    {
      "cell_type": "code",
      "source": [
        "#usando input\n",
        "age = int(input(\"Cual es tu edad?\"))\n",
        "if age >= 65:\n",
        "  print('Ya te puedes jubilar!!!')\n",
        "else:\n",
        "  print(\"A seguir trabajando\")"
      ],
      "metadata": {
        "id": "d4SSysS_26x_",
        "outputId": "c5477843-99a4-4079-b680-8c46616f396f",
        "colab": {
          "base_uri": "https://localhost:8080/"
        }
      },
      "execution_count": null,
      "outputs": [
        {
          "output_type": "stream",
          "name": "stdout",
          "text": [
            "Cual es tu edad?60\n",
            "A seguir trabajando\n"
          ]
        }
      ]
    },
    {
      "cell_type": "markdown",
      "source": [
        "### 1.5 Comprobar varias condiciones\n",
        "\n",
        "Usamos operadores lógicos para combinar condiciones. `and` exige que ambas sean verdaderas; `or`, que al menos una lo sea; `not` invierte el valor lógico.\n"
      ],
      "metadata": {
        "id": "0T7KPhzJ286B"
      }
    },
    {
      "cell_type": "markdown",
      "source": [
        "**Ejemplo**"
      ],
      "metadata": {
        "id": "4wjYI1Y53cP2"
      }
    },
    {
      "cell_type": "code",
      "source": [
        "edad = 20\n",
        "licencia = True\n",
        "vivienda = 'renta'\n",
        "if edad >= 18 and licencia:\n",
        "    print(\"Puedes conducir.\")"
      ],
      "metadata": {
        "id": "bOSv8rYH2-9S",
        "colab": {
          "base_uri": "https://localhost:8080/"
        },
        "outputId": "4ed94b03-b727-42f6-81b6-57fa1f505fa5"
      },
      "execution_count": 75,
      "outputs": [
        {
          "output_type": "stream",
          "name": "stdout",
          "text": [
            "Puedes conducir.\n"
          ]
        }
      ]
    },
    {
      "cell_type": "code",
      "source": [
        "a = edad >= 18\n",
        "b = licencia == True\n",
        "c = vivienda == 'propia'"
      ],
      "metadata": {
        "id": "QzeOPl8uTODu"
      },
      "execution_count": 78,
      "outputs": []
    },
    {
      "cell_type": "code",
      "source": [
        "a + b + c"
      ],
      "metadata": {
        "colab": {
          "base_uri": "https://localhost:8080/"
        },
        "id": "ZIvDCQsATmUm",
        "outputId": "f844fbd2-2aee-4359-b861-eba6ac1189ef"
      },
      "execution_count": 79,
      "outputs": [
        {
          "output_type": "execute_result",
          "data": {
            "text/plain": [
              "2"
            ]
          },
          "metadata": {},
          "execution_count": 79
        }
      ]
    },
    {
      "cell_type": "code",
      "source": [
        "if (a + b + c >=2):\n",
        "  print(\"Cumples con al menos 2 condiciones\")\n",
        "else:\n",
        "  print(\"No cumples\")"
      ],
      "metadata": {
        "colab": {
          "base_uri": "https://localhost:8080/"
        },
        "id": "QX-obdzmT5I_",
        "outputId": "c5788c52-3231-46a7-9445-fbaa270c1731"
      },
      "execution_count": 80,
      "outputs": [
        {
          "output_type": "stream",
          "name": "stdout",
          "text": [
            "Cumples con al menos 2 condiciones\n"
          ]
        }
      ]
    },
    {
      "cell_type": "code",
      "source": [
        "(edad >= 18) & (licencia == True)"
      ],
      "metadata": {
        "colab": {
          "base_uri": "https://localhost:8080/"
        },
        "id": "KmV-z0ugUi0K",
        "outputId": "01e33fe3-1710-4b11-e37c-b9dcacd94dcc"
      },
      "execution_count": 82,
      "outputs": [
        {
          "output_type": "execute_result",
          "data": {
            "text/plain": [
              "True"
            ]
          },
          "metadata": {},
          "execution_count": 82
        }
      ]
    },
    {
      "cell_type": "code",
      "source": [
        "(edad >= 18) | (licencia == True)"
      ],
      "metadata": {
        "colab": {
          "base_uri": "https://localhost:8080/"
        },
        "id": "bhdpgjsBUvIf",
        "outputId": "74fc0db4-8fc3-4286-ed51-f02c2c02769d"
      },
      "execution_count": 83,
      "outputs": [
        {
          "output_type": "execute_result",
          "data": {
            "text/plain": [
              "True"
            ]
          },
          "metadata": {},
          "execution_count": 83
        }
      ]
    },
    {
      "cell_type": "markdown",
      "source": [
        "**Ejercicio 1.5**\n",
        "\n",
        "Simula que una persona puede conducir si tiene más de 18 años **y** licencia vigente. Usa variables para edad y licencia.\n"
      ],
      "metadata": {
        "id": "gRPgH_4N3IMD"
      }
    },
    {
      "cell_type": "code",
      "source": [
        "print('Bienvenido a Ren a Car')\n",
        "print(\"Antes de continuar, por favor responde a las siguientes preguntas\")\n",
        "age = int(input(\"Cual es tu edad?: \"))\n",
        "licence = input(\"Tienes una licencia de conducir vigente?: \")\n",
        "\n",
        "if (age >= 18) and (licence.lower() == 'si'):\n",
        "    print(\"Puedes conducir. Acercate al estacionamiento #18\")\n",
        "else :\n",
        "    print(\"Lo sentimos, aun no puedes conducir. Es necesario ser mayor de edad y contar con una licencia de conducir vigente\")"
      ],
      "metadata": {
        "id": "P8tmK2Xp3K4U",
        "colab": {
          "base_uri": "https://localhost:8080/"
        },
        "outputId": "102ed080-c577-4bd5-9298-af42406a69d2"
      },
      "execution_count": 72,
      "outputs": [
        {
          "output_type": "stream",
          "name": "stdout",
          "text": [
            "Bienvenido a Ren a Car\n",
            "Antes de continuar, por favor responde a las siguientes preguntas\n",
            "Cual es tu edad?: 19\n",
            "Tienes una licencia de conducir vigente?: si\n",
            "Puedes conducir. Acercate al estacionamiento #18\n"
          ]
        }
      ]
    },
    {
      "cell_type": "markdown",
      "source": [
        "### 1.6 Comprobar si hay un valor en una lista\n",
        "\n",
        "Con `in` podemos verificar si un elemento existe en una lista. Es muy útil para filtros y validaciones.\n"
      ],
      "metadata": {
        "id": "MKNF_Bx03NOY"
      }
    },
    {
      "cell_type": "markdown",
      "source": [
        "**Ejemplo**"
      ],
      "metadata": {
        "id": "heZom_TW3Zwx"
      }
    },
    {
      "cell_type": "code",
      "source": [
        "frutas = ['manzana', 'plátano', 'naranja']\n",
        "if 'manzana' in frutas:\n",
        "    print(\"Tenemos manzanas en stock.\")"
      ],
      "metadata": {
        "id": "bdGURTNk3TyN"
      },
      "execution_count": null,
      "outputs": []
    },
    {
      "cell_type": "markdown",
      "source": [
        "**Ejercicio 1.6**\n",
        "\n",
        "Verifica si \"mate\" está en una lista de infusiones disponibles. Imprime un mensaje si está o no está.\n"
      ],
      "metadata": {
        "id": "TPYPzodl3iCS"
      }
    },
    {
      "cell_type": "code",
      "source": [
        "tea = ['mates', 'manzanilla', 'te verde','toronjil', 'wawasana']\n",
        "if 'mate' in tea:\n",
        "    print(\"Tenemos mate en stock.\")\n",
        "else:\n",
        "  print('Se nos ha agotado')"
      ],
      "metadata": {
        "id": "HYSVzaky3kBw",
        "colab": {
          "base_uri": "https://localhost:8080/"
        },
        "outputId": "d57b3754-9ee0-4da8-83a6-c132b9ca4043"
      },
      "execution_count": 89,
      "outputs": [
        {
          "output_type": "stream",
          "name": "stdout",
          "text": [
            "Se nos ha agotado\n"
          ]
        }
      ]
    },
    {
      "cell_type": "code",
      "source": [],
      "metadata": {
        "id": "ljdrNdG-U84H"
      },
      "execution_count": null,
      "outputs": []
    },
    {
      "cell_type": "markdown",
      "source": [
        "### 1.7 Comprobar si un valor no está en una lista\n",
        "\n",
        "Usamos `not in` para comprobar la ausencia de un elemento. Muy útil para listas de prohibiciones o restricciones.\n"
      ],
      "metadata": {
        "id": "pQxz65fy3nF6"
      }
    },
    {
      "cell_type": "markdown",
      "source": [
        "**Ejemplo**"
      ],
      "metadata": {
        "id": "xSeV9VS43pQt"
      }
    },
    {
      "cell_type": "code",
      "source": [
        "alergenos = ['gluten', 'lácteos']\n",
        "if 'soya' not in alergenos:\n",
        "    print(\"Puede consumir el producto.\")"
      ],
      "metadata": {
        "id": "Z1BVOROT3qlb"
      },
      "execution_count": null,
      "outputs": []
    },
    {
      "cell_type": "markdown",
      "source": [
        "**Ejercicio 1.7**\n",
        "\n",
        "Verifica que \"maní\" no esté en una lista de ingredientes seguros. Imprime un mensaje.\n"
      ],
      "metadata": {
        "id": "kiXSC0tu3sl1"
      }
    },
    {
      "cell_type": "code",
      "source": [
        "alergenos = ['gluten', 'lácteos']\n",
        "if 'mani' not in alergenos:\n",
        "    print(\"Puede consumir el producto.\")"
      ],
      "metadata": {
        "id": "Lg7mrplP3yZL",
        "colab": {
          "base_uri": "https://localhost:8080/"
        },
        "outputId": "d4426af7-b83a-48f9-b0c7-97d1827754ee"
      },
      "execution_count": 90,
      "outputs": [
        {
          "output_type": "stream",
          "name": "stdout",
          "text": [
            "Puede consumir el producto.\n"
          ]
        }
      ]
    },
    {
      "cell_type": "code",
      "source": [],
      "metadata": {
        "id": "VQBMUttpXTEL"
      },
      "execution_count": null,
      "outputs": []
    },
    {
      "cell_type": "markdown",
      "source": [
        "### 1.8 Expresiones booleanas\n",
        "\n",
        "Una condición en Python siempre se evalúa como `True` o `False`, lo cual se conoce como valor booleano. Podemos almacenarlo y reutilizarlo.\n"
      ],
      "metadata": {
        "id": "OS-idh5Y3x4a"
      }
    },
    {
      "cell_type": "markdown",
      "source": [
        "**Ejemplo**"
      ],
      "metadata": {
        "id": "zwZz0Q5132yO"
      }
    },
    {
      "cell_type": "code",
      "source": [
        "es_adulto = 25 >= 18\n",
        "print(es_adulto)  # True"
      ],
      "metadata": {
        "id": "e4L-ydsV32Vf",
        "colab": {
          "base_uri": "https://localhost:8080/"
        },
        "outputId": "62315036-f1fb-40c9-9d4d-2296170db7d4"
      },
      "execution_count": 92,
      "outputs": [
        {
          "output_type": "stream",
          "name": "stdout",
          "text": [
            "True\n"
          ]
        }
      ]
    },
    {
      "cell_type": "markdown",
      "source": [
        "**Ejercicio 1.8**\n",
        "\n",
        "Declara tres expresiones booleanas diferentes y muestra sus valores con `print()`.\n"
      ],
      "metadata": {
        "id": "mJvGwgKL36cY"
      }
    },
    {
      "cell_type": "code",
      "source": [],
      "metadata": {
        "id": "pfLn67qN3-7S"
      },
      "execution_count": null,
      "outputs": []
    },
    {
      "cell_type": "markdown",
      "source": [
        "## 2. Sentencias IF\n"
      ],
      "metadata": {
        "id": "M99-9Dbr3_SI"
      }
    },
    {
      "cell_type": "markdown",
      "source": [
        "### 2.1 Sentencias if simples\n",
        "\n",
        "La sentencia `if` ejecuta un bloque solo si se cumple una condición. Es la base de toda toma de decisiones."
      ],
      "metadata": {
        "id": "pn20U5EO4NsA"
      }
    },
    {
      "cell_type": "markdown",
      "source": [
        "**Ejemplo**"
      ],
      "metadata": {
        "id": "H9_p12n34Typ"
      }
    },
    {
      "cell_type": "code",
      "source": [
        "numero = 10\n",
        "if numero > 0:\n",
        "    print(\"Es positivo\")"
      ],
      "metadata": {
        "id": "UZqqFXbL4YTl",
        "colab": {
          "base_uri": "https://localhost:8080/"
        },
        "outputId": "a26f0e4f-15f6-4be0-a1ef-ff4c8738d468"
      },
      "execution_count": 91,
      "outputs": [
        {
          "output_type": "stream",
          "name": "stdout",
          "text": [
            "Es positivo\n"
          ]
        }
      ]
    },
    {
      "cell_type": "markdown",
      "source": [
        "**Ejercicio 2.1**\n",
        "\n",
        "Verifica si un número ingresado es par. Si lo es, muestra un mensaje confirmándolo.\n"
      ],
      "metadata": {
        "id": "RBI-TsFE4aje"
      }
    },
    {
      "cell_type": "code",
      "source": [],
      "metadata": {
        "id": "ISQlf54J4eOp"
      },
      "execution_count": null,
      "outputs": []
    },
    {
      "cell_type": "markdown",
      "source": [
        "\n",
        "### 2.2 Sentencias if dobles\n",
        "\n",
        "Con `if-else`, se ejecuta un bloque si la condición se cumple, y otro si no.\n",
        "\n"
      ],
      "metadata": {
        "id": "2my1bYQb4eld"
      }
    },
    {
      "cell_type": "markdown",
      "source": [
        "**Ejemplo**\n"
      ],
      "metadata": {
        "id": "mca7Lbjk4j2C"
      }
    },
    {
      "cell_type": "code",
      "source": [
        "nota = 11\n",
        "if nota >= 11:\n",
        "    print(\"Aprobado\")\n",
        "else:\n",
        "    print(\"Desaprobado\")"
      ],
      "metadata": {
        "id": "-9EGhvKg4ofZ",
        "colab": {
          "base_uri": "https://localhost:8080/"
        },
        "outputId": "15e46f84-318c-4f6a-ddf0-faa3a408d5fe"
      },
      "execution_count": 93,
      "outputs": [
        {
          "output_type": "stream",
          "name": "stdout",
          "text": [
            "Aprobado\n"
          ]
        }
      ]
    },
    {
      "cell_type": "markdown",
      "source": [
        "**Ejercicio 2.2**\n",
        "\n",
        "Simula una validación de edad para entrar a una película para mayores de edad. Muestra si puede o no ingresar."
      ],
      "metadata": {
        "id": "DN6LoT8U4qKS"
      }
    },
    {
      "cell_type": "code",
      "source": [
        "age = int(input('Ingresa tu edad:'))\n",
        "if age >= 18:\n",
        "    print(\"Aprobado puedes pasar\")\n",
        "else:\n",
        "    print(\"No puedes Ingresar\")"
      ],
      "metadata": {
        "id": "RlSLMcO24yN0",
        "colab": {
          "base_uri": "https://localhost:8080/"
        },
        "outputId": "8836fb44-1dbe-4d46-ccd4-f7ce7a37b1a9"
      },
      "execution_count": 100,
      "outputs": [
        {
          "output_type": "stream",
          "name": "stdout",
          "text": [
            "Ingresa tu edad:15\n",
            "No puedes Ingresar\n"
          ]
        }
      ]
    },
    {
      "cell_type": "markdown",
      "source": [
        "\n",
        "### 2.3 Sentencias if múltiples\n",
        "\n",
        "Con `if-elif-else` puedes evaluar múltiples condiciones secuenciales. Se ejecuta solo el primer bloque verdadero.\n"
      ],
      "metadata": {
        "id": "CCfgZ5I844cm"
      }
    },
    {
      "cell_type": "code",
      "source": [
        "grade = int(input(\"Cual es tu nota? \"))\n",
        "if grade >20 or grade <0:\n",
        "  print(\"Ingrese una nota valida (entre 0 y 20)!\")\n",
        "elif grade >= 18 :\n",
        "    print(\"Increible!, tu nota es sobresaliente!\")\n",
        "elif grade >= 11 :\n",
        "    print(\"Estas aprobado! Buena\")\n",
        "elif grade >= 8 :\n",
        "    print(\"Casi pero no aprobaste\")\n",
        "else:\n",
        "    print(\"Jaladisimo! A estudiar!\")"
      ],
      "metadata": {
        "id": "BRk8nZVp45z2",
        "colab": {
          "base_uri": "https://localhost:8080/"
        },
        "outputId": "db58ff1f-c05b-400b-bb14-ca4b44dd9aa5"
      },
      "execution_count": 106,
      "outputs": [
        {
          "output_type": "stream",
          "name": "stdout",
          "text": [
            "Cual es tu nota? 23\n",
            "Ingrese una nota valida!\n"
          ]
        }
      ]
    },
    {
      "cell_type": "code",
      "source": [
        "grade = int(input(\"Cual es tu nota? \"))\n",
        "while grade >20 or grade <0: #ayuda a disparar nuevamente el mensaje de input\n",
        "  print(\"Ingrese una nota valida (entre 0 y 20)!\")\n",
        "  grade = int(input(\"Cual es tu nota? \"))\n",
        "\n",
        "if grade >= 18 :\n",
        "    print(\"Increible!, tu nota es sobresaliente!\")\n",
        "elif grade >= 11 :\n",
        "    print(\"Estas aprobado! Buena\")\n",
        "elif grade >= 8 :\n",
        "    print(\"Casi pero no aprobaste\")\n",
        "else:\n",
        "    print(\"Jaladisimo! A estudiar!\")"
      ],
      "metadata": {
        "colab": {
          "base_uri": "https://localhost:8080/"
        },
        "id": "jTqK29mMdwmb",
        "outputId": "3adf2225-cd5c-417b-ee93-87b8f733d283"
      },
      "execution_count": 107,
      "outputs": [
        {
          "output_type": "stream",
          "name": "stdout",
          "text": [
            "Cual es tu nota? 23\n",
            "Ingrese una nota valida (entre 0 y 20)!\n",
            "Cual es tu nota? 19\n",
            "Increible!, tu nota es sobresaliente!\n"
          ]
        }
      ]
    },
    {
      "cell_type": "markdown",
      "source": [
        "**Ejemplo**"
      ],
      "metadata": {
        "id": "BdJCoG6c5E44"
      }
    },
    {
      "cell_type": "code",
      "source": [
        "velocidad = 90\n",
        "if velocidad > 120:\n",
        "    print(\"Multa grave\")\n",
        "elif velocidad > 90:\n",
        "    print(\"Advertencia\")\n",
        "else:\n",
        "    print(\"Todo bien\")"
      ],
      "metadata": {
        "id": "exfBK3Iu5J0E",
        "colab": {
          "base_uri": "https://localhost:8080/"
        },
        "outputId": "f4f3d27c-cc46-47fa-b605-7d34ed971856"
      },
      "execution_count": 94,
      "outputs": [
        {
          "output_type": "stream",
          "name": "stdout",
          "text": [
            "Todo bien\n"
          ]
        }
      ]
    },
    {
      "cell_type": "markdown",
      "source": [
        "**Ejercicio 2.3**\n",
        "\n",
        "Clasifica una nota en letras:\n",
        "- A (≥18)\n",
        "- B (≥14)\n",
        "- C (≥10)\n",
        "- D (<10)\n"
      ],
      "metadata": {
        "id": "pDEKm_Zp5V3B"
      }
    },
    {
      "cell_type": "code",
      "source": [
        "grade = int(input(\"Cual es tu nota? \"))\n",
        "if grade >= 18:\n",
        "    print(\"A\")\n",
        "elif grade >= 14 and grade < 18:\n",
        "    print(\"B\")\n",
        "elif grade >= 10 and grade < 14:\n",
        "    print(\"C\")\n",
        "else:\n",
        "    print(\"D\")"
      ],
      "metadata": {
        "id": "Uu6cO8dj5Yis",
        "colab": {
          "base_uri": "https://localhost:8080/"
        },
        "outputId": "8f0e187d-af38-483e-eeff-b27c5c39a965"
      },
      "execution_count": 102,
      "outputs": [
        {
          "output_type": "stream",
          "name": "stdout",
          "text": [
            "Cual es tu nota? 5\n",
            "D\n"
          ]
        }
      ]
    },
    {
      "cell_type": "markdown",
      "source": [
        "### 2.4 Omitir el bloque else\n",
        "\n",
        "En ocasiones, solo se requiere una acción si la condición es verdadera. No se necesita cubrir el caso contrario."
      ],
      "metadata": {
        "id": "THluc0oi5d6I"
      }
    },
    {
      "cell_type": "markdown",
      "source": [
        "**Ejemplo**\n"
      ],
      "metadata": {
        "id": "lpVDqa7N5gnQ"
      }
    },
    {
      "cell_type": "code",
      "source": [
        "usuario = 'admin'\n",
        "if usuario == 'admin':\n",
        "    print(\"Bienvenido, administrador.\")"
      ],
      "metadata": {
        "id": "Cfjj5cNR5mSi",
        "colab": {
          "base_uri": "https://localhost:8080/"
        },
        "outputId": "2b02df57-9c7b-4ee7-ec91-4d7a7abaff3f"
      },
      "execution_count": 95,
      "outputs": [
        {
          "output_type": "stream",
          "name": "stdout",
          "text": [
            "Bienvenido, administrador.\n"
          ]
        }
      ]
    },
    {
      "cell_type": "markdown",
      "source": [
        "**Ejercicio 2.4**\n",
        "\n",
        "Muestra un mensaje especial si el usuario ingresado es \"profesor\"."
      ],
      "metadata": {
        "id": "c2glYtdT5pTl"
      }
    },
    {
      "cell_type": "code",
      "source": [],
      "metadata": {
        "id": "zF4zhZ5K5y2K"
      },
      "execution_count": null,
      "outputs": []
    },
    {
      "cell_type": "markdown",
      "source": [
        "\n",
        "### 2.5 Probar múltiples condiciones\n",
        "\n",
        "A veces queremos evaluar varias condiciones, **independientes entre sí**. Usamos múltiples `if`, no `elif`.\n"
      ],
      "metadata": {
        "id": "KZFE5bGa50gD"
      }
    },
    {
      "cell_type": "markdown",
      "source": [
        "**Ejemplo**"
      ],
      "metadata": {
        "id": "2IHxBKiK51sk"
      }
    },
    {
      "cell_type": "code",
      "source": [
        "edad = 20\n",
        "if edad >= 18:\n",
        "    print(\"Es mayor de edad\")\n",
        "if edad >= 16:\n",
        "    print(\"Puede conducir\")"
      ],
      "metadata": {
        "id": "ryKiRLWd55MI",
        "colab": {
          "base_uri": "https://localhost:8080/"
        },
        "outputId": "cc07be37-9ff3-467e-b78d-59d604aa309a"
      },
      "execution_count": 96,
      "outputs": [
        {
          "output_type": "stream",
          "name": "stdout",
          "text": [
            "Es mayor de edad\n",
            "Puede conducir\n"
          ]
        }
      ]
    },
    {
      "cell_type": "markdown",
      "source": [
        "**Ejercicio 2.5**\n",
        "\n",
        "Evalúa separadamente si una persona:\n",
        "- Es mayor de edad (`edad >= 18`)\n",
        "- Puede votar (`edad >= 18`)\n",
        "- Puede conducir (`edad >= 16`)"
      ],
      "metadata": {
        "id": "CTqMD7WN565s"
      }
    },
    {
      "cell_type": "code",
      "source": [],
      "metadata": {
        "id": "D-h0W-sX58rm"
      },
      "execution_count": null,
      "outputs": []
    },
    {
      "cell_type": "markdown",
      "source": [
        "**Reto 1**\n",
        "\n",
        "Imagina que un extraterrestre acaba de ser derribado en un juego. Cree una variable llamada alien_color y asígnele un valor de 'verde', 'amarillo' o 'rojo'.\n",
        "\n",
        "Escribe una declaración if para probar si el color del extraterrestre es verde. Si es así, imprime un mensaje de que el jugador acaba de ganar 5 puntos."
      ],
      "metadata": {
        "id": "VRh_bkR86d9b"
      }
    },
    {
      "cell_type": "code",
      "source": [],
      "metadata": {
        "id": "0h5aKbTt6geM"
      },
      "execution_count": null,
      "outputs": []
    },
    {
      "cell_type": "markdown",
      "source": [
        "\n",
        "\n",
        "**Reto 2**\n",
        "\n",
        "Elija un color para un extraterrestre como lo hizo en el Ejercicio anterior y escriba una cadena if-else.\n",
        "\n",
        "Si el alienígena es verde, imprime un mensaje de que el jugador obtuvo 5 puntos. Si el alienígena es amarillo, imprime un mensaje de que el jugador obtuvo 10 puntos. Si el alienígena es rojo, imprime un mensaje de que el jugador obtuvo 15 puntos.\n"
      ],
      "metadata": {
        "id": "bn42R8XB6csW"
      }
    },
    {
      "cell_type": "code",
      "source": [],
      "metadata": {
        "id": "7Ez0OH9_6jyC"
      },
      "execution_count": null,
      "outputs": []
    },
    {
      "cell_type": "markdown",
      "source": [
        "**Reto 3**\n",
        "\n",
        "Pregunte al usuario su edad, si esta es mayor igual a 18 años, imprima un mensaje que indique que puede votar, si la presona es menor que 18 años ,imprima un mensaje de que aun no cumple mayoría de edad, finalmente si la persona supera los 65 años, imprima un mensaje de que supera el umbral de edad para votar.\n",
        "\n",
        "Extra: A las personas que sean aptas para votar preguntele su candidato y guadelo en una lista la cual se imprimirá el finalizar el programa."
      ],
      "metadata": {
        "id": "DI_UqvW46kYV"
      }
    },
    {
      "cell_type": "code",
      "source": [],
      "metadata": {
        "id": "BqNiZanB6oQA"
      },
      "execution_count": null,
      "outputs": []
    },
    {
      "cell_type": "markdown",
      "source": [
        "---\n",
        "\n",
        "# Conclusión\n",
        "\n",
        "A lo largo de este laboratorio, aprendiste a usar **estructuras condicionales** para que tus programas tomen decisiones en función de distintos criterios. Dominar las pruebas condicionales y las sentencias **`if`** es esencial para construir programas dinámicos, inteligentes y adaptables. Estas habilidades serán la base para los siguientes temas del curso.\n",
        "\n",
        "\n",
        "---\n"
      ],
      "metadata": {
        "id": "7FrX1o7Y6L-H"
      }
    },
    {
      "cell_type": "markdown",
      "source": [
        "---\n",
        "\n",
        "# Gracias por completar este laboratorio!\n",
        "\n",
        "---\n"
      ],
      "metadata": {
        "id": "whQxk9Rn6Zlv"
      }
    }
  ]
}