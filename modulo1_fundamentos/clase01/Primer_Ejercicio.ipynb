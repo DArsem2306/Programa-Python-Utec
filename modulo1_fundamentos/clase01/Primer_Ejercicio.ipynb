{
  "cells": [
    {
      "cell_type": "markdown",
      "metadata": {
        "id": "view-in-github",
        "colab_type": "text"
      },
      "source": [
        "<a href=\"https://colab.research.google.com/github/DArsem2306/Programa-Python-Utec/blob/main/modulo1_fundamentos/clase01/Primer_Ejercicio.ipynb\" target=\"_parent\"><img src=\"https://colab.research.google.com/assets/colab-badge.svg\" alt=\"Open In Colab\"/></a>"
      ]
    },
    {
      "cell_type": "code",
      "execution_count": null,
      "metadata": {
        "colab": {
          "background_save": true,
          "base_uri": "https://localhost:8080/"
        },
        "id": "1NlrzJgQgMeb",
        "outputId": "6bb48785-b223-4fd9-ed3e-7c7fbbbfaa2a"
      },
      "outputs": [
        {
          "name": "stdout",
          "output_type": "stream",
          "text": [
            "Hola, Bienvenido al Banco del Futuro.\n",
            "Te ayudare a escoger la mejor cuenta para ti\n",
            "Hola Daniel\n",
            "Porcentaje de ahorro: 10.0\n",
            "La cuenta ideal para ti es Cuenta Inversion\n",
            "Segmento: Estándar\n"
          ]
        }
      ],
      "source": [
        "print ('Hola, Bienvenido al Banco del Futuro.')\n",
        "print ('Te ayudare a escoger la mejor cuenta para ti')\n",
        "nombre = input ('Como te llamas? ')\n",
        "print ('Hola', nombre)\n",
        "\n",
        "edad = int (input ('Cuantos anos tienes? '))\n",
        "\n",
        "# Ingreso de datos\n",
        "ahorro = float(input(\"Ahorro mensual (S/): \"))  # Solicita cuánto ahorra el cliente\n",
        "ingreso = float(input(\"Ingreso mensual (S/): \"))  # Solicita su ingreso total\n",
        "\n",
        "# Cálculo del porcentaje de ahorro\n",
        "porcentaje = (ahorro / ingreso) * 100  # Se calcula el porcentaje que representa el ahorro sobre el ingreso\n",
        "print(\"Porcentaje de ahorro:\", porcentaje)\n",
        "\n",
        "# Clasificacion de Cliente por Edad\n",
        "if edad >= 25:\n",
        "  print ('La cuenta ideal para ti es Cuenta Inversion')\n",
        "else:\n",
        "  print ('La cuenta ideal para ti es la Cuenta Primer Ahorro')\n",
        "\n",
        "# Clasificación del cliente según su porcentaje de ahorro\n",
        "if porcentaje >= 20:\n",
        "    print(\"Segmento: Premium\")  # Alta capacidad de ahorro\n",
        "else:\n",
        "    print(\"Segmento: Estándar\")  # Ahorro menor, con potencial de fidelización\n",
        "----\n",
        "# Condicional para ver si quiere hacer algo mas\n",
        "def realizar_accion ():\n",
        "  print ('Deseas cambiar tus datos, volvamos')\n",
        "  # Ingreso de datos\n",
        "ahorro = float(input(\"Ahorro mensual (S/): \"))  # Solicita cuánto ahorra el cliente\n",
        "ingreso = float(input(\"Ingreso mensual (S/): \"))  # Solicita su ingreso total\n",
        "\n",
        "# Cálculo del porcentaje de ahorro\n",
        "porcentaje = (ahorro / ingreso) * 100  # Se calcula el porcentaje que representa el ahorro sobre el ingreso\n",
        "print(\"Porcentaje de ahorro:\", porcentaje)\n",
        "\n",
        "respuesta = input ('Quieres modificar algun dato financiero?')\n",
        "if respuesta.lower() == ('si'):\n",
        "  realizar_accion() #llamamos a la funcion de la respuesta si\n",
        "else:\n",
        "  print ('Muchas gracias por consulta con el Banco del Futuro')\n",
        "  print ('Hasta la proxima')\n"
      ]
    },
    {
      "cell_type": "code",
      "execution_count": null,
      "metadata": {
        "id": "9kgJuIgLkmHy"
      },
      "outputs": [],
      "source": []
    }
  ],
  "metadata": {
    "colab": {
      "provenance": [],
      "include_colab_link": true
    },
    "kernelspec": {
      "display_name": "Python 3",
      "name": "python3"
    },
    "language_info": {
      "name": "python"
    }
  },
  "nbformat": 4,
  "nbformat_minor": 0
}