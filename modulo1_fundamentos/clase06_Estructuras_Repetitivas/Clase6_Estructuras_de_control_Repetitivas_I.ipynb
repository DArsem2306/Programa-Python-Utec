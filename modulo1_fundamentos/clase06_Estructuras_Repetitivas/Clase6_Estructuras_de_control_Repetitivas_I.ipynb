{
  "nbformat": 4,
  "nbformat_minor": 0,
  "metadata": {
    "colab": {
      "provenance": [],
      "include_colab_link": true
    },
    "kernelspec": {
      "name": "python3",
      "display_name": "Python 3"
    },
    "language_info": {
      "name": "python"
    }
  },
  "cells": [
    {
      "cell_type": "markdown",
      "metadata": {
        "id": "view-in-github",
        "colab_type": "text"
      },
      "source": [
        "<a href=\"https://colab.research.google.com/github/DArsem2306/Programa-Python-Utec/blob/main/modulo1_fundamentos/Clase06_Estructuras_Repetitivas/Clase6_Estructuras_de_control_Repetitivas_I.ipynb\" target=\"_parent\"><img src=\"https://colab.research.google.com/assets/colab-badge.svg\" alt=\"Open In Colab\"/></a>"
      ]
    },
    {
      "cell_type": "markdown",
      "source": [
        "# 1. Introducción a Diccionarios"
      ],
      "metadata": {
        "id": "ZXZB5T0_yOyz"
      }
    },
    {
      "cell_type": "markdown",
      "source": [
        "**¿Qué es un diccionario?**\n",
        "\n",
        "Es una colección de datos en formato clave: valor.\n",
        "\n",
        "Permite acceder a la información mediante claves, no por posición como las listas.\n",
        "\n"
      ],
      "metadata": {
        "id": "IYQZoyHT2EIY"
      }
    },
    {
      "cell_type": "markdown",
      "source": [
        "**¿Para qué sirve?**\n",
        "\n",
        "Ideal para representar objetos del mundo real.\n",
        "\n",
        "Muy útil en el sector financiero para almacenar datos de clientes, productos financieros, tasas, etc."
      ],
      "metadata": {
        "id": "RtUMR-2i2NoZ"
      }
    },
    {
      "cell_type": "markdown",
      "source": [
        "Ejemplo:"
      ],
      "metadata": {
        "id": "f7P8f-Xp2Vxd"
      }
    },
    {
      "cell_type": "code",
      "source": [
        "cliente = {\n",
        "    \"nombre\": \"Ana\",\n",
        "    \"edad\": 35,\n",
        "    \"ingreso\": 4500,\n",
        "    \"morosidades\": 0\n",
        "}\n",
        "print(cliente[\"ingreso\"])  # Acceder al ingreso del cliente\n",
        "print(cliente[\"nombre\"])"
      ],
      "metadata": {
        "id": "XoMaweyb2JzS",
        "outputId": "aaa5e18c-0776-4ccc-86fd-5de400e4eaa0",
        "colab": {
          "base_uri": "https://localhost:8080/"
        }
      },
      "execution_count": null,
      "outputs": [
        {
          "output_type": "stream",
          "name": "stdout",
          "text": [
            "4500\n",
            "Ana\n"
          ]
        }
      ]
    },
    {
      "cell_type": "code",
      "source": [
        "alumno = {\n",
        "    \"nombre\": \"Daniel\",\n",
        "    \"hobby\": \"correr\",\n",
        "    \"comida favorita\": \"pizza\",\n",
        "    \"hijos\": 1}\n",
        "print(alumno[\"nombre\"])"
      ],
      "metadata": {
        "id": "2pKVfX9DQ6iY",
        "outputId": "dfc5dd79-5adb-496e-a74f-d2b6d83c67c8",
        "colab": {
          "base_uri": "https://localhost:8080/"
        }
      },
      "execution_count": null,
      "outputs": [
        {
          "output_type": "stream",
          "name": "stdout",
          "text": [
            "Daniel\n"
          ]
        }
      ]
    },
    {
      "cell_type": "code",
      "source": [
        "alumno[\"genero\"] = \"masculino\"\n",
        "print(alumno)"
      ],
      "metadata": {
        "id": "oerN0KRBTmbG",
        "outputId": "0e9a89ab-4251-45e3-9629-545aea943521",
        "colab": {
          "base_uri": "https://localhost:8080/"
        }
      },
      "execution_count": null,
      "outputs": [
        {
          "output_type": "stream",
          "name": "stdout",
          "text": [
            "{'nombre': 'Daniel', 'hobby': 'correr', 'comida favorita': 'pizza', 'hijos': 1, 'genero': 'masculino'}\n"
          ]
        }
      ]
    },
    {
      "cell_type": "markdown",
      "source": [
        "**Cómo acceder a valores:**\n",
        "\n",
        "Usando la clave: diccionario[\"clave\"]"
      ],
      "metadata": {
        "id": "w4ylLTfU2aeH"
      }
    },
    {
      "cell_type": "markdown",
      "source": [
        "**Añadir nuevo par clave-valor:**"
      ],
      "metadata": {
        "id": "jmS8eewO2fFC"
      }
    },
    {
      "cell_type": "code",
      "execution_count": null,
      "metadata": {
        "id": "uUEYtzY9x5Gm"
      },
      "outputs": [],
      "source": [
        "cliente[\"tipo_credito\"] = \"Hipotecario\""
      ]
    },
    {
      "cell_type": "markdown",
      "source": [
        "**Empezar con un diccionario vacío:**"
      ],
      "metadata": {
        "id": "51g4lCo92lwQ"
      }
    },
    {
      "cell_type": "code",
      "source": [
        "nuevo_cliente = {}\n",
        "nuevo_cliente[\"nombre\"] = \"Luis\"\n",
        "nuevo_cliente[\"ingreso\"] = 3000"
      ],
      "metadata": {
        "id": "tpK5NSue2mx3"
      },
      "execution_count": null,
      "outputs": []
    },
    {
      "cell_type": "code",
      "source": [
        "#Nuevo diccionario\n",
        "alumnos = {}\n",
        "alumnos[\"nombre\"] = \"daniel\",\n",
        "alumnos[\"hobby\"] = \"correr\",\n"
      ],
      "metadata": {
        "id": "rXbFUDUxUkbm"
      },
      "execution_count": null,
      "outputs": []
    },
    {
      "cell_type": "markdown",
      "source": [
        "**Modificar valores:**"
      ],
      "metadata": {
        "id": "_sa6x1ct2rOy"
      }
    },
    {
      "cell_type": "code",
      "source": [
        "cliente[\"ingreso\"] = 5000"
      ],
      "metadata": {
        "id": "6pQI6-vr2vpI"
      },
      "execution_count": null,
      "outputs": []
    },
    {
      "cell_type": "code",
      "source": [
        "alumno[\"hijos\"] = 3"
      ],
      "metadata": {
        "id": "F6pjm7HfWYGV"
      },
      "execution_count": null,
      "outputs": []
    },
    {
      "cell_type": "code",
      "source": [
        "alumnos"
      ],
      "metadata": {
        "id": "39mYTxUnWdrB",
        "outputId": "52d17e4b-c401-442b-e66e-e82977b5daeb",
        "colab": {
          "base_uri": "https://localhost:8080/"
        }
      },
      "execution_count": null,
      "outputs": [
        {
          "output_type": "execute_result",
          "data": {
            "text/plain": [
              "{'nombre': ('daniel',), 'hobby': ('correr',)}"
            ]
          },
          "metadata": {},
          "execution_count": 28
        }
      ]
    },
    {
      "cell_type": "markdown",
      "source": [
        "**Eliminar pares clave-valor:**"
      ],
      "metadata": {
        "id": "DUHgSOL22xrI"
      }
    },
    {
      "cell_type": "code",
      "source": [
        "clientes = {\n",
        "    \"001\": {\"nombre\": \"Ana\", \"ingreso\": 4000},\n",
        "    \"002\": {\"nombre\": \"Luis\", \"ingreso\": 3000}\n",
        "}"
      ],
      "metadata": {
        "id": "Aq7-4wBo205G"
      },
      "execution_count": null,
      "outputs": []
    },
    {
      "cell_type": "code",
      "source": [
        "clientes"
      ],
      "metadata": {
        "id": "r63d9gWKWlP_",
        "outputId": "4bb28ae2-7478-4a78-c32d-737dda3cc5cb",
        "colab": {
          "base_uri": "https://localhost:8080/"
        }
      },
      "execution_count": null,
      "outputs": [
        {
          "output_type": "execute_result",
          "data": {
            "text/plain": [
              "{'001': {'nombre': 'Ana', 'ingreso': 4000},\n",
              " '002': {'nombre': 'Luis', 'ingreso': 3000}}"
            ]
          },
          "metadata": {},
          "execution_count": 25
        }
      ]
    },
    {
      "cell_type": "code",
      "source": [
        "alumnos = {\n",
        "    \"001\": {'nombre': 'Daniel', 'hobby': 'correr', 'comida favorita': 'pizza'},\n",
        "    \"002\": {\"nombre\": \"Luis\", 'hobby': 'respirar', 'comida favorita': 'pasta'}\n",
        "}"
      ],
      "metadata": {
        "id": "tG5-dvoZW0nJ"
      },
      "execution_count": null,
      "outputs": []
    },
    {
      "cell_type": "code",
      "source": [
        "alumnos[\"001\"][\"hobby\"] = 'bailar'"
      ],
      "metadata": {
        "id": "R6FugNhoaMu_"
      },
      "execution_count": null,
      "outputs": []
    },
    {
      "cell_type": "code",
      "source": [
        "alumnos"
      ],
      "metadata": {
        "id": "FjPW7K5Taalw",
        "outputId": "f77750ab-3a24-42fd-ff9d-ebea2178081e",
        "colab": {
          "base_uri": "https://localhost:8080/"
        }
      },
      "execution_count": null,
      "outputs": [
        {
          "output_type": "execute_result",
          "data": {
            "text/plain": [
              "{'001': {'nombre': 'Daniel', 'hobby': 'bailar', 'comida favorita': 'pizza'},\n",
              " '002': {'nombre': 'Luis', 'hobby': 'respirar', 'comida favorita': 'pasta'}}"
            ]
          },
          "metadata": {},
          "execution_count": 32
        }
      ]
    },
    {
      "cell_type": "code",
      "source": [
        "alumnos[\"ingreso\"] = 2000\n",
        "print(alumnos)"
      ],
      "metadata": {
        "id": "eupxmIKnazk_",
        "outputId": "7a8be1f1-96ac-4699-a733-f940d8653c68",
        "colab": {
          "base_uri": "https://localhost:8080/"
        }
      },
      "execution_count": null,
      "outputs": [
        {
          "output_type": "stream",
          "name": "stdout",
          "text": [
            "{'001': {'nombre': 'Daniel', 'hobby': 'bailar', 'comida favorita': 'pizza'}, '002': {'nombre': 'Luis', 'hobby': 'respirar', 'comida favorita': 'pasta'}, 'ingreso': 2000}\n"
          ]
        }
      ]
    },
    {
      "cell_type": "code",
      "source": [
        "del alumnos[\"001\"]"
      ],
      "metadata": {
        "id": "nhqOsyD_bHkc"
      },
      "execution_count": null,
      "outputs": []
    },
    {
      "cell_type": "code",
      "source": [
        "alumnos"
      ],
      "metadata": {
        "id": "DO64OdF3bYRU",
        "outputId": "2dfd486f-e142-4e46-db13-33e4d3f1fc11",
        "colab": {
          "base_uri": "https://localhost:8080/"
        }
      },
      "execution_count": null,
      "outputs": [
        {
          "output_type": "execute_result",
          "data": {
            "text/plain": [
              "{'002': {'nombre': 'Luis', 'hobby': 'respirar', 'comida favorita': 'pasta'},\n",
              " 'ingreso': 2000}"
            ]
          },
          "metadata": {},
          "execution_count": 37
        }
      ]
    },
    {
      "cell_type": "markdown",
      "source": [
        "**Ejercicio 1:**\n",
        "\n",
        "Crea un diccionario para un producto financiero con claves como nombre, tasa de interés y tipo. Luego accede a la tasa de interés y modifícala.\n",
        "\n",
        "\n",
        "\n"
      ],
      "metadata": {
        "id": "83NKUBXf23zf"
      }
    },
    {
      "cell_type": "code",
      "source": [
        "credito_multi = {\n",
        "    \"nombre\": \"prestamo personal\",\n",
        "    \"tasa\": 0.15 ,\n",
        "    \"tipo\": 'multicuota',\n",
        "}\n",
        "\n",
        "credito_multi[\"tasa\"] = 0.20\n",
        "credito_multi"
      ],
      "metadata": {
        "id": "MD4LbTv-butC",
        "outputId": "af4f49cb-e04a-4322-a1bb-b6ad57d9ae90",
        "colab": {
          "base_uri": "https://localhost:8080/"
        }
      },
      "execution_count": null,
      "outputs": [
        {
          "output_type": "execute_result",
          "data": {
            "text/plain": [
              "{'nombre': 'prestamo personal', 'tasa': 0.2, 'tipo': 'multicuota'}"
            ]
          },
          "metadata": {},
          "execution_count": 41
        }
      ]
    },
    {
      "cell_type": "markdown",
      "source": [
        "**Ejercicio 2:**\n",
        "\n",
        "Crea un diccionario de 3 clientes con su nombre e ingresos. Agrega un nuevo cliente. Luego, elimina uno de los existentes."
      ],
      "metadata": {
        "id": "Czi-iYwt27Lr"
      }
    },
    {
      "cell_type": "code",
      "source": [
        "clients = {\n",
        "    \"001\": {'nombre': 'Hugo', 'ingreso': 5000},\n",
        "    \"002\": {\"nombre\": \"Paco\", 'ingreso': 4000},\n",
        "    \"003\": {\"nombre\": \"Luis\", 'ingreso': 1000},\n",
        "}"
      ],
      "metadata": {
        "id": "WF_1puXsfBWh"
      },
      "execution_count": null,
      "outputs": []
    },
    {
      "cell_type": "code",
      "source": [
        "del clients[\"002\"]"
      ],
      "metadata": {
        "id": "VNH8_tWnfY_-"
      },
      "execution_count": null,
      "outputs": []
    },
    {
      "cell_type": "code",
      "source": [
        "clients"
      ],
      "metadata": {
        "id": "E_c7gDmhfbkS",
        "outputId": "811e45bf-6031-49e8-b4b4-2341362fe26b",
        "colab": {
          "base_uri": "https://localhost:8080/"
        }
      },
      "execution_count": null,
      "outputs": [
        {
          "output_type": "execute_result",
          "data": {
            "text/plain": [
              "{'001': {'nombre': 'Hugo', 'ingreso': 5000},\n",
              " '003': {'nombre': 'Luis', 'ingreso': 1000}}"
            ]
          },
          "metadata": {},
          "execution_count": 50
        }
      ]
    },
    {
      "cell_type": "markdown",
      "source": [
        "# 2. For en Python"
      ],
      "metadata": {
        "id": "w2oBkGm-3IZi"
      }
    },
    {
      "cell_type": "markdown",
      "source": [
        "**¿Qué es for?**\n",
        "\n",
        "Una estructura de control repetitiva.\n",
        "\n",
        "Se usa para recorrer elementos de una lista, string o diccionario."
      ],
      "metadata": {
        "id": "vqkAmEE33Ov0"
      }
    },
    {
      "cell_type": "markdown",
      "source": [
        "**¿Para qué sirve?**\n",
        "\n",
        "Automatizar procesos repetitivos, como revisar múltiples clientes o productos financieros."
      ],
      "metadata": {
        "id": "6NnHm2Zw3RFo"
      }
    },
    {
      "cell_type": "markdown",
      "source": [
        "**Sintaxis básica:**\n"
      ],
      "metadata": {
        "id": "tJGAMI9Q3TwI"
      }
    },
    {
      "cell_type": "code",
      "source": [
        "lista_clientes = [\"Ana\", \"Luis\", \"Sofía\"]\n",
        "lista_clientes"
      ],
      "metadata": {
        "id": "6MlM850lmIqs",
        "outputId": "8df366d6-72c4-4fc0-f587-a625bf374559",
        "colab": {
          "base_uri": "https://localhost:8080/"
        }
      },
      "execution_count": 52,
      "outputs": [
        {
          "output_type": "execute_result",
          "data": {
            "text/plain": [
              "['Ana', 'Luis', 'Sofía']"
            ]
          },
          "metadata": {},
          "execution_count": 52
        }
      ]
    },
    {
      "cell_type": "code",
      "source": [
        "for cliente in lista_clientes:\n",
        "    print(cliente)"
      ],
      "metadata": {
        "id": "lGd8GFjZ26u5",
        "outputId": "4e61d815-ac77-4008-fe0a-0f96ef4fe91d",
        "colab": {
          "base_uri": "https://localhost:8080/"
        }
      },
      "execution_count": 54,
      "outputs": [
        {
          "output_type": "stream",
          "name": "stdout",
          "text": [
            "Ana\n",
            "Luis\n",
            "Sofía\n"
          ]
        }
      ]
    },
    {
      "cell_type": "code",
      "source": [
        "lista_clientes[0]"
      ],
      "metadata": {
        "id": "-eYz3amFmy_3",
        "outputId": "e0a864c6-95ea-47dd-e765-0a21ff58d2ba",
        "colab": {
          "base_uri": "https://localhost:8080/",
          "height": 35
        }
      },
      "execution_count": 53,
      "outputs": [
        {
          "output_type": "execute_result",
          "data": {
            "text/plain": [
              "'Ana'"
            ],
            "application/vnd.google.colaboratory.intrinsic+json": {
              "type": "string"
            }
          },
          "metadata": {},
          "execution_count": 53
        }
      ]
    },
    {
      "cell_type": "markdown",
      "source": [
        "**¿Por qué es repetitiva?**\n",
        "\n",
        "Porque ejecuta el mismo bloque de código por cada elemento en la secuencia."
      ],
      "metadata": {
        "id": "zbzptSdD3cZ6"
      }
    },
    {
      "cell_type": "code",
      "source": [
        "ingresos = [1000, 2000, 3000]\n",
        "for ingreso in ingresos:\n",
        "    print(\"Ingreso anual:\", ingreso * 12) #agarra a toda la lista y los multiplica * 12"
      ],
      "metadata": {
        "id": "ddfuukXf3a-T",
        "outputId": "c4c69862-5fb7-4d5d-8eba-26a56fe137e3",
        "colab": {
          "base_uri": "https://localhost:8080/"
        }
      },
      "execution_count": 55,
      "outputs": [
        {
          "output_type": "stream",
          "name": "stdout",
          "text": [
            "Ingreso anual: 12000\n",
            "Ingreso anual: 24000\n",
            "Ingreso anual: 36000\n"
          ]
        }
      ]
    },
    {
      "cell_type": "code",
      "source": [
        "#Pedido: Usar la estructura de for para calcular el ingreso anual ingreso *12\n",
        "ingresos = [1000, 2000, 3000]\n",
        "for ingreso in ingresos:\n",
        "    ingreso_anual = ingreso * 12\n",
        "    print(\"Ingreso mensual:\", ingreso, \"- Ingreso anual:\", ingreso_anual)"
      ],
      "metadata": {
        "id": "2-goehb6p3Fk",
        "outputId": "5ce61736-762e-4d86-9f34-46384dbc1f5f",
        "colab": {
          "base_uri": "https://localhost:8080/"
        }
      },
      "execution_count": 58,
      "outputs": [
        {
          "output_type": "stream",
          "name": "stdout",
          "text": [
            "Ingreso mensual: 1000 - Ingreso anual: 12000\n",
            "Ingreso mensual: 2000 - Ingreso anual: 24000\n",
            "Ingreso mensual: 3000 - Ingreso anual: 36000\n"
          ]
        }
      ]
    },
    {
      "cell_type": "markdown",
      "source": [
        "Ejemplo 2: Recorrer un diccionario de clientes"
      ],
      "metadata": {
        "id": "yTflWWvp3hI1"
      }
    },
    {
      "cell_type": "code",
      "source": [
        "for id_cliente in clientes:\n",
        "    print(\"ID:\", id_cliente, \"Ingreso:\", clientes[id_cliente][\"ingreso\"])"
      ],
      "metadata": {
        "id": "1jReTnvu3kG0"
      },
      "execution_count": null,
      "outputs": []
    },
    {
      "cell_type": "markdown",
      "source": [
        "Ejemplo 3: Contar cuántos clientes tienen ingreso > 3000"
      ],
      "metadata": {
        "id": "wQeoR3Lz3mpd"
      }
    },
    {
      "cell_type": "code",
      "source": [
        "contador = 0\n",
        "for cliente in clientes.values():\n",
        "    if cliente[\"ingreso\"] > 3000:\n",
        "        contador += 1\n",
        "print(\"Clientes con alto ingreso:\", contador)"
      ],
      "metadata": {
        "id": "BO6QccEn3pvU"
      },
      "execution_count": null,
      "outputs": []
    },
    {
      "cell_type": "markdown",
      "source": [
        "Ejemplo 4: Crear una lista con tasas ajustadas"
      ],
      "metadata": {
        "id": "Z1DZYAfj3sRL"
      }
    },
    {
      "cell_type": "code",
      "source": [
        "tasas = [0.05, 0.07, 0.08]\n",
        "tasas_ajustadas = []\n",
        "for tasa in tasas:\n",
        "    tasas_ajustadas.append(tasa + 0.01)\n",
        "print(tasas_ajustadas)"
      ],
      "metadata": {
        "id": "jerZ3Pbp3v_-"
      },
      "execution_count": null,
      "outputs": []
    },
    {
      "cell_type": "markdown",
      "source": [
        "Ejemplo 5: Reporte de evaluación"
      ],
      "metadata": {
        "id": "vDmAijzk30aP"
      }
    },
    {
      "cell_type": "code",
      "source": [
        "clientes = [\"Ana\", \"Luis\", \"Sofía\"]\n",
        "for nombre in clientes:\n",
        "    print(f\"Evaluación enviada a {nombre}\")"
      ],
      "metadata": {
        "id": "b4ah9HGJ32bn"
      },
      "execution_count": null,
      "outputs": []
    },
    {
      "cell_type": "markdown",
      "source": [],
      "metadata": {
        "id": "3J9EUJLG3oos"
      }
    }
  ]
}