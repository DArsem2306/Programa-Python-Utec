{
  "nbformat": 4,
  "nbformat_minor": 0,
  "metadata": {
    "colab": {
      "provenance": [],
      "include_colab_link": true
    },
    "kernelspec": {
      "name": "python3",
      "display_name": "Python 3"
    },
    "language_info": {
      "name": "python"
    }
  },
  "cells": [
    {
      "cell_type": "markdown",
      "metadata": {
        "id": "view-in-github",
        "colab_type": "text"
      },
      "source": [
        "<a href=\"https://colab.research.google.com/github/DArsem2306/Programa-Python-Utec/blob/main/Programacion-Python-Utec/ejercicios/clase03_Estructuras_Condicionales.ipynb\" target=\"_parent\"><img src=\"https://colab.research.google.com/assets/colab-badge.svg\" alt=\"Open In Colab\"/></a>"
      ]
    },
    {
      "cell_type": "markdown",
      "source": [
        "<img src=\"https://posgrado.utec.edu.pe/sites/default/files/2023-08/Testimonial-home-2.jpg\" alt=\"HTML5 Icon\" width=\"900\" height=\"250\" >\n"
      ],
      "metadata": {
        "id": "biGuvFhNgJci"
      }
    },
    {
      "cell_type": "markdown",
      "source": [
        "# **Ejercicios - Estructuras Condicionales**"
      ],
      "metadata": {
        "id": "XHmAps3dgL55"
      }
    },
    {
      "cell_type": "markdown",
      "source": [
        "**Ejercicio 1:**\n",
        "\n",
        "Solicita un número al usuario y determina si es positivo, negativo o cero."
      ],
      "metadata": {
        "id": "VtGN4U_c67JX"
      }
    },
    {
      "cell_type": "code",
      "execution_count": 1,
      "metadata": {
        "id": "gFFv7u0r6xpc",
        "colab": {
          "base_uri": "https://localhost:8080/"
        },
        "outputId": "fe1f4491-84b1-4233-e73c-f4597c60d81d"
      },
      "outputs": [
        {
          "output_type": "stream",
          "name": "stdout",
          "text": [
            "Ingrese un número:  34\n",
            "El número es positivo.\n"
          ]
        }
      ],
      "source": [
        "## INICIO DE CÓDIGO\n",
        "\n",
        "numero = float(input(\"Ingrese un número: \"))\n",
        "\n",
        "if numero > 0:\n",
        "    print(\"El número es positivo.\")\n",
        "elif numero < 0:\n",
        "    print(\"El número es negativo.\")\n",
        "else:\n",
        "    print(\"El número es cero.\")\n",
        "\n",
        "## FIN DE CÓDIGO"
      ]
    },
    {
      "cell_type": "markdown",
      "source": [
        "**Ejercicio 2:**\n",
        "\n",
        "Pide una contraseña y verifica si coincide con una contraseña guardada.\n"
      ],
      "metadata": {
        "id": "ARnpMbmOgzcw"
      }
    },
    {
      "cell_type": "code",
      "source": [
        "## INICIO DE CÓDIGO\n",
        "\n",
        "password = 'peperoni'\n",
        "password_input = input(\"Ingrese la contraseña: \")\n",
        "\n",
        "if password == password_input:\n",
        "    print(\"Contraseña correcta.\")\n",
        "else:\n",
        "    print(\"Contraseña incorrecta.\")\n",
        "\n",
        "## FIN DE CÓDIGO"
      ],
      "metadata": {
        "id": "ONIZJ8EygwmV",
        "colab": {
          "base_uri": "https://localhost:8080/"
        },
        "outputId": "03d2574b-13fb-47b1-e0a7-e410352874de"
      },
      "execution_count": 2,
      "outputs": [
        {
          "output_type": "stream",
          "name": "stdout",
          "text": [
            "Ingrese la contraseña: peperoni\n",
            "Contraseña correcta.\n"
          ]
        }
      ]
    },
    {
      "cell_type": "markdown",
      "source": [
        "**Ejercicio 3:**\n",
        "\n",
        "Pide tres números y muestra cuál es el mayor.\n"
      ],
      "metadata": {
        "id": "m_Zjto9bgz3K"
      }
    },
    {
      "cell_type": "code",
      "source": [
        "## INICIO DE CÓDIGO\n",
        "\n",
        "num1 = float(input(\"Ingrese el primer número: \"))\n",
        "num2 = float(input(\"Ingrese el segundo número: \"))\n",
        "num3 = float(input(\"Ingrese el tercer número: \"))\n",
        "\n",
        "if num1 >= num2 and num1 >= num3:\n",
        "    print(\"El primer número es el mayor.\")\n",
        "elif num2 >= num1 and num2 >= num3:\n",
        "    print(\"El segundo número es el mayor.\")\n",
        "else:\n",
        "    print(\"El tercer número es el mayor.\")\n",
        "\n",
        "## FIN DE CÓDIGO"
      ],
      "metadata": {
        "id": "yyuzVc-1gxAu",
        "colab": {
          "base_uri": "https://localhost:8080/"
        },
        "outputId": "1d22160b-ec35-4dab-da8b-d613c655fc5a"
      },
      "execution_count": 3,
      "outputs": [
        {
          "output_type": "stream",
          "name": "stdout",
          "text": [
            "Ingrese el primer número: 3\n",
            "Ingrese el segundo número: 2\n",
            "Ingrese el tercer número: 5\n",
            "El tercer número es el mayor.\n"
          ]
        }
      ]
    },
    {
      "cell_type": "markdown",
      "source": [
        "**Ejercicio 4:**\n",
        "\n",
        "Simula el ingreso a un concierto: edad mínima 18, entrada pagada.\n"
      ],
      "metadata": {
        "id": "NyBNtR1Dg0R_"
      }
    },
    {
      "cell_type": "code",
      "source": [
        "## INICIO DE CÓDIGO\n",
        "\n",
        "age = int(input(\"Ingrese su edad: \"))\n",
        "entrada_pagada = input(\"¿La entrada está pagada?: \")\n",
        "\n",
        "if age >= 18 and entrada_pagada.lower() == 'si':\n",
        "    print(\"Acceso permitido al concierto.\")\n",
        "else:\n",
        "    print(\"Acceso denegado.\")\n",
        "\n",
        "## FIN DE CÓDIGO"
      ],
      "metadata": {
        "id": "WvL1Xxhggxhj",
        "colab": {
          "base_uri": "https://localhost:8080/"
        },
        "outputId": "07260f8b-9089-4666-d9e3-d2c527c6ad9f"
      },
      "execution_count": 4,
      "outputs": [
        {
          "output_type": "stream",
          "name": "stdout",
          "text": [
            "Ingrese su edad: 23\n",
            "¿La entrada está pagada?: Si\n",
            "Acceso permitido al concierto.\n"
          ]
        }
      ]
    },
    {
      "cell_type": "markdown",
      "source": [
        "**Ejercicio 5:**\n",
        "\n",
        "Verifica si un usuario tiene permisos según su rol: admin, editor o lector.\n"
      ],
      "metadata": {
        "id": "iMEJ1vhuhG--"
      }
    },
    {
      "cell_type": "code",
      "source": [
        "## INICIO DE CÓDIGO\n",
        "\n",
        "rol = input(\"Ingrese su rol (admin, editor, lector): \")\n",
        "if rol.lower() == 'admin':\n",
        "    print(\"Tienes permisos de administrador.\")\n",
        "\n",
        "elif rol.lower() == 'editor':\n",
        "    print(\"Tienes permisos de editor.\")\n",
        "\n",
        "elif rol.lower() == 'lector':\n",
        "    print(\"Solo tienes permisos de lectura.\")\n",
        "\n",
        "else:\n",
        "    print(\"Rol no válido. No tienes permisos.\")\n",
        "\n",
        "\n",
        "## FIN DE CÓDIGO"
      ],
      "metadata": {
        "id": "AtlFBl9xgx4t",
        "colab": {
          "base_uri": "https://localhost:8080/"
        },
        "outputId": "0eb1c18d-be9d-4ef8-b0ac-0714f3860570"
      },
      "execution_count": 5,
      "outputs": [
        {
          "output_type": "stream",
          "name": "stdout",
          "text": [
            "Ingrese su rol (admin, editor, lector): admin\n",
            "Tienes permisos de administrador.\n"
          ]
        }
      ]
    },
    {
      "cell_type": "markdown",
      "source": [
        "**Ejercicio 6:**\n",
        "\n",
        "Pide el nombre de una fruta y verifica si está en una lista de disponibles.\n"
      ],
      "metadata": {
        "id": "wx61pwdchJIr"
      }
    },
    {
      "cell_type": "code",
      "source": [
        "## INICIO DE CÓDIGO\n",
        "\n",
        "fruit = input(\"Ingrese el nombre de una fruta: \")\n",
        "fruits = [\"manzana\", \"plano\", \"pera\", \"mango\"]\n",
        "\n",
        "if fruit.lower() in fruits:\n",
        "    print(\"La fruta está disponible.\")\n",
        "else:\n",
        "    print(\"La fruta no está disponible.\")\n",
        "\n",
        "\n",
        "## FIN DE CÓDIGO"
      ],
      "metadata": {
        "id": "dM1dhvOQgyQj",
        "colab": {
          "base_uri": "https://localhost:8080/"
        },
        "outputId": "3a37faa8-2192-4e85-daa4-79508dd3b022"
      },
      "execution_count": 6,
      "outputs": [
        {
          "output_type": "stream",
          "name": "stdout",
          "text": [
            "Ingrese el nombre de una fruta: pera\n",
            "La fruta está disponible.\n"
          ]
        }
      ]
    },
    {
      "cell_type": "markdown",
      "source": [
        "**Ejercicio 7:**\n",
        "\n",
        "Clasifica una temperatura ingresada por el usuario: frío (<15), templado (15–25), calor (>25).\n"
      ],
      "metadata": {
        "id": "B3FkjCzjhKt0"
      }
    },
    {
      "cell_type": "code",
      "source": [
        "## INICIO DE CÓDIGO\n",
        "\n",
        "temp = float(input(\"Ingrese la temperatura: \"))\n",
        "\n",
        "if temp < 15:\n",
        "    print(\"El clima esta frío.\")\n",
        "elif 15 <= temp <= 25:\n",
        "    print(\"El clima esta templado.\")\n",
        "else:\n",
        "    print(\"El clima esta caliente!.\")\n",
        "\n",
        "## FIN DE CÓDIGO"
      ],
      "metadata": {
        "id": "6hgJF-HegymO",
        "colab": {
          "base_uri": "https://localhost:8080/"
        },
        "outputId": "7c1c9994-407b-4132-da77-61782aa5ac8b"
      },
      "execution_count": 7,
      "outputs": [
        {
          "output_type": "stream",
          "name": "stdout",
          "text": [
            "Ingrese la temperatura: 24\n",
            "El clima esta templado.\n"
          ]
        }
      ]
    },
    {
      "cell_type": "markdown",
      "source": [
        "**Ejercicio 8:**\n",
        "\n",
        "Pide el nombre de usuario y saluda de forma especial si es \"invitado\" o \"admin\"."
      ],
      "metadata": {
        "id": "v_G0soOGhMEm"
      }
    },
    {
      "cell_type": "code",
      "source": [
        "## INICIO DE CÓDIGO\n",
        "print(\"Bienvenido a la Fiesta\")\n",
        "username = input(\"Ingrese su nombre de usuario: \").lower()\n",
        "\n",
        "invite = ['hugo', 'daniel', 'pedro', 'luis']\n",
        "admin = ['carlos', 'juan', 'diego']\n",
        "\n",
        "if username in invite:\n",
        "    print(\"Bienvenido invitado.\")\n",
        "elif username in admin:\n",
        "    print(\"Bienvenido administrador.\")\n",
        "else:\n",
        "    print(\"Disculpe, no lo tenemos registrado en el evento\")\n",
        "\n",
        "## FIN DE CÓDIGO"
      ],
      "metadata": {
        "id": "Tt_Fz8tlhMes",
        "colab": {
          "base_uri": "https://localhost:8080/"
        },
        "outputId": "6034d625-bd6c-42e1-e6c7-f15f6bb4d9e7"
      },
      "execution_count": 10,
      "outputs": [
        {
          "output_type": "stream",
          "name": "stdout",
          "text": [
            "Bienvenido a la Fiesta\n",
            "Ingrese su nombre de usuario: Daniel\n",
            "Bienvenido invitado.\n"
          ]
        }
      ]
    },
    {
      "cell_type": "markdown",
      "source": [
        "---\n",
        "\n",
        "# Gracias por completar este laboratorio!\n",
        "\n",
        "---\n"
      ],
      "metadata": {
        "id": "GL6sdU0FhPu-"
      }
    }
  ]
}