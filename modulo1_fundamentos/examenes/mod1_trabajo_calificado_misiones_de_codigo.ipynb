{
  "nbformat": 4,
  "nbformat_minor": 0,
  "metadata": {
    "colab": {
      "provenance": [],
      "include_colab_link": true
    },
    "kernelspec": {
      "name": "python3",
      "display_name": "Python 3"
    },
    "language_info": {
      "name": "python"
    }
  },
  "cells": [
    {
      "cell_type": "markdown",
      "metadata": {
        "id": "view-in-github",
        "colab_type": "text"
      },
      "source": [
        "<a href=\"https://colab.research.google.com/github/DArsem2306/Programa-Python-Utec/blob/main/modulo1_fundamentos/examenes/mod1_trabajo_calificado_misiones_de_codigo.ipynb\" target=\"_parent\"><img src=\"https://colab.research.google.com/assets/colab-badge.svg\" alt=\"Open In Colab\"/></a>"
      ]
    },
    {
      "cell_type": "markdown",
      "source": [
        "<img src=\"https://posgrado.utec.edu.pe/sites/default/files/2023-08/Testimonial-home-2.jpg\" alt=\"HTML5 Icon\" width=\"900\" height=\"250\" >\n"
      ],
      "metadata": {
        "id": "dYz-CyepUcRS"
      }
    },
    {
      "cell_type": "markdown",
      "source": [
        "# **Trabajo Calificado: Misiones de Código**"
      ],
      "metadata": {
        "id": "tYd6BiWgUfLo"
      }
    },
    {
      "cell_type": "markdown",
      "source": [
        "**Contexto:**\n",
        "\n",
        "Eres desarrollador de un Simulador de Aventuras llamado Pythonia, un entorno virtual de entrenamiento diseñado para mejorar tus habilidades de programación. En este simulador, enfrentarás una serie de desafíos basados en situaciones de videojuegos y escenarios de aventura, donde deberás aplicar estructuras lógicas, condicionales, bucles y funciones para resolver problemas.\n",
        "\n"
      ],
      "metadata": {
        "id": "GtjjVTFRU6W1"
      }
    },
    {
      "cell_type": "markdown",
      "source": [
        "Cada ejercicio representa un reto independiente que simula eventos comunes en el desarrollo de videojuegos, sistemas de simulación y lógica de juegos interactivos."
      ],
      "metadata": {
        "id": "Ggayz2SXVXjt"
      }
    },
    {
      "cell_type": "markdown",
      "source": [
        "**Recomendaciones:**\n",
        "\n",
        "Utilizar buenas prácticas: comentarios, entradas y salidas limpias.\n",
        "\n",
        "Uso de funciones donde sea necesario."
      ],
      "metadata": {
        "id": "eAL1_dscUjd_"
      }
    },
    {
      "cell_type": "markdown",
      "source": [
        "**Ejercicio 1: Elige tu personaje (Variables y Entrada/Salida)**\n",
        "\n",
        "Crea un programa que permita al jugador elegir su personaje entre Mago, Guerrero o Arquero. Según la elección, muestra un mensaje personalizado con las estadísticas iniciales (vida, poder, defensa)."
      ],
      "metadata": {
        "id": "YpxJc_PoVc4c"
      }
    },
    {
      "cell_type": "code",
      "source": [
        "## INICIO DE CÓDIGO\n",
        "\n",
        "#Mensajes de bievenida / contexto\n",
        "print(\"🧙‍♂️ Bienvenido a Pythonia: Simulador de aventuras!\")\n",
        "print(\"Elige tu personaje\")\n",
        "print(\"Opciones disponibles: Mago, Guerrero, Arquero\")\n",
        "\n",
        "\n",
        "while True: #Bucle/Flag para poder asegurar personaje correcto\n",
        "\n",
        "  # Elección del jugador\n",
        "  character = input(\"¿Qué personaje eliges? \").strip().lower()\n",
        "\n",
        "  # Asignación de estadísticas según el personaje\n",
        "  if character == \"mago\":\n",
        "    health = 70\n",
        "    power = 90\n",
        "    defense = 40\n",
        "    print(\"\\nHas elegido al Mago 🧙‍♂️\")\n",
        "    break #evita el loop y corta al print\n",
        "  elif character == \"guerrero\":\n",
        "    health = 100\n",
        "    power = 70\n",
        "    defense = 80\n",
        "    print(\"\\nHas elegido al Guerrero ⚔️\")\n",
        "    break\n",
        "  elif character == \"arquero\":\n",
        "    health = 85\n",
        "    power = 80\n",
        "    defense = 60\n",
        "    print(\"\\nHas elegido al Arquero 🏹\")\n",
        "    break\n",
        "  else:\n",
        "    print(\"\\nPersonaje no reconocido. Intenta con Mago, Guerrero o Arquero.\")\n",
        "\n",
        "  # Mostrar estadísticas iniciales\n",
        "print(f\"\\nVida: {health}\")\n",
        "print(f\"Poder: {power}\")\n",
        "print(f\"Defensa: {defense}\")\n",
        "## FIN DE CÓDIGO"
      ],
      "metadata": {
        "id": "GZrzl-7wVfkW",
        "outputId": "4d09aa26-6210-4464-ac3e-a99c92773efb",
        "colab": {
          "base_uri": "https://localhost:8080/"
        }
      },
      "execution_count": null,
      "outputs": [
        {
          "output_type": "stream",
          "name": "stdout",
          "text": [
            "🧙‍♂️ Bienvenido a Pythonia: Simulador de aventuras!\n",
            "Elige tu personaje\n",
            "Opciones disponibles: Mago, Guerrero, Arquero\n",
            "¿Qué personaje eliges? pepe\n",
            "\n",
            "Personaje no reconocido. Intenta con Mago, Guerrero o Arquero.\n",
            "¿Qué personaje eliges? mago\n",
            "\n",
            "Has elegido al Mago 🧙‍♂️\n",
            "\n",
            "Vida: 70\n",
            "Poder: 90\n",
            "Defensa: 40\n"
          ]
        }
      ]
    },
    {
      "cell_type": "markdown",
      "source": [
        "**Ejercicio 2: La prueba del sabio (Condicionales)**\n",
        "\n",
        "El sabio te hace una pregunta: si traes menos de 50 monedas de oro, te expulsará; si llevas entre 50 y 100, te permitirá pasar; si llevas más de 100, te dará una poción.\n",
        "Crea el programa que lea las monedas y muestre el resultado."
      ],
      "metadata": {
        "id": "kvoGwX-QVgPr"
      }
    },
    {
      "cell_type": "code",
      "execution_count": null,
      "metadata": {
        "id": "3tg6KSK-UbUw",
        "outputId": "a7d191f0-bf2b-41f2-e4b5-71f2fa0f50b6",
        "colab": {
          "base_uri": "https://localhost:8080/"
        }
      },
      "outputs": [
        {
          "output_type": "stream",
          "name": "stdout",
          "text": [
            "Oh no! Te encontraste con el sabio...\n",
            "Necesita saber cuántas monedas de oro llevas.\n",
            "¿Cuántas monedas de oro llevas? : 70\n",
            "Bienvenido al templo...¡suerte!\n"
          ]
        }
      ],
      "source": [
        "## INICIO DE CÓDIGO\n",
        "\n",
        "#Mensajes de bievenida / contexto\n",
        "print(\"Oh no! Te encontraste con el sabio...\")\n",
        "print(\"Necesita saber cuántas monedas de oro llevas.\")\n",
        "\n",
        "#Input de usuario para saber monedas\n",
        "coins = int(input(\"¿Cuántas monedas de oro llevas? : \"))\n",
        "\n",
        "#Condicionales if elif else\n",
        "\n",
        "if coins < 50:\n",
        "  print(\"Monedas insuficientes. El sabio te ha expulsado del templo.¡Consigue más monedas de oro para continuar!\")\n",
        "elif 50 <= coins <= 100:\n",
        "  print(\"Bienvenido al templo...¡suerte!\")\n",
        "else:\n",
        "  print(\"El sabio no puede creer que tengas tantas monedas; te has ganado una poción y la entrada al templo. ¡Felicidades!\")\n",
        "\n",
        "\n",
        "\n",
        "## FIN DE CÓDIGO"
      ]
    },
    {
      "cell_type": "markdown",
      "source": [
        "**Ejercicio 3: El puente infinito (Bucles While)**\n",
        "\n",
        "Diseña un programa que simule el cruce de un puente que cambia su estructura aleatoriamente. El jugador debe adivinar si el siguiente paso será seguro ('s') o peligroso ('p').\n",
        "El juego termina si el jugador elige 'salir' o si falla 3 veces."
      ],
      "metadata": {
        "id": "g7B02fWhVj4M"
      }
    },
    {
      "cell_type": "code",
      "source": [
        "## INICIO DE CÓDIGO\n",
        "#Mensajes de bievenida / contexto\n",
        "print(\"****  Llegaste hasta el puente mágico  ****\")\n",
        "print(\"Este puente cambia su estructura aleatoriamente\")\n",
        "print(\"Necesitas saber si el siguiente paso es seguro () o peligroso (p)\")\n",
        "print(\"Escribe 'salir' en cualquier momento para abandonar.\")\n",
        "print(\"Maximo de Fallas permitidas: 3\\n\")\n",
        "\n",
        "import random\n",
        "\n",
        "# Variables iniciales\n",
        "fails = 0\n",
        "max_fails = 3\n",
        "\n",
        "while True:\n",
        "    # Generar paso aleatorio: seguro ('s') o peligroso ('p')\n",
        "    next_step = random.choice(['s', 'p'])\n",
        "\n",
        "    # Entrada del jugador\n",
        "    guess = input(\"¿Tu predicción (s/p)? \").strip().lower()\n",
        "\n",
        "    if guess == 'salir':\n",
        "        print(\"\\n Has decidido abandonar el puente. ¡Hasta la próxima!\")\n",
        "        break\n",
        "    elif guess not in ['s', 'p']:\n",
        "        print(\"Entrada inválida. Solo puedes ingresar 's', 'p' o 'salir'.\")\n",
        "        continue\n",
        "\n",
        "    # Comparar con el paso real\n",
        "    if guess == next_step:\n",
        "        print(\"¡Acertaste! El puente sigue firme.\\n\")\n",
        "    else:\n",
        "        fails += 1\n",
        "        print(\"¡Fallaste! Ese paso era\", \"'seguro'\"\n",
        "              if next_step == 's'\n",
        "              else \"'peligroso'\")\n",
        "        print(f\"Fallos acumulados: {fails}/{max_fails}\\n\")\n",
        "\n",
        "        if fails >= max_fails:\n",
        "            print(\"Has fallado 3 veces. Caiste al agua y te comio un cocodrilo...\")\n",
        "            break\n",
        "## FIN DE CÓDIGO"
      ],
      "metadata": {
        "id": "9DRMWhDBVn71",
        "outputId": "f6773d3d-4d98-4481-c24e-71f02121cf7b",
        "colab": {
          "base_uri": "https://localhost:8080/"
        }
      },
      "execution_count": null,
      "outputs": [
        {
          "output_type": "stream",
          "name": "stdout",
          "text": [
            "****  Llegaste hasta el puente mágico  ****\n",
            "Este puente cambia su estructura aleatoriamente\n",
            "Necesitas saber si el siguiente paso es seguro () o peligroso (p)\n",
            "Escribe 'salir' en cualquier momento para abandonar.\n",
            "Maximo de Fallas permitidas: 3\n",
            "\n",
            "¿Tu predicción (s/p)? s\n",
            "¡Fallaste! Ese paso era 'peligroso'\n",
            "Fallos acumulados: 1/3\n",
            "\n",
            "¿Tu predicción (s/p)? s\n",
            "¡Fallaste! Ese paso era 'peligroso'\n",
            "Fallos acumulados: 2/3\n",
            "\n",
            "¿Tu predicción (s/p)? s\n",
            "¡Acertaste! El puente sigue firme.\n",
            "\n",
            "¿Tu predicción (s/p)? p\n",
            "¡Fallaste! Ese paso era 'seguro'\n",
            "Fallos acumulados: 3/3\n",
            "\n",
            "Has fallado 3 veces. Caiste al agua y te comio uyn cocodrilo...\n"
          ]
        }
      ]
    },
    {
      "cell_type": "markdown",
      "source": [
        "**Ejercicio 4: El laberinto secreto (Bucle For y Range)**\n",
        "\n",
        "Crea un programa que muestre una cuenta regresiva desde 10 hasta 1 al estilo nivel de escape del laberinto. Cada número debe ir acompañado de un mensaje tipo \"Quedan X segundos para escapar\"."
      ],
      "metadata": {
        "id": "66qKXQwTVoZG"
      }
    },
    {
      "cell_type": "code",
      "source": [
        "## INICIO DE CÓDIGO\n",
        "#Mensajes de bievenida / contexto\n",
        "print(\"¡Has activado la salida del laberinto secreto!\")\n",
        "print(\"Empezará la cuenta regresiva para escapar:\\n\")\n",
        "\n",
        "for seconds in range(10, 0, -1):  # No hay necesidad de definir la variable pero si nombrarla #Cuenta de 10 a 1\n",
        "    print(f\"Corre!!! Te quedan {seconds} segundos para escapar...\")\n",
        "\n",
        "print(\"\\n ¡Has escapado justo a tiempo del laberinto!\")\n",
        "## FIN DE CÓDIGO"
      ],
      "metadata": {
        "id": "i1S9WPmhVsEj",
        "outputId": "3d973465-2489-440e-a8c0-a71ebd900021",
        "colab": {
          "base_uri": "https://localhost:8080/"
        }
      },
      "execution_count": null,
      "outputs": [
        {
          "output_type": "stream",
          "name": "stdout",
          "text": [
            "¡Has activado la salida del laberinto secreto!\n",
            "Empezará la cuenta regresiva para escapar:\n",
            "\n",
            "Corre!!! Te quedan 10 segundos para escapar...\n",
            "Corre!!! Te quedan 9 segundos para escapar...\n",
            "Corre!!! Te quedan 8 segundos para escapar...\n",
            "Corre!!! Te quedan 7 segundos para escapar...\n",
            "Corre!!! Te quedan 6 segundos para escapar...\n",
            "Corre!!! Te quedan 5 segundos para escapar...\n",
            "Corre!!! Te quedan 4 segundos para escapar...\n",
            "Corre!!! Te quedan 3 segundos para escapar...\n",
            "Corre!!! Te quedan 2 segundos para escapar...\n",
            "Corre!!! Te quedan 1 segundos para escapar...\n",
            "\n",
            " ¡Has escapado justo a tiempo del laberinto!\n"
          ]
        }
      ]
    },
    {
      "cell_type": "markdown",
      "source": [
        "**Ejercicio 5: Cofres encantados (Break y Continue)**\n",
        "\n",
        "Simula 10 cofres cerrados, pero uno de ellos es una trampa explosiva (elige aleatoriamente una posición).\n",
        "El jugador abre cofres uno por uno:\n",
        "\n",
        "* Si encuentra la trampa, termina el juego (break).\n",
        "\n",
        "* Si encuentra cofres vacíos, continúa (continue).\n",
        "\n",
        "* Si abre todos sin explotar, gana."
      ],
      "metadata": {
        "id": "5dL6C-x1VsYf"
      }
    },
    {
      "cell_type": "code",
      "source": [
        "## INICIO DE CÓDIGO\n",
        "import random\n",
        "\n",
        "#Mensajes de bievenida / contexto\n",
        "print(\"Bienvenido a 'Cofres Encantados'\")\n",
        "print(\"Abre los cofres con cuidado...uno de ellos es una trampa\")\n",
        "\n",
        "# Definir el aleatorio para la trampa considerando el rango de 1 a 10\n",
        "# Ajuste! Si tiene que abrir todos sin explotar entonces el range debe ser mayor a 10 - Detalle punto 3\n",
        "trap_pos = random.randint(1, 15)\n",
        "\n",
        "#Simulador de aperturas de cofre\n",
        "for chest in range(1, 11):\n",
        "    input(f\"\\n Presiona ENTER para abrir el cofre #{chest}...\")\n",
        "\n",
        "    if chest == trap_pos:\n",
        "        print(\"¡Boom! Abriste un cofre trampa. El juego ha terminado.\")\n",
        "        break\n",
        "    else:\n",
        "        print(\"Cofre vacío. Continúa buscando...\")\n",
        "\n",
        "# Solo se muestra si se abre todo sin explotar\n",
        "else:\n",
        "    print(\"\\n ¡Has abierto todos los cofres sin activar la trampa! Ganaste.\")\n",
        "\n",
        "## FIN DE CÓDIGO"
      ],
      "metadata": {
        "id": "d0hcbl0_V2BI",
        "outputId": "36ec75ee-b3e7-41da-caa2-38ecefc05949",
        "colab": {
          "base_uri": "https://localhost:8080/"
        }
      },
      "execution_count": null,
      "outputs": [
        {
          "output_type": "stream",
          "name": "stdout",
          "text": [
            "Bienvenido a 'Cofres Encantados'\n",
            "Abre los cofres con cuidado...uno de ellos es una trampa\n",
            "\n",
            " Presiona ENTER para abrir el cofre #1...\n",
            "Cofre vacío. Continúa buscando...\n",
            "\n",
            " Presiona ENTER para abrir el cofre #2...0\n",
            "Cofre vacío. Continúa buscando...\n",
            "\n",
            " Presiona ENTER para abrir el cofre #3...\n",
            "Cofre vacío. Continúa buscando...\n",
            "\n",
            " Presiona ENTER para abrir el cofre #4...\n",
            "Cofre vacío. Continúa buscando...\n",
            "\n",
            " Presiona ENTER para abrir el cofre #5...0\n",
            "Cofre vacío. Continúa buscando...\n",
            "\n",
            " Presiona ENTER para abrir el cofre #6...0\n",
            "Cofre vacío. Continúa buscando...\n",
            "\n",
            " Presiona ENTER para abrir el cofre #7...0\n",
            "Cofre vacío. Continúa buscando...\n",
            "\n",
            " Presiona ENTER para abrir el cofre #8...0\n",
            "¡Boom! Abriste un cofre trampa. El juego ha terminado.\n"
          ]
        }
      ]
    },
    {
      "cell_type": "markdown",
      "source": [
        "**Ejercicio 6: Pociones mágicas (Funciones básicas)**\n",
        "\n",
        "Crea una función usar_pocion(tipo) que permita al jugador elegir entre 'vida', 'fuerza' o 'velocidad', y retorne el efecto de la poción.\n",
        "Luego, pide al usuario que elija una poción y muestra el resultado llamando a la función."
      ],
      "metadata": {
        "id": "94yOz-rKV2gp"
      }
    },
    {
      "cell_type": "code",
      "source": [
        "## INICIO DE CÓDIGO\n",
        "\n",
        "def use_potion(tipo):\n",
        "    \"\"\"Retorna el efecto de la poción según el tipo elegido.\"\"\"\n",
        "    if tipo == 'vida':\n",
        "        return \"❤️ Has recuperado 50 puntos de vida.\"\n",
        "    elif tipo == 'fuerza':\n",
        "        return \"💪 Tu fuerza ha aumentado durante 5 minutos.\"\n",
        "    elif tipo == 'velocidad':\n",
        "        return \"⚡ Te mueves el doble de rápido por 3 minutos.\"\n",
        "    else:\n",
        "        return \"❌ Pocion desconocida. No ocurre nada...\"\n",
        "\n",
        "# Introducción\n",
        "print(\"🧪 Pociones mágicas disponibles: vida, fuerza, velocidad\")\n",
        "\n",
        "# Entrada del usuario\n",
        "option = input(\"¿Qué poción deseas usar? \").lower()\n",
        "\n",
        "# Mostrar el efecto\n",
        "efect = use_potion(option)\n",
        "print(\"\\n🔮 Resultado:\", efect)\n",
        "\n",
        "\n",
        "## FIN DE CÓDIGO"
      ],
      "metadata": {
        "id": "NQKm0w5iV4Zz",
        "outputId": "5d60b3f9-444e-4ddf-c620-1b19318da724",
        "colab": {
          "base_uri": "https://localhost:8080/"
        }
      },
      "execution_count": 3,
      "outputs": [
        {
          "output_type": "stream",
          "name": "stdout",
          "text": [
            "🧪 Pociones mágicas disponibles: vida, fuerza, velocidad\n",
            "¿Qué poción deseas usar? vida\n",
            "\n",
            "🔮 Resultado: ❤️ Has recuperado 50 puntos de vida.\n"
          ]
        }
      ]
    },
    {
      "cell_type": "markdown",
      "source": [
        "**Ejercicio 7: Calculadora de daño crítico (Funciones con parámetros)**\n",
        "\n",
        "Crea una función calcular_danio(base, critico) que reciba el daño base y un porcentaje de crítico, devolviendo el daño total.\n",
        "El usuario ingresará el daño base y el porcentaje crítico."
      ],
      "metadata": {
        "id": "Qdnbnm4nV44h"
      }
    },
    {
      "cell_type": "code",
      "source": [
        "## INICIO DE CÓDIGO\n",
        "\n",
        "def calcular_danio(base, critico):\n",
        "    \"\"\"Calcula el daño total considerando el porcentaje crítico.\"\"\"\n",
        "    danio_total = base + (base * critico / 100)\n",
        "    return danio_total\n",
        "\n",
        "# Introducción al jugador\n",
        "print(\"⚔️ Calculadora de Daño Crítico\")\n",
        "print(\"==============================\")\n",
        "\n",
        "# Entrada del usuario\n",
        "base = float(input(\"🔢 Ingresa el daño base: \"))\n",
        "critico = float(input(\"💥 Ingresa el porcentaje de crítico (%): \"))\n",
        "\n",
        "# Cálculo\n",
        "total = calcular_danio(base, critico)\n",
        "\n",
        "# Resultado\n",
        "print(f\"\\n Daño total infligido: {total}\")\n",
        "## FIN DE CÓDIGO"
      ],
      "metadata": {
        "id": "leaLQJWrV8Tx",
        "outputId": "85df2326-9f16-4b4f-e060-4b9330036916",
        "colab": {
          "base_uri": "https://localhost:8080/"
        }
      },
      "execution_count": 4,
      "outputs": [
        {
          "output_type": "stream",
          "name": "stdout",
          "text": [
            "⚔️ Calculadora de Daño Crítico\n",
            "==============================\n",
            "🔢 Ingresa el daño base: 40\n",
            "💥 Ingresa el porcentaje de crítico (%): 10\n",
            "\n",
            "🔥 Daño total infligido: 44.0\n"
          ]
        }
      ]
    },
    {
      "cell_type": "markdown",
      "source": [
        "**Ejercicio 8: El desafío del dragón (Condicionales + funciones + bucles)**\n",
        "\n",
        "Diseña una función enfrentar_dragon(vida, fuerza) que simule el combate:\n",
        "\n",
        "* El jugador ataca al dragón y el dragón contraataca restando vida.\n",
        "\n",
        "* Si la vida llega a 0, el jugador pierde.\n",
        "\n",
        "* Si el jugador realiza 3 ataques consecutivos sin morir, gana.\n",
        "Usa un bucle while interno para el combate."
      ],
      "metadata": {
        "id": "d4j1ckE2V9ag"
      }
    },
    {
      "cell_type": "code",
      "source": [
        "## INICIO DE CÓDIGO\n",
        "\n",
        "#Intro para el juego\n",
        "print(\"🐲 Desafío del Dragón - Simulación de combate\")\n",
        "vida_inicial = int(input(\"Ingresa tu vida inicial (ej: 100): \"))\n",
        "fuerza_jugador = int(input(\"Ingresa tu fuerza (ej: 20): \"))\n",
        "\n",
        "\n",
        "import random #import para sacar el ataque del dragon\n",
        "\n",
        "def enfrentar_dragon(vida, fuerza): #creando la funcion bajo condiciones\n",
        "    ataques_realizados = 0 #Ataques en 0\n",
        "\n",
        "    print(\"\\n🔥 ¡Te enfrentas al dragón! 🐉\")\n",
        "    print(f\"Tu vida inicial: {vida} | Tu fuerza: {fuerza}\\n\")\n",
        "\n",
        "    while ataques_realizados < 3 and vida > 0:\n",
        "        input(f\"Presiona Enter para atacar al dragón... (Ataque #{ataques_realizados + 1})\")\n",
        "\n",
        "        print(\"⚔️ ¡Atacas al dragón!\")\n",
        "        # El dragón contraataca\n",
        "        danio_dragon = random.randint(10, 20) #El dragon ataca bajo un random y con un parametro\n",
        "        vida -= danio_dragon #como resultado la vida baja con el ataque del dragon\n",
        "\n",
        "        if vida <= 0: #cuando la vida llega a 0 o el ataque es mayor a la vida\n",
        "            print(f\"💀 El dragón te atacó con {danio_dragon} de daño. ¡Has sido derrotado!\")\n",
        "            break\n",
        "        else: #Continua el ataque\n",
        "            ataques_realizados += 1\n",
        "            print(f\"🛡️ El dragón contraataca con {danio_dragon} de daño. Vida restante: {vida}\\n\")\n",
        "\n",
        "    if ataques_realizados == 3 and vida > 0: #3 ataques y aun con vida\n",
        "        print(\"🏆 ¡Has vencido al dragón tras 3 ataques exitosos!\")\n",
        "\n",
        "enfrentar_dragon(vida_inicial, fuerza_jugador) #Hay error porque no corre si esta al inicio. Llega post definicion de variable\n",
        "\n",
        "\n",
        "\n",
        "## FIN DE CÓDIGO"
      ],
      "metadata": {
        "id": "_CGyWwuaWByi",
        "outputId": "85d99f3a-23ab-4c82-8cd6-ec3863231ffa",
        "colab": {
          "base_uri": "https://localhost:8080/"
        }
      },
      "execution_count": 9,
      "outputs": [
        {
          "output_type": "stream",
          "name": "stdout",
          "text": [
            "🐲 Desafío del Dragón - Simulación de combate\n",
            "Ingresa tu vida inicial (ej: 100): 10\n",
            "Ingresa tu fuerza (ej: 20): 60\n",
            "\n",
            "🔥 ¡Te enfrentas al dragón! 🐉\n",
            "Tu vida inicial: 10 | Tu fuerza: 60\n",
            "\n",
            "Presiona Enter para atacar al dragón... (Ataque #1)\n",
            "⚔️ ¡Atacas al dragón!\n",
            "💀 El dragón te atacó con 17 de daño. ¡Has sido derrotado!\n"
          ]
        }
      ]
    },
    {
      "cell_type": "markdown",
      "source": [
        "**Ejercicio 9: El camino del héroe (Recursividad sencilla)**\n",
        "\n",
        "Crea una función recursiva que simule el camino de un héroe cruzando N obstáculos, mostrando mensajes como:\n",
        "\n",
        "\"Obstáculo 3: saltando...\"\n",
        "\n",
        "Termina cuando N llegue a 0."
      ],
      "metadata": {
        "id": "8X5Y08fQWCFU"
      }
    },
    {
      "cell_type": "code",
      "source": [
        "## INICIO DE CÓDIGO\n",
        "\n",
        "## FIN DE CÓDIGO"
      ],
      "metadata": {
        "id": "vVDjZHSVWJdQ"
      },
      "execution_count": null,
      "outputs": []
    },
    {
      "cell_type": "markdown",
      "source": [
        "**Ejercicio 10: Torre de los hechizos (Reto Integrador Final)**\n",
        "\n",
        "Crea un programa completo que combine:\n",
        "\n",
        "* Elección de personaje.\n",
        "\n",
        "* Simulación de un combate contra un enemigo con vida y defensa.\n",
        "\n",
        "* Uso de funciones para calcular el daño.\n",
        "\n",
        "* Bucles para turnos de combate.\n",
        "\n",
        "* Uso de una función recursiva que simule las rondas como niveles (nivel 1, 2, 3 hasta ganar).\n",
        "\n"
      ],
      "metadata": {
        "id": "Behbpl_8WJzR"
      }
    },
    {
      "cell_type": "code",
      "source": [
        "## INICIO DE CÓDIGO\n",
        "\n",
        "## FIN DE CÓDIGO"
      ],
      "metadata": {
        "id": "smtLq1SDWTJd"
      },
      "execution_count": null,
      "outputs": []
    },
    {
      "cell_type": "markdown",
      "source": [
        "---\n",
        "\n",
        "# Gracias por completar este laboratorio!\n",
        "\n",
        "---\n"
      ],
      "metadata": {
        "id": "EONqoa25Wlx3"
      }
    }
  ]
}