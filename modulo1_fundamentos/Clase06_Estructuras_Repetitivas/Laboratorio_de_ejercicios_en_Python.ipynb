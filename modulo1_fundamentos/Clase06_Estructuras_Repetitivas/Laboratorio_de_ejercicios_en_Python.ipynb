{
  "nbformat": 4,
  "nbformat_minor": 0,
  "metadata": {
    "colab": {
      "provenance": [],
      "include_colab_link": true
    },
    "kernelspec": {
      "name": "python3",
      "display_name": "Python 3"
    },
    "language_info": {
      "name": "python"
    }
  },
  "cells": [
    {
      "cell_type": "markdown",
      "metadata": {
        "id": "view-in-github",
        "colab_type": "text"
      },
      "source": [
        "<a href=\"https://colab.research.google.com/github/DArsem2306/Programa-Python-Utec/blob/main/modulo1_fundamentos/Clase06_Estructuras_Repetitivas/Laboratorio_de_ejercicios_en_Python.ipynb\" target=\"_parent\"><img src=\"https://colab.research.google.com/assets/colab-badge.svg\" alt=\"Open In Colab\"/></a>"
      ]
    },
    {
      "cell_type": "markdown",
      "source": [
        "# Listas"
      ],
      "metadata": {
        "id": "NC_iRWcEhNSv"
      }
    },
    {
      "cell_type": "markdown",
      "source": [
        "Ejercicio 1\n",
        "\n",
        "Crear una lista con los nombres de 5 bancos."
      ],
      "metadata": {
        "id": "IxkzijV9gnqx"
      }
    },
    {
      "cell_type": "code",
      "source": [
        "# Crear una lista con los nombres de 5 bancos\n",
        "\n",
        "bank = ['BCP','Scotia','BBVA','Pichincha','MiBanco']"
      ],
      "metadata": {
        "id": "Cx1DSaedb02o"
      },
      "execution_count": 1,
      "outputs": []
    },
    {
      "cell_type": "code",
      "source": [
        "bank"
      ],
      "metadata": {
        "id": "Y6p7UsMCcKl0",
        "outputId": "88f7d818-b8bd-4fe1-8cef-0fc6e3dad951",
        "colab": {
          "base_uri": "https://localhost:8080/"
        }
      },
      "execution_count": 2,
      "outputs": [
        {
          "output_type": "execute_result",
          "data": {
            "text/plain": [
              "['BCP', 'Scotia', 'BBVA', 'Pichincha', 'MiBanco']"
            ]
          },
          "metadata": {},
          "execution_count": 2
        }
      ]
    },
    {
      "cell_type": "markdown",
      "source": [
        "Ejercicio 2\n",
        "\n",
        "Acceder al tercer banco de la lista."
      ],
      "metadata": {
        "id": "2d57HxBKgtdO"
      }
    },
    {
      "cell_type": "code",
      "source": [
        "\n",
        "bank = ['BCP','Scotia','BBVA','Pichincha','MiBanco']\n",
        "third_bank = bank[2] # Acceder al tercer banco de la lista\n",
        "print(\"Tercer banco:\",third_bank)\n"
      ],
      "metadata": {
        "id": "5BPgysTFco1L",
        "outputId": "49294e84-26bd-447f-dc17-42f6671eea33",
        "colab": {
          "base_uri": "https://localhost:8080/"
        }
      },
      "execution_count": 12,
      "outputs": [
        {
          "output_type": "stream",
          "name": "stdout",
          "text": [
            "Tercer banco: BBVA\n"
          ]
        }
      ]
    },
    {
      "cell_type": "markdown",
      "source": [
        "Ejercicio 3\n",
        "\n",
        "Agregar un nuevo banco a la lista."
      ],
      "metadata": {
        "id": "r3av9R2Ygv2T"
      }
    },
    {
      "cell_type": "code",
      "source": [
        "#Agregar un nuevo banco\n",
        "bank.append('Interbank')\n",
        "print(\"Lista de bancos actualizada:\",bank)"
      ],
      "metadata": {
        "id": "0IrOSdRNdEW6",
        "outputId": "2ae53efa-1462-4ace-d42f-4f06f4eefc00",
        "colab": {
          "base_uri": "https://localhost:8080/"
        }
      },
      "execution_count": 13,
      "outputs": [
        {
          "output_type": "stream",
          "name": "stdout",
          "text": [
            "Lista de bancos actualizada: ['BCP', 'Scotia', 'BBVA', 'Pichincha', 'MiBanco', 'Interbank']\n"
          ]
        }
      ]
    },
    {
      "cell_type": "markdown",
      "source": [
        "Ejercicio 4\n",
        "\n",
        "Eliminar el segundo banco."
      ],
      "metadata": {
        "id": "mCi9Qu0lhA7E"
      }
    },
    {
      "cell_type": "code",
      "source": [
        "del bank[1]\n",
        "print(\"Lista de bancos actualizada:\",bank)"
      ],
      "metadata": {
        "id": "sEjJ0abzdWt4",
        "outputId": "6015f78a-30e6-4321-d636-76606468845d",
        "colab": {
          "base_uri": "https://localhost:8080/"
        }
      },
      "execution_count": 14,
      "outputs": [
        {
          "output_type": "stream",
          "name": "stdout",
          "text": [
            "Lista de bancos actualizada: ['BCP', 'BBVA', 'Pichincha', 'MiBanco', 'Interbank']\n"
          ]
        }
      ]
    },
    {
      "cell_type": "markdown",
      "source": [
        "Ejercicio 5\n",
        "\n",
        "Ordenar alfabéticamente los bancos."
      ],
      "metadata": {
        "id": "he1Ai2YahGpE"
      }
    },
    {
      "cell_type": "code",
      "source": [
        "bank.sort()\n",
        "print(\"Lista de bancos ordenada alfabéticamente:\",bank)"
      ],
      "metadata": {
        "id": "GwkvLZvyd8-l",
        "outputId": "325ae247-16ae-4308-af4c-1bcf3c02b90b",
        "colab": {
          "base_uri": "https://localhost:8080/"
        }
      },
      "execution_count": 15,
      "outputs": [
        {
          "output_type": "stream",
          "name": "stdout",
          "text": [
            "Lista de bancos ordenada alfabéticamente: ['BBVA', 'BCP', 'Interbank', 'MiBanco', 'Pichincha']\n"
          ]
        }
      ]
    },
    {
      "cell_type": "markdown",
      "source": [
        "# Condicionales IF, ELIF, ELSE"
      ],
      "metadata": {
        "id": "VpT6gNZ2hj1O"
      }
    },
    {
      "cell_type": "code",
      "source": [
        "# Datos de ejemplo\n",
        "income = 3500\n",
        "age = 30\n",
        "credit_score = 700\n",
        "balance = 2500\n",
        "products = 4\n"
      ],
      "metadata": {
        "id": "v5UQJzQYfFui"
      },
      "execution_count": 29,
      "outputs": []
    },
    {
      "cell_type": "markdown",
      "source": [
        "Ejercicio 1\n",
        "\n",
        "Verificar si un cliente tiene ingreso > 3000."
      ],
      "metadata": {
        "id": "kv91XOyphovd"
      }
    },
    {
      "cell_type": "code",
      "source": [
        "# Verificar si un cliente tiene ingreso > 3000\n",
        "if income > 3000:\n",
        "    print(\"El cliente tiene un ingreso mayor a 3000.\")\n",
        "else:\n",
        "    print(\"El cliente tiene un ingreso de 3000 o menos.\")"
      ],
      "metadata": {
        "id": "tqCqPIgtfKNR",
        "outputId": "4cd09cc7-a561-43db-d4c3-ac70fbb8f460",
        "colab": {
          "base_uri": "https://localhost:8080/"
        }
      },
      "execution_count": 17,
      "outputs": [
        {
          "output_type": "stream",
          "name": "stdout",
          "text": [
            "El cliente tiene un ingreso mayor a 3000.\n"
          ]
        }
      ]
    },
    {
      "cell_type": "markdown",
      "source": [
        "Ejercicio 2\n",
        "\n",
        "Evaluar edad para otorgar tarjeta de crédito."
      ],
      "metadata": {
        "id": "n1X-A7oNhr4z"
      }
    },
    {
      "cell_type": "code",
      "source": [
        "# Evaluar edad para otorgar tarjeta de crédito\n",
        "if age >= 18:\n",
        "    print(\"Cliente elegible para tarjeta de crédito.\")\n",
        "else:\n",
        "    print(\"Cliente no elegible por edad.\")"
      ],
      "metadata": {
        "id": "GJwwjdNJfnYK",
        "outputId": "134ed307-61a4-4474-d164-d4a6348421a8",
        "colab": {
          "base_uri": "https://localhost:8080/"
        }
      },
      "execution_count": 19,
      "outputs": [
        {
          "output_type": "stream",
          "name": "stdout",
          "text": [
            "Cliente elegible para tarjeta de crédito.\n"
          ]
        }
      ]
    },
    {
      "cell_type": "markdown",
      "source": [
        "Ejercicio 3\n",
        "\n",
        "Evaluar un score de crédito."
      ],
      "metadata": {
        "id": "PiDQUQ05htq2"
      }
    },
    {
      "cell_type": "code",
      "source": [
        "# Evaluar un score de crédito\n",
        "if credit_score >= 750:\n",
        "    print(\"Excelente score crediticio.\")\n",
        "elif 650 <= credit_score < 750:\n",
        "    print(\"Buen score de crédito.\")\n",
        "else:\n",
        "    print(\"Score crediticio bajo.\")"
      ],
      "metadata": {
        "id": "Dr4AShVBgGA1",
        "outputId": "ecf7d866-5bad-45c6-e3c6-fb12121f99da",
        "colab": {
          "base_uri": "https://localhost:8080/"
        }
      },
      "execution_count": 23,
      "outputs": [
        {
          "output_type": "stream",
          "name": "stdout",
          "text": [
            "Buen score de crédito.\n"
          ]
        }
      ]
    },
    {
      "cell_type": "markdown",
      "source": [
        "Ejercicio 4\n",
        "\n",
        "Verificar si una cuenta tiene saldo negativo."
      ],
      "metadata": {
        "id": "xoT9xGBph1M_"
      }
    },
    {
      "cell_type": "code",
      "source": [
        "# Verificar si una cuenta tiene saldo negativo\n",
        "if balance < 0:\n",
        "    print(\"La cuenta tiene saldo negativo.\")\n",
        "else:\n",
        "    print(\"La cuenta tiene saldo positivo.\")"
      ],
      "metadata": {
        "id": "O5I-4mkWgrDH",
        "outputId": "856820ae-d7f0-49e1-f16c-a34b6ddf8d85",
        "colab": {
          "base_uri": "https://localhost:8080/"
        }
      },
      "execution_count": 26,
      "outputs": [
        {
          "output_type": "stream",
          "name": "stdout",
          "text": [
            "La cuenta tiene saldo positivo.\n"
          ]
        }
      ]
    },
    {
      "cell_type": "markdown",
      "source": [
        "Ejercicio 5\n",
        "\n",
        "Comparar dos tasas de interés."
      ],
      "metadata": {
        "id": "hLB_ZRjth5cJ"
      }
    },
    {
      "cell_type": "code",
      "source": [
        "interest_rate1 = 0.03\n",
        "interest_rate2 = 0.04\n",
        "\n",
        "# Comparar dos tasas de interés\n",
        "if interest_rate1 > interest_rate2:\n",
        "    print(\"La tasa 1 es mayor que la tasa 2.\")\n",
        "elif interest_rate1 < interest_rate2:\n",
        "    print(\"La tasa 2 es mayor que la tasa 1.\")\n",
        "else:\n",
        "    print(\"Ambas tasas son iguales.\")"
      ],
      "metadata": {
        "id": "0brGbIflg9ej",
        "outputId": "943e2bd6-3b25-4753-9129-4ad49e71a67c",
        "colab": {
          "base_uri": "https://localhost:8080/"
        }
      },
      "execution_count": 28,
      "outputs": [
        {
          "output_type": "stream",
          "name": "stdout",
          "text": [
            "La tasa 2 es mayor que la tasa 1.\n"
          ]
        }
      ]
    },
    {
      "cell_type": "markdown",
      "source": [
        "Ejercicio 6\n",
        "\n",
        "Evaluar si un cliente tiene más de 3 productos financieros."
      ],
      "metadata": {
        "id": "ORVVt26mh8dt"
      }
    },
    {
      "cell_type": "code",
      "source": [
        "# Evaluar si un cliente tiene más de 3 productos financieros\n",
        "if products > 3:\n",
        "    print(\"El cliente tiene más de 3 productos financieros.\")\n",
        "else:\n",
        "    print(\"El cliente tiene 3 o menos productos financieros.\")"
      ],
      "metadata": {
        "id": "5rEgb8Mfh07D",
        "outputId": "fb0ab78e-b9ab-484b-992a-5b198ab9c17e",
        "colab": {
          "base_uri": "https://localhost:8080/"
        }
      },
      "execution_count": 30,
      "outputs": [
        {
          "output_type": "stream",
          "name": "stdout",
          "text": [
            "El cliente tiene más de 3 productos financieros.\n"
          ]
        }
      ]
    },
    {
      "cell_type": "markdown",
      "source": [
        "Ejercicio 7\n",
        "\n",
        "Determinar si un monto depositado supera los 10,000."
      ],
      "metadata": {
        "id": "naW4x0QLh_SV"
      }
    },
    {
      "cell_type": "code",
      "source": [
        "# Determinar si un monto depositado supera los 10,000\n",
        "deposit = 5500\n",
        "if deposit > 10000:\n",
        "    print(\"El monto depositado supera los 10,000.\")\n",
        "elif deposit == 10000:\n",
        "    print(\"El monto depositado es 10,000.\")\n",
        "else:\n",
        "    print(\"El monto depositado es menor a 10000.\")"
      ],
      "metadata": {
        "id": "umkbIGt8iBs0",
        "outputId": "02e56c7b-8a84-4e52-8965-548398da26d9",
        "colab": {
          "base_uri": "https://localhost:8080/"
        }
      },
      "execution_count": 33,
      "outputs": [
        {
          "output_type": "stream",
          "name": "stdout",
          "text": [
            "El monto depositado es menor a 10000.\n"
          ]
        }
      ]
    },
    {
      "cell_type": "markdown",
      "source": [
        "# **Diccionarios**"
      ],
      "metadata": {
        "id": "V7WW7fIGioVg"
      }
    },
    {
      "cell_type": "markdown",
      "source": [
        "Ejercicio 1\n",
        "\n",
        "Crear un diccionario con datos de un cliente."
      ],
      "metadata": {
        "id": "CHwNqNtNisgi"
      }
    },
    {
      "cell_type": "code",
      "source": [
        "clients = {\n",
        "    \"name\": \"Daniel\",\n",
        "    \"age\": 30,\n",
        "    \"balance\": 4500,\n",
        "}"
      ],
      "metadata": {
        "id": "JP4jVg_Hjrl2"
      },
      "execution_count": 42,
      "outputs": []
    },
    {
      "cell_type": "markdown",
      "source": [
        "Ejercicio 2\n",
        "\n",
        "Acceder al saldo del cliente."
      ],
      "metadata": {
        "id": "y79prRhxivr3"
      }
    },
    {
      "cell_type": "code",
      "source": [
        "print(clients[\"balance\"])  # Acceder al ingreso del cliente\n",
        "print(clients[\"name\"])"
      ],
      "metadata": {
        "id": "t89oOM7Ajx25",
        "outputId": "27ee95a3-7753-41c0-9eee-38167c92440d",
        "colab": {
          "base_uri": "https://localhost:8080/"
        }
      },
      "execution_count": 43,
      "outputs": [
        {
          "output_type": "stream",
          "name": "stdout",
          "text": [
            "4500\n",
            "Daniel\n"
          ]
        }
      ]
    },
    {
      "cell_type": "markdown",
      "source": [
        "Ejercicio 3\n",
        "\n",
        "Modificar el saldo."
      ],
      "metadata": {
        "id": "WPMXW--eiy7n"
      }
    },
    {
      "cell_type": "code",
      "source": [
        "clients[\"balance\"] = 35000\n",
        "print(clients['balance'])"
      ],
      "metadata": {
        "id": "nOL7fSedkIwQ",
        "outputId": "881911ea-2d54-465a-d331-7a61417c423a",
        "colab": {
          "base_uri": "https://localhost:8080/"
        }
      },
      "execution_count": 44,
      "outputs": [
        {
          "output_type": "stream",
          "name": "stdout",
          "text": [
            "35000\n"
          ]
        }
      ]
    },
    {
      "cell_type": "markdown",
      "source": [
        "Ejercicio 4\n",
        "\n",
        "Agregar una nueva llave 'tarjeta_credito'."
      ],
      "metadata": {
        "id": "xN7U259_i0SD"
      }
    },
    {
      "cell_type": "code",
      "source": [
        "clients['tarjeta_credito'] = 'Visa Signature'"
      ],
      "metadata": {
        "id": "1tY_mk9NkyEP"
      },
      "execution_count": 45,
      "outputs": []
    },
    {
      "cell_type": "markdown",
      "source": [
        "Ejercicio 5\n",
        "\n",
        "Eliminar el nombre del cliente."
      ],
      "metadata": {
        "id": "EhsIdR2wi2MR"
      }
    },
    {
      "cell_type": "code",
      "source": [
        "del clients['name']"
      ],
      "metadata": {
        "id": "6mM1LRd9lGBU"
      },
      "execution_count": 46,
      "outputs": []
    },
    {
      "cell_type": "code",
      "source": [
        "print(clients)"
      ],
      "metadata": {
        "id": "_9OuVNllmCad",
        "outputId": "fbeaea35-1167-4153-b313-5c0d5353c6d6",
        "colab": {
          "base_uri": "https://localhost:8080/"
        }
      },
      "execution_count": 47,
      "outputs": [
        {
          "output_type": "stream",
          "name": "stdout",
          "text": [
            "{'age': 30, 'balance': 35000, 'tarjeta_credito': 'Visa Signature'}\n"
          ]
        }
      ]
    },
    {
      "cell_type": "markdown",
      "source": [
        "# FOR"
      ],
      "metadata": {
        "id": "SEZ-ENCGi45b"
      }
    },
    {
      "cell_type": "markdown",
      "source": [
        "Ejercicio 1\n",
        "\n",
        "Recorrer una lista de tasas de interés."
      ],
      "metadata": {
        "id": "UIibjV-Ti8kG"
      }
    },
    {
      "cell_type": "code",
      "source": [
        "# Lista de tasas de interés\n",
        "int_rate = [2.5, 3.0, 4.1, 5.6, 6.2]\n",
        "\n",
        "# Recorrer la lista y mostrar cada tasa\n",
        "for rate in int_rate:\n",
        "    print(f\"Tasa de interés: {rate}%\")"
      ],
      "metadata": {
        "id": "rnxqhNL0mcbC",
        "outputId": "72d5b6ed-f273-49a8-ad4b-554ab5ead4d6",
        "colab": {
          "base_uri": "https://localhost:8080/"
        }
      },
      "execution_count": 48,
      "outputs": [
        {
          "output_type": "stream",
          "name": "stdout",
          "text": [
            "Tasa de interés: 2.5%\n",
            "Tasa de interés: 3.0%\n",
            "Tasa de interés: 4.1%\n",
            "Tasa de interés: 5.6%\n",
            "Tasa de interés: 6.2%\n"
          ]
        }
      ]
    },
    {
      "cell_type": "markdown",
      "source": [
        "Ejercicio 2\n",
        "\n",
        "Sumar todos los saldos de una lista."
      ],
      "metadata": {
        "id": "xJcFuGJ-i_OZ"
      }
    },
    {
      "cell_type": "code",
      "source": [
        "# Lista de saldos\n",
        "balance = [1500.50, 2300.75, 500.00, 1200.20, 800.00]\n",
        "\n",
        "# Sumar todos los saldos\n",
        "total_balance = sum(balance)\n",
        "\n",
        "print(f\"El total de los saldos es: {total_balance}\")"
      ],
      "metadata": {
        "id": "nmq3myxZmmbr",
        "outputId": "cc347ebc-0b9d-49cd-f36e-c4d1e8603ba2",
        "colab": {
          "base_uri": "https://localhost:8080/"
        }
      },
      "execution_count": 49,
      "outputs": [
        {
          "output_type": "stream",
          "name": "stdout",
          "text": [
            "El total de los saldos es: 6301.45\n"
          ]
        }
      ]
    },
    {
      "cell_type": "code",
      "source": [
        "# Usando el for\n",
        "\n",
        "total_balance1 = 0\n",
        "for balance in balance:\n",
        "    total_balance1 += balance\n",
        "print(f\"El total de los saldos es: {total_balance1}\")"
      ],
      "metadata": {
        "id": "yJPoCeykoR62",
        "outputId": "4f3c08f1-f583-48b5-8667-101d3e218801",
        "colab": {
          "base_uri": "https://localhost:8080/"
        }
      },
      "execution_count": 52,
      "outputs": [
        {
          "output_type": "stream",
          "name": "stdout",
          "text": [
            "El total de los saldos es: 6301.45\n"
          ]
        }
      ]
    },
    {
      "cell_type": "markdown",
      "source": [
        "Ejercicio 3\n",
        "\n",
        "Recorrer una lista de precios de productos ecommerce y aplicar descuento de 10%."
      ],
      "metadata": {
        "id": "VrNKApKTjBYl"
      }
    },
    {
      "cell_type": "code",
      "source": [
        "# Lista de precios de productos\n",
        "price_list = [100.0, 250.0, 80.0, 150.0, 60.0]\n",
        "\n",
        "# Lista para guardar los precios con descuento\n",
        "discounted_prices = []\n",
        "\n",
        "# Recorrer la lista y aplicar el descuento\n",
        "for price in price_list:\n",
        "    discounted_price = price * 0.90  # Aplicar 10% de descuento\n",
        "    discounted_prices.append(discounted_price)\n",
        "    print(f\"Precio original: {price}, Precio con descuento: {discounted_price}\")\n",
        "\n",
        "# Mostrar la lista final\n",
        "print(\"Precios finales con descuento:\", discounted_prices)\n",
        ""
      ],
      "metadata": {
        "id": "5ePNZIkunDxz",
        "outputId": "f1f0e32d-732d-4779-e99b-125aa1466ecf",
        "colab": {
          "base_uri": "https://localhost:8080/"
        }
      },
      "execution_count": 50,
      "outputs": [
        {
          "output_type": "stream",
          "name": "stdout",
          "text": [
            "Precio original: 100.0, Precio con descuento: 90.0\n",
            "Precio original: 250.0, Precio con descuento: 225.0\n",
            "Precio original: 80.0, Precio con descuento: 72.0\n",
            "Precio original: 150.0, Precio con descuento: 135.0\n",
            "Precio original: 60.0, Precio con descuento: 54.0\n",
            "Precios finales con descuento: [90.0, 225.0, 72.0, 135.0, 54.0]\n"
          ]
        }
      ]
    },
    {
      "cell_type": "markdown",
      "source": [
        "Ejercicio 4\n",
        "\n",
        "Contar cuántos productos tienen un precio mayor a 100."
      ],
      "metadata": {
        "id": "LLFjbn2KjDvf"
      }
    },
    {
      "cell_type": "code",
      "source": [
        "count = 0\n",
        "for discounted_price in discounted_prices:\n",
        "    if discounted_price > 100:\n",
        "        count += 1\n",
        "print(\"Productos con precios mayor a 100:\", count)"
      ],
      "metadata": {
        "id": "wlit9TivnsqN",
        "outputId": "4d48facd-6e26-4823-8c42-2013d6781894",
        "colab": {
          "base_uri": "https://localhost:8080/"
        }
      },
      "execution_count": 54,
      "outputs": [
        {
          "output_type": "stream",
          "name": "stdout",
          "text": [
            "Productos con precios mayor a 100: 2\n"
          ]
        }
      ]
    },
    {
      "cell_type": "markdown",
      "source": [
        "Ejercicio 5\n",
        "\n",
        "Recorrer campañas de marketing y mostrar su nombre."
      ],
      "metadata": {
        "id": "Sx866gLnjGL3"
      }
    },
    {
      "cell_type": "code",
      "source": [
        "# Lista de campañas de marketing\n",
        "marketing_campaigns = [\"Lanzamiento Verano\", \"Black Friday\", \"Navidad 2025\", \"Cyber Days\", \"Back to School\"]\n",
        "\n",
        "# Recorrer la lista y mostrar el nombre de cada campaña\n",
        "for campaign in marketing_campaigns:\n",
        "    print(\"Nombre de campaña:\", campaign)"
      ],
      "metadata": {
        "id": "u6Wsuc6ro4WN",
        "outputId": "ed809307-c8d0-416e-8dbc-34ce7ebb2dd4",
        "colab": {
          "base_uri": "https://localhost:8080/"
        }
      },
      "execution_count": 55,
      "outputs": [
        {
          "output_type": "stream",
          "name": "stdout",
          "text": [
            "Nombre de campaña: Lanzamiento Verano\n",
            "Nombre de campaña: Black Friday\n",
            "Nombre de campaña: Navidad 2025\n",
            "Nombre de campaña: Cyber Days\n",
            "Nombre de campaña: Back to School\n"
          ]
        }
      ]
    },
    {
      "cell_type": "markdown",
      "source": [
        "Ejercicio 6\n",
        "\n",
        "Recorrer un diccionario de clientes con saldo y mostrar solo los que tengan saldo > 2000."
      ],
      "metadata": {
        "id": "QahT6s0IjIOv"
      }
    },
    {
      "cell_type": "code",
      "source": [
        "# Diccionario de clientes con su saldo\n",
        "clients = {\n",
        "    \"Juan\": 1500,\n",
        "    \"María\": 3200,\n",
        "    \"Pedro\": 2100,\n",
        "    \"Lucía\": 1800,\n",
        "    \"Andrés\": 5000\n",
        "}\n",
        "\n",
        "# Recorrer el diccionario y mostrar solo los clientes con saldo > 2000\n",
        "for client, balance in clients.items():\n",
        "    if balance > 2000:\n",
        "        print(f\"Cliente: {client}, Saldo: {balance}\")"
      ],
      "metadata": {
        "id": "qOc5PtHApNRx",
        "outputId": "f6071316-5542-4344-ad1a-d20984607207",
        "colab": {
          "base_uri": "https://localhost:8080/"
        }
      },
      "execution_count": 56,
      "outputs": [
        {
          "output_type": "stream",
          "name": "stdout",
          "text": [
            "Cliente: María, Saldo: 3200\n",
            "Cliente: Pedro, Saldo: 2100\n",
            "Cliente: Andrés, Saldo: 5000\n"
          ]
        }
      ]
    },
    {
      "cell_type": "markdown",
      "source": [
        "Ejercicio 7\n",
        "\n",
        "Recorrer una lista de emails de clientes y contar los que terminan en \"@gmail.com\"."
      ],
      "metadata": {
        "id": "2rTlLwQ_jL5s"
      }
    },
    {
      "cell_type": "code",
      "source": [
        "# Lista de correos electrónicos de clientes\n",
        "emails = [\n",
        "    \"juan@outlook.com\",\n",
        "    \"maria@gmail.com\",\n",
        "    \"pedro@yahoo.com\",\n",
        "    \"lucia@gmail.com\",\n",
        "    \"andres@hotmail.com\"\n",
        "]\n",
        "\n",
        "# Contar los correos que terminan en \"@gmail.com\"\n",
        "count_gmail = 0\n",
        "for email in emails:\n",
        "    if email.endswith(\"@gmail.com\"):\n",
        "        count_gmail += 1\n",
        "\n",
        "print(f\"Cantidad de correos con dominio '@gmail.com': {count_gmail}\")"
      ],
      "metadata": {
        "id": "-7dORT9hpXk6",
        "outputId": "c7edf80b-cd09-4fbf-fc12-fd6d7ae14414",
        "colab": {
          "base_uri": "https://localhost:8080/"
        }
      },
      "execution_count": 57,
      "outputs": [
        {
          "output_type": "stream",
          "name": "stdout",
          "text": [
            "Cantidad de correos con dominio '@gmail.com': 2\n"
          ]
        }
      ]
    },
    {
      "cell_type": "markdown",
      "source": [
        "# Mini Proyecto\n",
        "\n",
        "\"Evaluador de Clientes Hipotecarios\""
      ],
      "metadata": {
        "id": "FMUBc06ojTaq"
      }
    },
    {
      "cell_type": "markdown",
      "source": [
        "Contexto:\n",
        "Un banco quiere evaluar a sus clientes para ofrecerles un nuevo crédito hipotecario.\n",
        "Cada cliente tiene datos como: nombre, ingreso mensual, deudas actuales y número de productos contratados.\n",
        "\n",
        "Objetivo:\n",
        "1. Crear la base de datos de clientes usando un diccionario.\n",
        "2. Usar for para recorrer todos los clientes.\n",
        "3. Aplicar condicionales para clasificar:\n",
        "   - \"Elegible\" si su ingreso anual es mayor a 36,000 soles, sus deudas son menores a 15,000 soles y tiene al menos 2 productos contratados.\n",
        "   - \"Requiere Evaluación\" si cumple solo algunas condiciones.\n",
        "   - \"No Elegible\" si no cumple ninguna condición.\n",
        "4. Mostrar el resultado bien formateado por cliente."
      ],
      "metadata": {
        "id": "UawN6JC7jXAE"
      }
    },
    {
      "cell_type": "markdown",
      "source": [
        "Instrucciones\n",
        "\n",
        "1. Crea un diccionario llamado clientes con al menos 5 clientes.\n",
        "2. Cada cliente tendrá:\n",
        "   - Nombre (str)\n",
        "   - Ingreso mensual (float)\n",
        "   - Deudas (float)\n",
        "   - Número de productos contratados (int)\n",
        "3. Calcula el ingreso anual (ingreso mensual × 12).\n",
        "4. Usa un for para recorrer cada cliente.\n",
        "5. Usa if, elif, else para clasificarlo en una de las tres categorías.\n",
        "6. Muestra en pantalla: Cliente: {nombre} - Resultado: {clasificación}"
      ],
      "metadata": {
        "id": "cO8ajcixjnWX"
      }
    },
    {
      "cell_type": "code",
      "source": [
        "# Crear el diccionario de clientes\n",
        "clients = {\n",
        "    \"Juan Pérez\": {\"monthly_income\": 3500, \"debts\": 12000, \"products_count\": 3},\n",
        "    \"María López\": {\"monthly_income\": 2000, \"debts\": 8000, \"products_count\": 1},\n",
        "    \"Pedro Gómez\": {\"monthly_income\": 5000, \"debts\": 10000, \"products_count\": 4},\n",
        "    \"Lucía Rodríguez\": {\"monthly_income\": 2500, \"debts\": 16000, \"products_count\": 2},\n",
        "    \"Andrés Martínez\": {\"monthly_income\": 4500, \"debts\": 7000, \"products_count\": 3},\n",
        "    \"Carlos Fernández\": {\"monthly_income\": 6000, \"debts\": 5000, \"products_count\": 5},\n",
        "    \"Ana Martínez\": {\"monthly_income\": 3000, \"debts\": 11000, \"products_count\": 2},\n",
        "    \"José García\": {\"monthly_income\": 4000, \"debts\": 2000, \"products_count\": 1},\n",
        "    \"Patricia Sánchez\": {\"monthly_income\": 5500, \"debts\": 13000, \"products_count\": 3},\n",
        "    \"Luis Rodríguez\": {\"monthly_income\": 7000, \"debts\": 8000, \"products_count\": 6}\n",
        "}\n",
        "\n",
        "# Recorrer el diccionario de clientes\n",
        "for name, data in clients.items():\n",
        "    annual_income = round(data[\"monthly_income\"] * 12)  # Calcular ingreso anual y redondearlo\n",
        "    difference = abs(annual_income - data[\"debts\"])  # Calcular la diferencia absoluta\n",
        "\n",
        "    # Clasificar al cliente según los criterios\n",
        "    if annual_income > 36000 and data[\"debts\"] < 15000 and data[\"products_count\"] >= 2:\n",
        "        classification = \"Elegible\"\n",
        "    elif annual_income > 20000 and data[\"debts\"] < 20000:\n",
        "        classification = \"Requiere Evaluación\"\n",
        "    else:\n",
        "        classification = \"No Elegible\"\n",
        "\n",
        "    # Mostrar el resultado\n",
        "    print(f\"Cliente: {name} - Ingreso Anual: {annual_income} soles - Diferencia Ingreso vs Deudas: {difference} soles - Resultado: {classification}\")\n"
      ],
      "metadata": {
        "id": "mJC6ODaiqUcN",
        "outputId": "d96fa44e-94bf-422b-f287-3cb539cb9c92",
        "colab": {
          "base_uri": "https://localhost:8080/"
        }
      },
      "execution_count": 58,
      "outputs": [
        {
          "output_type": "stream",
          "name": "stdout",
          "text": [
            "Cliente: Juan Pérez - Ingreso Anual: 42000 soles - Diferencia Ingreso vs Deudas: 30000 soles - Resultado: Elegible\n",
            "Cliente: María López - Ingreso Anual: 24000 soles - Diferencia Ingreso vs Deudas: 16000 soles - Resultado: Requiere Evaluación\n",
            "Cliente: Pedro Gómez - Ingreso Anual: 60000 soles - Diferencia Ingreso vs Deudas: 50000 soles - Resultado: Elegible\n",
            "Cliente: Lucía Rodríguez - Ingreso Anual: 30000 soles - Diferencia Ingreso vs Deudas: 14000 soles - Resultado: Requiere Evaluación\n",
            "Cliente: Andrés Martínez - Ingreso Anual: 54000 soles - Diferencia Ingreso vs Deudas: 47000 soles - Resultado: Elegible\n",
            "Cliente: Carlos Fernández - Ingreso Anual: 72000 soles - Diferencia Ingreso vs Deudas: 67000 soles - Resultado: Elegible\n",
            "Cliente: Ana Martínez - Ingreso Anual: 36000 soles - Diferencia Ingreso vs Deudas: 25000 soles - Resultado: Requiere Evaluación\n",
            "Cliente: José García - Ingreso Anual: 48000 soles - Diferencia Ingreso vs Deudas: 46000 soles - Resultado: Requiere Evaluación\n",
            "Cliente: Patricia Sánchez - Ingreso Anual: 66000 soles - Diferencia Ingreso vs Deudas: 53000 soles - Resultado: Elegible\n",
            "Cliente: Luis Rodríguez - Ingreso Anual: 84000 soles - Diferencia Ingreso vs Deudas: 76000 soles - Resultado: Elegible\n"
          ]
        }
      ]
    },
    {
      "cell_type": "markdown",
      "source": [
        "# 🔥 Nivel extra:\n",
        "\n",
        "1. Ingresa manualmente los clientes (input).\n",
        "2. Calcula la diferencia absoluta (abs) entre ingreso anual y deudas.\n",
        "3. Redondea (round) el ingreso anual al número entero más cercano."
      ],
      "metadata": {
        "id": "5ZCQkJxkkDGj"
      }
    },
    {
      "cell_type": "code",
      "source": [
        "# Crear un diccionario vacío para guardar los clientes\n",
        "clients = {}\n",
        "\n",
        "# Pedir al usuario cuántos clientes quiere ingresar\n",
        "number_of_clients = int(input(\"¿Cuántos clientes deseas ingresar? \"))\n",
        "\n",
        "# Ingresar los datos de cada cliente\n",
        "for i in range(number_of_clients):\n",
        "    print(f\"\\nIngresando datos del cliente {i + 1}:\")\n",
        "    name = input(\"Nombre del cliente: \")\n",
        "    monthly_income = float(input(\"Ingreso mensual (en soles): \"))\n",
        "    debts = float(input(\"Deudas actuales (en soles): \"))\n",
        "    products_count = int(input(\"Número de productos contratados: \"))\n",
        "\n",
        "    # Guardar los datos en el diccionario\n",
        "    clients[name] = {\n",
        "        \"monthly_income\": monthly_income,\n",
        "        \"debts\": debts,\n",
        "        \"products_count\": products_count\n",
        "    }\n",
        "\n",
        "# Recorrer los clientes y evaluar\n",
        "print(\"\\nResultados de la evaluación:\")\n",
        "for name, data in clients.items():\n",
        "    annual_income = round(data[\"monthly_income\"] * 12)  # Calcular ingreso anual y redondearlo\n",
        "    difference = abs(annual_income - data[\"debts\"])     # Calcular la diferencia absoluta\n",
        "\n",
        "    # Clasificar al cliente\n",
        "    if annual_income > 36000 and data[\"debts\"] < 15000 and data[\"products_count\"] >= 2:\n",
        "        classification = \"Elegible\"\n",
        "    elif annual_income > 20000 and data[\"debts\"] < 20000:\n",
        "        classification = \"Requiere Evaluación\"\n",
        "    else:\n",
        "        classification = \"No Elegible\"\n",
        "\n",
        "    # Mostrar el resultado\n",
        "    print(f\"Cliente: {name} - Ingreso Anual: {annual_income} soles - Diferencia Ingreso vs Deudas: {difference} soles - Resultado: {classification}\")\n"
      ],
      "metadata": {
        "id": "ProZSIFmqxQe",
        "outputId": "f587c03c-445e-4261-b0e9-1d3574579869",
        "colab": {
          "base_uri": "https://localhost:8080/"
        }
      },
      "execution_count": 59,
      "outputs": [
        {
          "output_type": "stream",
          "name": "stdout",
          "text": [
            "¿Cuántos clientes deseas ingresar? 3\n",
            "\n",
            "Ingresando datos del cliente 1:\n",
            "Nombre del cliente: Daniel\n",
            "Ingreso mensual (en soles): 4500\n",
            "Deudas actuales (en soles): 34000\n",
            "Número de productos contratados: 5\n",
            "\n",
            "Ingresando datos del cliente 2:\n",
            "Nombre del cliente: Pepe\n",
            "Ingreso mensual (en soles): 14000\n",
            "Deudas actuales (en soles): 2000\n",
            "Número de productos contratados: 5\n",
            "\n",
            "Ingresando datos del cliente 3:\n",
            "Nombre del cliente: Nicolas\n",
            "Ingreso mensual (en soles): 18000\n",
            "Deudas actuales (en soles): 120000\n",
            "Número de productos contratados: 3\n",
            "\n",
            "Resultados de la evaluación:\n",
            "Cliente: Daniel - Ingreso Anual: 54000 soles - Diferencia Ingreso vs Deudas: 20000.0 soles - Resultado: No Elegible\n",
            "Cliente: Pepe - Ingreso Anual: 168000 soles - Diferencia Ingreso vs Deudas: 166000.0 soles - Resultado: Elegible\n",
            "Cliente: Nicolas - Ingreso Anual: 216000 soles - Diferencia Ingreso vs Deudas: 96000.0 soles - Resultado: No Elegible\n"
          ]
        }
      ]
    }
  ]
}