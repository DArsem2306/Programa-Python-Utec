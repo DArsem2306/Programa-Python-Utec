{
  "nbformat": 4,
  "nbformat_minor": 0,
  "metadata": {
    "colab": {
      "provenance": [],
      "authorship_tag": "ABX9TyPLT+391JPA49F0dPUIFQvR",
      "include_colab_link": true
    },
    "kernelspec": {
      "name": "python3",
      "display_name": "Python 3"
    },
    "language_info": {
      "name": "python"
    }
  },
  "cells": [
    {
      "cell_type": "markdown",
      "metadata": {
        "id": "view-in-github",
        "colab_type": "text"
      },
      "source": [
        "<a href=\"https://colab.research.google.com/github/DArsem2306/Programa-Python-Utec/blob/main/Tareas/modulo02/Daniel_Arrisueno.ipynb\" target=\"_parent\"><img src=\"https://colab.research.google.com/assets/colab-badge.svg\" alt=\"Open In Colab\"/></a>"
      ]
    },
    {
      "cell_type": "markdown",
      "source": [
        "\n",
        "# EVALUACION_MOD2_PROGRAMACION_PYTHON\n",
        "---\n",
        "\n"
      ],
      "metadata": {
        "id": "v1efV5h0n8Ah"
      }
    },
    {
      "cell_type": "markdown",
      "source": [
        "## Daniel Arrisueño"
      ],
      "metadata": {
        "id": "kRSx6Zr8oA-b"
      }
    },
    {
      "cell_type": "markdown",
      "source": [
        "1. Creación de listas (1 puntos)\n",
        "\n",
        "Crea una lista llamada numeros_pares que contenga los números del 1 al 100 con saltos de 2 en 2."
      ],
      "metadata": {
        "id": "MmPaRZG8oPMl"
      }
    },
    {
      "cell_type": "code",
      "execution_count": 4,
      "metadata": {
        "colab": {
          "base_uri": "https://localhost:8080/"
        },
        "id": "XbR27sJyl-cv",
        "outputId": "633bee68-f34f-436f-ed4b-10640c29427f"
      },
      "outputs": [
        {
          "output_type": "stream",
          "name": "stdout",
          "text": [
            "[2, 4, 6, 8, 10, 12, 14, 16, 18, 20, 22, 24, 26, 28, 30, 32, 34, 36, 38, 40, 42, 44, 46, 48, 50, 52, 54, 56, 58, 60, 62, 64, 66, 68, 70, 72, 74, 76, 78, 80, 82, 84, 86, 88, 90, 92, 94, 96, 98, 100]\n"
          ]
        }
      ],
      "source": [
        "numeros_pares = list(range(2, 101, 2))\n",
        "print(numeros_pares)"
      ]
    },
    {
      "cell_type": "markdown",
      "source": [
        "2. Agregando Numeros\n",
        "\n",
        "Agrega los números 102, 104 y 106 al final de la lista numeros_pares y luego elimina los primeros 5 números de la lista numeros_pares. Muestra la lista resultante."
      ],
      "metadata": {
        "id": "IxMaE7o3o4sC"
      }
    },
    {
      "cell_type": "code",
      "source": [
        "# Agregar 102, 104 y 106 al final\n",
        "numeros_pares.append(102)\n",
        "numeros_pares.append(104)\n",
        "numeros_pares.append(106)\n",
        "# Luego descubri que podria agregarlos con: numeros_pares.extend([102, 104, 106])\n",
        "\n",
        "# Eliminar los primeros 5 elementos\n",
        "del numeros_pares[:5]\n",
        "\n",
        "# Mostrar la lista resultante\n",
        "print(numeros_pares)"
      ],
      "metadata": {
        "colab": {
          "base_uri": "https://localhost:8080/"
        },
        "id": "jsF2d-Yto8ZQ",
        "outputId": "9ff9d73e-c947-41e8-9c07-74df7faa873c"
      },
      "execution_count": 5,
      "outputs": [
        {
          "output_type": "stream",
          "name": "stdout",
          "text": [
            "[12, 14, 16, 18, 20, 22, 24, 26, 28, 30, 32, 34, 36, 38, 40, 42, 44, 46, 48, 50, 52, 54, 56, 58, 60, 62, 64, 66, 68, 70, 72, 74, 76, 78, 80, 82, 84, 86, 88, 90, 92, 94, 96, 98, 100, 102, 104, 106]\n"
          ]
        }
      ]
    },
    {
      "cell_type": "markdown",
      "source": [
        "3. Operaciones con listas (2 puntos)\n",
        "\n",
        "Crea una lista llamada resultante que contenga la raíz cuadrada de cada elemento de la lista numeros_pares usando list comprehension."
      ],
      "metadata": {
        "id": "WH0DR8cQpaHo"
      }
    },
    {
      "cell_type": "code",
      "source": [
        "import math #debemos importar la libreria\n",
        "\n",
        "# Creando la lista resultante sobre la raiz cuadrada de numeros_pares\n",
        "resultante = [round(math.sqrt(num),2) for num in numeros_pares] #Redondeado a 2 numeros para mejor lectura del resultado\n",
        "\n",
        "print(resultante)"
      ],
      "metadata": {
        "colab": {
          "base_uri": "https://localhost:8080/"
        },
        "id": "2sctIWKTpblG",
        "outputId": "72c2a854-d397-4391-bc99-ba0cde76802c"
      },
      "execution_count": 7,
      "outputs": [
        {
          "output_type": "stream",
          "name": "stdout",
          "text": [
            "[3.46, 3.74, 4.0, 4.24, 4.47, 4.69, 4.9, 5.1, 5.29, 5.48, 5.66, 5.83, 6.0, 6.16, 6.32, 6.48, 6.63, 6.78, 6.93, 7.07, 7.21, 7.35, 7.48, 7.62, 7.75, 7.87, 8.0, 8.12, 8.25, 8.37, 8.49, 8.6, 8.72, 8.83, 8.94, 9.06, 9.17, 9.27, 9.38, 9.49, 9.59, 9.7, 9.8, 9.9, 10.0, 10.1, 10.2, 10.3]\n"
          ]
        }
      ]
    },
    {
      "cell_type": "markdown",
      "source": [
        "4. Desempaquetado de tuplas (2 puntos)\n",
        "\n",
        "Dada la siguiente tupla tupla_x = (“alumno”,”Pedro”,15), desempaqueta la tupla tupla_x en tres variables: x, y, z, e imprime la siguiente estructura “El alumno Pedro obtuvo la calificación de 15 usando las variables x, y, z”."
      ],
      "metadata": {
        "id": "a0Z22xYcqFRF"
      }
    },
    {
      "cell_type": "code",
      "source": [
        "#Tupla Determinada\n",
        "tupla_x = (\"alumno\",\"Pedro\",15)\n",
        "\n",
        "#Variables en tupla:\n",
        "x, y, z = tupla_x\n",
        "\n",
        "# Imprimir el mensaje usando las variables\n",
        "print(f\"El {x} {y} obtuvo la calificación de {z}\")"
      ],
      "metadata": {
        "colab": {
          "base_uri": "https://localhost:8080/"
        },
        "id": "wBLWHCY1qEzK",
        "outputId": "e9612b60-adca-42cf-e035-5533a3059e08"
      },
      "execution_count": 9,
      "outputs": [
        {
          "output_type": "stream",
          "name": "stdout",
          "text": [
            "El alumno Pedro obtuvo la calificación de 15\n"
          ]
        }
      ]
    }
  ]
}