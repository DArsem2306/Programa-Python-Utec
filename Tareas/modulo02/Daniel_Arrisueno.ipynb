{
  "nbformat": 4,
  "nbformat_minor": 0,
  "metadata": {
    "colab": {
      "provenance": [],
      "authorship_tag": "ABX9TyO6/GFDlTeUH4PAjSVDQipm",
      "include_colab_link": true
    },
    "kernelspec": {
      "name": "python3",
      "display_name": "Python 3"
    },
    "language_info": {
      "name": "python"
    }
  },
  "cells": [
    {
      "cell_type": "markdown",
      "metadata": {
        "id": "view-in-github",
        "colab_type": "text"
      },
      "source": [
        "<a href=\"https://colab.research.google.com/github/DArsem2306/Programa-Python-Utec/blob/main/Tareas/modulo02/Daniel_Arrisueno.ipynb\" target=\"_parent\"><img src=\"https://colab.research.google.com/assets/colab-badge.svg\" alt=\"Open In Colab\"/></a>"
      ]
    },
    {
      "cell_type": "markdown",
      "source": [
        "\n",
        "# EVALUACION_MOD2_PROGRAMACION_PYTHON\n",
        "---\n",
        "\n"
      ],
      "metadata": {
        "id": "v1efV5h0n8Ah"
      }
    },
    {
      "cell_type": "markdown",
      "source": [
        "## Daniel Arrisueño"
      ],
      "metadata": {
        "id": "kRSx6Zr8oA-b"
      }
    },
    {
      "cell_type": "markdown",
      "source": [
        "1. Creación de listas (1 puntos)\n",
        "\n",
        "Crea una lista llamada numeros_pares que contenga los números del 1 al 100 con saltos de 2 en 2."
      ],
      "metadata": {
        "id": "MmPaRZG8oPMl"
      }
    },
    {
      "cell_type": "code",
      "execution_count": 3,
      "metadata": {
        "colab": {
          "base_uri": "https://localhost:8080/"
        },
        "id": "XbR27sJyl-cv",
        "outputId": "a48c63d8-0aa8-472f-edf0-508df0fd2ad2"
      },
      "outputs": [
        {
          "output_type": "stream",
          "name": "stdout",
          "text": [
            "[2, 4, 6, 8, 10, 12, 14, 16, 18, 20, 22, 24, 26, 28, 30, 32, 34, 36, 38, 40, 42, 44, 46, 48, 50, 52, 54, 56, 58, 60, 62, 64, 66, 68, 70, 72, 74, 76, 78, 80, 82, 84, 86, 88, 90, 92, 94, 96, 98, 100]\n"
          ]
        }
      ],
      "source": [
        "numeros_pares = list(range(2, 101, 2))\n",
        "print(numeros_pares)"
      ]
    },
    {
      "cell_type": "markdown",
      "source": [
        "2. Agregando Numeros\n",
        "\n",
        "Agrega los números 102, 104 y 106 al final de la lista numeros_pares y luego elimina los primeros 5 números de la lista numeros_pares. Muestra la lista resultante."
      ],
      "metadata": {
        "id": "IxMaE7o3o4sC"
      }
    },
    {
      "cell_type": "code",
      "source": [
        "# Agregar 102, 104 y 106 al final\n",
        "numeros_pares.append(102)\n",
        "numeros_pares.append(104)\n",
        "numeros_pares.append(106)\n",
        "# Luego descubri que podria agregarlos con: numeros_pares.extend([102, 104, 106])\n",
        "\n",
        "# Eliminar los primeros 5 elementos\n",
        "del numeros_pares[:5]\n",
        "\n",
        "# Mostrar la lista resultante\n",
        "print(numeros_pares)"
      ],
      "metadata": {
        "colab": {
          "base_uri": "https://localhost:8080/"
        },
        "id": "jsF2d-Yto8ZQ",
        "outputId": "22976de3-b5e5-4b9f-f7fd-6dc81ac34b9b"
      },
      "execution_count": 4,
      "outputs": [
        {
          "output_type": "stream",
          "name": "stdout",
          "text": [
            "[12, 14, 16, 18, 20, 22, 24, 26, 28, 30, 32, 34, 36, 38, 40, 42, 44, 46, 48, 50, 52, 54, 56, 58, 60, 62, 64, 66, 68, 70, 72, 74, 76, 78, 80, 82, 84, 86, 88, 90, 92, 94, 96, 98, 100, 102, 104, 106]\n"
          ]
        }
      ]
    },
    {
      "cell_type": "markdown",
      "source": [
        "3. Operaciones con listas (2 puntos)\n",
        "\n",
        "Crea una lista llamada resultante que contenga la raíz cuadrada de cada elemento de la lista numeros_pares usando list comprehension."
      ],
      "metadata": {
        "id": "WH0DR8cQpaHo"
      }
    },
    {
      "cell_type": "code",
      "source": [
        "import math #debemos importar la libreria\n",
        "\n",
        "# Creando la lista resultante sobre la raiz cuadrada de numeros_pares\n",
        "resultante = [round(math.sqrt(num),2) for num in numeros_pares] #Redondeado a 2 numeros para mejor lectura del resultado\n",
        "\n",
        "print(resultante)"
      ],
      "metadata": {
        "colab": {
          "base_uri": "https://localhost:8080/"
        },
        "id": "2sctIWKTpblG",
        "outputId": "d19f4662-bae2-48b7-97bc-3c5c4a1254c1"
      },
      "execution_count": 5,
      "outputs": [
        {
          "output_type": "stream",
          "name": "stdout",
          "text": [
            "[3.46, 3.74, 4.0, 4.24, 4.47, 4.69, 4.9, 5.1, 5.29, 5.48, 5.66, 5.83, 6.0, 6.16, 6.32, 6.48, 6.63, 6.78, 6.93, 7.07, 7.21, 7.35, 7.48, 7.62, 7.75, 7.87, 8.0, 8.12, 8.25, 8.37, 8.49, 8.6, 8.72, 8.83, 8.94, 9.06, 9.17, 9.27, 9.38, 9.49, 9.59, 9.7, 9.8, 9.9, 10.0, 10.1, 10.2, 10.3]\n"
          ]
        }
      ]
    },
    {
      "cell_type": "markdown",
      "source": [
        "4. Desempaquetado de tuplas (2 puntos)\n",
        "\n",
        "Dada la siguiente tupla tupla_x = (“alumno”,”Pedro”,15), desempaqueta la tupla tupla_x en tres variables: x, y, z, e imprime la siguiente estructura “El alumno Pedro obtuvo la calificación de 15 usando las variables x, y, z”."
      ],
      "metadata": {
        "id": "a0Z22xYcqFRF"
      }
    },
    {
      "cell_type": "code",
      "source": [
        "#Tupla Determinada\n",
        "tupla_x = (\"alumno\",\"Pedro\",15)\n",
        "\n",
        "#Variables en tupla:\n",
        "x, y, z = tupla_x\n",
        "\n",
        "# Imprimir el mensaje usando las variables\n",
        "print(f\"El {x} {y} obtuvo la calificación de {z}\")"
      ],
      "metadata": {
        "colab": {
          "base_uri": "https://localhost:8080/"
        },
        "id": "wBLWHCY1qEzK",
        "outputId": "2ae9bcaa-a45c-4872-f321-52c1a96481db"
      },
      "execution_count": 6,
      "outputs": [
        {
          "output_type": "stream",
          "name": "stdout",
          "text": [
            "El alumno Pedro obtuvo la calificación de 15\n"
          ]
        }
      ]
    },
    {
      "cell_type": "markdown",
      "source": [
        "5. Iteración en diccionarios (4 puntos)\n",
        "\n",
        "Dado el siguiente diccionario notas = {“Programacion”:15.9, “Matematica”: 15.1, “Fisica”:15.6}, escribe un bucle for que imprima cada clave y su valor en el diccionario con la siguiente estructura “Mis calificaciones en el curso de Programacion es 15.9”"
      ],
      "metadata": {
        "id": "bhKY4Cyuu7du"
      }
    },
    {
      "cell_type": "code",
      "source": [
        "#Diccionario de Notas Propuesto\n",
        "notas = {\"Programacion\":15.9, \"Matematica\": 15.1, \"Fisica\":15.6}\n",
        "\n",
        "# Bucle pedido para diccionario\n",
        "for curso, nota in notas.items():\n",
        "    print(f\"Mis calificaciones en el curso de {curso} es {nota}\")"
      ],
      "metadata": {
        "id": "yzbUZK3-u9-o",
        "outputId": "2080e69e-a20b-4210-cbea-9b8fe8b78e3d",
        "colab": {
          "base_uri": "https://localhost:8080/"
        }
      },
      "execution_count": 7,
      "outputs": [
        {
          "output_type": "stream",
          "name": "stdout",
          "text": [
            "Mis calificaciones en el curso de Programacion es 15.9\n",
            "Mis calificaciones en el curso de Matematica es 15.1\n",
            "Mis calificaciones en el curso de Fisica es 15.6\n"
          ]
        }
      ]
    },
    {
      "cell_type": "markdown",
      "source": [
        "6. Matrices y funciones de NumPy (4 puntos)\n",
        "\n",
        "Crea una matriz 1D que contenga los primeros 16 elementos de la lista numeros_pares (creada en la pregunta 1), modifique las dimensiones y convertiela en una matriz 2D con shape(4,4), calcula la suma total de los elementos de la matriz matriz 2D."
      ],
      "metadata": {
        "id": "ae7Im7dOvkBB"
      }
    },
    {
      "cell_type": "code",
      "source": [
        "# Importando libreria\n",
        "\n",
        "import numpy as np\n",
        "\n",
        "# Armando primera Matriz con los primeros 16 elementos\n",
        "matriz_1D = np.array(numeros_pares[:16])\n",
        "\n",
        "# Convertir matriz 1D en 2D con shape (4, 4)\n",
        "matriz_2D = matriz_1D.reshape((4, 4))\n",
        "\n",
        "# Calculando la suma total de los elementos M2D\n",
        "suma_total = matriz_2D.sum()\n",
        "\n",
        "# Mostrar resultados\n",
        "print(\"Matriz 1D:\\n \")\n",
        "print(matriz_1D)\n",
        "print(\"\\n=========\")\n",
        "print(\"\\nMatriz 2D:\\n\")\n",
        "print(matriz_2D)\n",
        "print(f\"\\nSuma total de elementos: {suma_total}\")"
      ],
      "metadata": {
        "id": "T02MNXv9vmkB",
        "outputId": "ec97b967-fd8c-450a-9dde-ad6e1624c7b3",
        "colab": {
          "base_uri": "https://localhost:8080/"
        }
      },
      "execution_count": 16,
      "outputs": [
        {
          "output_type": "stream",
          "name": "stdout",
          "text": [
            "Matriz 1D:\n",
            " \n",
            "[12 14 16 18 20 22 24 26 28 30 32 34 36 38 40 42]\n",
            "\n",
            "=========\n",
            "\n",
            "Matriz 2D:\n",
            "\n",
            "[[12 14 16 18]\n",
            " [20 22 24 26]\n",
            " [28 30 32 34]\n",
            " [36 38 40 42]]\n",
            "\n",
            "Suma total de elementos: 432\n"
          ]
        }
      ]
    },
    {
      "cell_type": "markdown",
      "source": [
        "7. Pandas (6 puntos)\n",
        "\n",
        "Leer el archivo datosDemograficos.xlsx y realice un análisis descriptivo en función de las variables más relevantes."
      ],
      "metadata": {
        "id": "-se-SDodxUjt"
      }
    },
    {
      "cell_type": "code",
      "source": [
        "# Importando libreria\n",
        "\n",
        "import pandas as pd\n",
        "\n",
        "# Leer el archivo Excel\n",
        "df = pd.read_excel(\"datosDemograficos.xlsx\")\n",
        "\n",
        "# Mostrar las primeras filas\n",
        "df.head()"
      ],
      "metadata": {
        "id": "MffS0Hg-xXMc",
        "outputId": "02ba24a9-49db-41f2-e34b-ab5acc01eb73",
        "colab": {
          "base_uri": "https://localhost:8080/",
          "height": 226
        }
      },
      "execution_count": 17,
      "outputs": [
        {
          "output_type": "execute_result",
          "data": {
            "text/plain": [
              "  Indicadores  Fecundidad  Mortalidad  TasaMortalidadxMil  EsperanzaVida  \\\n",
              "0        Puno       30108        9951                6.86          71.44   \n",
              "1  San Martín       16074        4889                5.63          72.45   \n",
              "2       Tacna        5605        1900                5.40          75.11   \n",
              "3      Tumbes        3924        1209                4.94          74.96   \n",
              "4     Ucayali        8872        3020                5.93          71.99   \n",
              "\n",
              "   EVSoloHombres  EVSoloMujeres  TasaMortalidadInfantilxMilNacidos  \\\n",
              "0          68.77          74.25                              26.82   \n",
              "1          69.65          75.40                              17.53   \n",
              "2          72.31          78.06                              11.77   \n",
              "3          72.09          77.98                              11.46   \n",
              "4          69.24          74.87                              21.07   \n",
              "\n",
              "   CrecimientoNatural  \n",
              "0               20157  \n",
              "1               11185  \n",
              "2                3705  \n",
              "3                2715  \n",
              "4                5852  "
            ],
            "text/html": [
              "\n",
              "  <div id=\"df-7ca29ae8-f5a7-4a23-9cdf-e35222e4cf14\" class=\"colab-df-container\">\n",
              "    <div>\n",
              "<style scoped>\n",
              "    .dataframe tbody tr th:only-of-type {\n",
              "        vertical-align: middle;\n",
              "    }\n",
              "\n",
              "    .dataframe tbody tr th {\n",
              "        vertical-align: top;\n",
              "    }\n",
              "\n",
              "    .dataframe thead th {\n",
              "        text-align: right;\n",
              "    }\n",
              "</style>\n",
              "<table border=\"1\" class=\"dataframe\">\n",
              "  <thead>\n",
              "    <tr style=\"text-align: right;\">\n",
              "      <th></th>\n",
              "      <th>Indicadores</th>\n",
              "      <th>Fecundidad</th>\n",
              "      <th>Mortalidad</th>\n",
              "      <th>TasaMortalidadxMil</th>\n",
              "      <th>EsperanzaVida</th>\n",
              "      <th>EVSoloHombres</th>\n",
              "      <th>EVSoloMujeres</th>\n",
              "      <th>TasaMortalidadInfantilxMilNacidos</th>\n",
              "      <th>CrecimientoNatural</th>\n",
              "    </tr>\n",
              "  </thead>\n",
              "  <tbody>\n",
              "    <tr>\n",
              "      <th>0</th>\n",
              "      <td>Puno</td>\n",
              "      <td>30108</td>\n",
              "      <td>9951</td>\n",
              "      <td>6.86</td>\n",
              "      <td>71.44</td>\n",
              "      <td>68.77</td>\n",
              "      <td>74.25</td>\n",
              "      <td>26.82</td>\n",
              "      <td>20157</td>\n",
              "    </tr>\n",
              "    <tr>\n",
              "      <th>1</th>\n",
              "      <td>San Martín</td>\n",
              "      <td>16074</td>\n",
              "      <td>4889</td>\n",
              "      <td>5.63</td>\n",
              "      <td>72.45</td>\n",
              "      <td>69.65</td>\n",
              "      <td>75.40</td>\n",
              "      <td>17.53</td>\n",
              "      <td>11185</td>\n",
              "    </tr>\n",
              "    <tr>\n",
              "      <th>2</th>\n",
              "      <td>Tacna</td>\n",
              "      <td>5605</td>\n",
              "      <td>1900</td>\n",
              "      <td>5.40</td>\n",
              "      <td>75.11</td>\n",
              "      <td>72.31</td>\n",
              "      <td>78.06</td>\n",
              "      <td>11.77</td>\n",
              "      <td>3705</td>\n",
              "    </tr>\n",
              "    <tr>\n",
              "      <th>3</th>\n",
              "      <td>Tumbes</td>\n",
              "      <td>3924</td>\n",
              "      <td>1209</td>\n",
              "      <td>4.94</td>\n",
              "      <td>74.96</td>\n",
              "      <td>72.09</td>\n",
              "      <td>77.98</td>\n",
              "      <td>11.46</td>\n",
              "      <td>2715</td>\n",
              "    </tr>\n",
              "    <tr>\n",
              "      <th>4</th>\n",
              "      <td>Ucayali</td>\n",
              "      <td>8872</td>\n",
              "      <td>3020</td>\n",
              "      <td>5.93</td>\n",
              "      <td>71.99</td>\n",
              "      <td>69.24</td>\n",
              "      <td>74.87</td>\n",
              "      <td>21.07</td>\n",
              "      <td>5852</td>\n",
              "    </tr>\n",
              "  </tbody>\n",
              "</table>\n",
              "</div>\n",
              "    <div class=\"colab-df-buttons\">\n",
              "\n",
              "  <div class=\"colab-df-container\">\n",
              "    <button class=\"colab-df-convert\" onclick=\"convertToInteractive('df-7ca29ae8-f5a7-4a23-9cdf-e35222e4cf14')\"\n",
              "            title=\"Convert this dataframe to an interactive table.\"\n",
              "            style=\"display:none;\">\n",
              "\n",
              "  <svg xmlns=\"http://www.w3.org/2000/svg\" height=\"24px\" viewBox=\"0 -960 960 960\">\n",
              "    <path d=\"M120-120v-720h720v720H120Zm60-500h600v-160H180v160Zm220 220h160v-160H400v160Zm0 220h160v-160H400v160ZM180-400h160v-160H180v160Zm440 0h160v-160H620v160ZM180-180h160v-160H180v160Zm440 0h160v-160H620v160Z\"/>\n",
              "  </svg>\n",
              "    </button>\n",
              "\n",
              "  <style>\n",
              "    .colab-df-container {\n",
              "      display:flex;\n",
              "      gap: 12px;\n",
              "    }\n",
              "\n",
              "    .colab-df-convert {\n",
              "      background-color: #E8F0FE;\n",
              "      border: none;\n",
              "      border-radius: 50%;\n",
              "      cursor: pointer;\n",
              "      display: none;\n",
              "      fill: #1967D2;\n",
              "      height: 32px;\n",
              "      padding: 0 0 0 0;\n",
              "      width: 32px;\n",
              "    }\n",
              "\n",
              "    .colab-df-convert:hover {\n",
              "      background-color: #E2EBFA;\n",
              "      box-shadow: 0px 1px 2px rgba(60, 64, 67, 0.3), 0px 1px 3px 1px rgba(60, 64, 67, 0.15);\n",
              "      fill: #174EA6;\n",
              "    }\n",
              "\n",
              "    .colab-df-buttons div {\n",
              "      margin-bottom: 4px;\n",
              "    }\n",
              "\n",
              "    [theme=dark] .colab-df-convert {\n",
              "      background-color: #3B4455;\n",
              "      fill: #D2E3FC;\n",
              "    }\n",
              "\n",
              "    [theme=dark] .colab-df-convert:hover {\n",
              "      background-color: #434B5C;\n",
              "      box-shadow: 0px 1px 3px 1px rgba(0, 0, 0, 0.15);\n",
              "      filter: drop-shadow(0px 1px 2px rgba(0, 0, 0, 0.3));\n",
              "      fill: #FFFFFF;\n",
              "    }\n",
              "  </style>\n",
              "\n",
              "    <script>\n",
              "      const buttonEl =\n",
              "        document.querySelector('#df-7ca29ae8-f5a7-4a23-9cdf-e35222e4cf14 button.colab-df-convert');\n",
              "      buttonEl.style.display =\n",
              "        google.colab.kernel.accessAllowed ? 'block' : 'none';\n",
              "\n",
              "      async function convertToInteractive(key) {\n",
              "        const element = document.querySelector('#df-7ca29ae8-f5a7-4a23-9cdf-e35222e4cf14');\n",
              "        const dataTable =\n",
              "          await google.colab.kernel.invokeFunction('convertToInteractive',\n",
              "                                                    [key], {});\n",
              "        if (!dataTable) return;\n",
              "\n",
              "        const docLinkHtml = 'Like what you see? Visit the ' +\n",
              "          '<a target=\"_blank\" href=https://colab.research.google.com/notebooks/data_table.ipynb>data table notebook</a>'\n",
              "          + ' to learn more about interactive tables.';\n",
              "        element.innerHTML = '';\n",
              "        dataTable['output_type'] = 'display_data';\n",
              "        await google.colab.output.renderOutput(dataTable, element);\n",
              "        const docLink = document.createElement('div');\n",
              "        docLink.innerHTML = docLinkHtml;\n",
              "        element.appendChild(docLink);\n",
              "      }\n",
              "    </script>\n",
              "  </div>\n",
              "\n",
              "\n",
              "    <div id=\"df-dfabb9eb-6e69-4e51-aa27-3247400d5585\">\n",
              "      <button class=\"colab-df-quickchart\" onclick=\"quickchart('df-dfabb9eb-6e69-4e51-aa27-3247400d5585')\"\n",
              "                title=\"Suggest charts\"\n",
              "                style=\"display:none;\">\n",
              "\n",
              "<svg xmlns=\"http://www.w3.org/2000/svg\" height=\"24px\"viewBox=\"0 0 24 24\"\n",
              "     width=\"24px\">\n",
              "    <g>\n",
              "        <path d=\"M19 3H5c-1.1 0-2 .9-2 2v14c0 1.1.9 2 2 2h14c1.1 0 2-.9 2-2V5c0-1.1-.9-2-2-2zM9 17H7v-7h2v7zm4 0h-2V7h2v10zm4 0h-2v-4h2v4z\"/>\n",
              "    </g>\n",
              "</svg>\n",
              "      </button>\n",
              "\n",
              "<style>\n",
              "  .colab-df-quickchart {\n",
              "      --bg-color: #E8F0FE;\n",
              "      --fill-color: #1967D2;\n",
              "      --hover-bg-color: #E2EBFA;\n",
              "      --hover-fill-color: #174EA6;\n",
              "      --disabled-fill-color: #AAA;\n",
              "      --disabled-bg-color: #DDD;\n",
              "  }\n",
              "\n",
              "  [theme=dark] .colab-df-quickchart {\n",
              "      --bg-color: #3B4455;\n",
              "      --fill-color: #D2E3FC;\n",
              "      --hover-bg-color: #434B5C;\n",
              "      --hover-fill-color: #FFFFFF;\n",
              "      --disabled-bg-color: #3B4455;\n",
              "      --disabled-fill-color: #666;\n",
              "  }\n",
              "\n",
              "  .colab-df-quickchart {\n",
              "    background-color: var(--bg-color);\n",
              "    border: none;\n",
              "    border-radius: 50%;\n",
              "    cursor: pointer;\n",
              "    display: none;\n",
              "    fill: var(--fill-color);\n",
              "    height: 32px;\n",
              "    padding: 0;\n",
              "    width: 32px;\n",
              "  }\n",
              "\n",
              "  .colab-df-quickchart:hover {\n",
              "    background-color: var(--hover-bg-color);\n",
              "    box-shadow: 0 1px 2px rgba(60, 64, 67, 0.3), 0 1px 3px 1px rgba(60, 64, 67, 0.15);\n",
              "    fill: var(--button-hover-fill-color);\n",
              "  }\n",
              "\n",
              "  .colab-df-quickchart-complete:disabled,\n",
              "  .colab-df-quickchart-complete:disabled:hover {\n",
              "    background-color: var(--disabled-bg-color);\n",
              "    fill: var(--disabled-fill-color);\n",
              "    box-shadow: none;\n",
              "  }\n",
              "\n",
              "  .colab-df-spinner {\n",
              "    border: 2px solid var(--fill-color);\n",
              "    border-color: transparent;\n",
              "    border-bottom-color: var(--fill-color);\n",
              "    animation:\n",
              "      spin 1s steps(1) infinite;\n",
              "  }\n",
              "\n",
              "  @keyframes spin {\n",
              "    0% {\n",
              "      border-color: transparent;\n",
              "      border-bottom-color: var(--fill-color);\n",
              "      border-left-color: var(--fill-color);\n",
              "    }\n",
              "    20% {\n",
              "      border-color: transparent;\n",
              "      border-left-color: var(--fill-color);\n",
              "      border-top-color: var(--fill-color);\n",
              "    }\n",
              "    30% {\n",
              "      border-color: transparent;\n",
              "      border-left-color: var(--fill-color);\n",
              "      border-top-color: var(--fill-color);\n",
              "      border-right-color: var(--fill-color);\n",
              "    }\n",
              "    40% {\n",
              "      border-color: transparent;\n",
              "      border-right-color: var(--fill-color);\n",
              "      border-top-color: var(--fill-color);\n",
              "    }\n",
              "    60% {\n",
              "      border-color: transparent;\n",
              "      border-right-color: var(--fill-color);\n",
              "    }\n",
              "    80% {\n",
              "      border-color: transparent;\n",
              "      border-right-color: var(--fill-color);\n",
              "      border-bottom-color: var(--fill-color);\n",
              "    }\n",
              "    90% {\n",
              "      border-color: transparent;\n",
              "      border-bottom-color: var(--fill-color);\n",
              "    }\n",
              "  }\n",
              "</style>\n",
              "\n",
              "      <script>\n",
              "        async function quickchart(key) {\n",
              "          const quickchartButtonEl =\n",
              "            document.querySelector('#' + key + ' button');\n",
              "          quickchartButtonEl.disabled = true;  // To prevent multiple clicks.\n",
              "          quickchartButtonEl.classList.add('colab-df-spinner');\n",
              "          try {\n",
              "            const charts = await google.colab.kernel.invokeFunction(\n",
              "                'suggestCharts', [key], {});\n",
              "          } catch (error) {\n",
              "            console.error('Error during call to suggestCharts:', error);\n",
              "          }\n",
              "          quickchartButtonEl.classList.remove('colab-df-spinner');\n",
              "          quickchartButtonEl.classList.add('colab-df-quickchart-complete');\n",
              "        }\n",
              "        (() => {\n",
              "          let quickchartButtonEl =\n",
              "            document.querySelector('#df-dfabb9eb-6e69-4e51-aa27-3247400d5585 button');\n",
              "          quickchartButtonEl.style.display =\n",
              "            google.colab.kernel.accessAllowed ? 'block' : 'none';\n",
              "        })();\n",
              "      </script>\n",
              "    </div>\n",
              "\n",
              "    </div>\n",
              "  </div>\n"
            ],
            "application/vnd.google.colaboratory.intrinsic+json": {
              "type": "dataframe",
              "variable_name": "df",
              "summary": "{\n  \"name\": \"df\",\n  \"rows\": 25,\n  \"fields\": [\n    {\n      \"column\": \"Indicadores\",\n      \"properties\": {\n        \"dtype\": \"string\",\n        \"num_unique_values\": 25,\n        \"samples\": [\n          \"Pasco\",\n          \"Callao\",\n          \"Puno\"\n        ],\n        \"semantic_type\": \"\",\n        \"description\": \"\"\n      }\n    },\n    {\n      \"column\": \"Fecundidad\",\n      \"properties\": {\n        \"dtype\": \"number\",\n        \"std\": 30817,\n        \"min\": 2571,\n        \"max\": 163089,\n        \"num_unique_values\": 25,\n        \"samples\": [\n          6355,\n          15584,\n          30108\n        ],\n        \"semantic_type\": \"\",\n        \"description\": \"\"\n      }\n    },\n    {\n      \"column\": \"Mortalidad\",\n      \"properties\": {\n        \"dtype\": \"number\",\n        \"std\": 10451,\n        \"min\": 660,\n        \"max\": 55201,\n        \"num_unique_values\": 25,\n        \"samples\": [\n          1715,\n          5513,\n          9951\n        ],\n        \"semantic_type\": \"\",\n        \"description\": \"\"\n      }\n    },\n    {\n      \"column\": \"TasaMortalidadxMil\",\n      \"properties\": {\n        \"dtype\": \"number\",\n        \"std\": 0.5807765915353015,\n        \"min\": 4.54,\n        \"max\": 6.97,\n        \"num_unique_values\": 21,\n        \"samples\": [\n          6.86,\n          6.15,\n          6.97\n        ],\n        \"semantic_type\": \"\",\n        \"description\": \"\"\n      }\n    },\n    {\n      \"column\": \"EsperanzaVida\",\n      \"properties\": {\n        \"dtype\": \"number\",\n        \"std\": 2.375037683911563,\n        \"min\": 70.93,\n        \"max\": 78.38,\n        \"num_unique_values\": 25,\n        \"samples\": [\n          72.52,\n          78.38,\n          71.44\n        ],\n        \"semantic_type\": \"\",\n        \"description\": \"\"\n      }\n    },\n    {\n      \"column\": \"EVSoloHombres\",\n      \"properties\": {\n        \"dtype\": \"number\",\n        \"std\": 2.3154976426965623,\n        \"min\": 68.53,\n        \"max\": 75.68,\n        \"num_unique_values\": 25,\n        \"samples\": [\n          69.63,\n          75.68,\n          68.77\n        ],\n        \"semantic_type\": \"\",\n        \"description\": \"\"\n      }\n    },\n    {\n      \"column\": \"EVSoloMujeres\",\n      \"properties\": {\n        \"dtype\": \"number\",\n        \"std\": 2.4437657416372804,\n        \"min\": 73.45,\n        \"max\": 81.22,\n        \"num_unique_values\": 25,\n        \"samples\": [\n          75.56,\n          81.22,\n          74.25\n        ],\n        \"semantic_type\": \"\",\n        \"description\": \"\"\n      }\n    },\n    {\n      \"column\": \"TasaMortalidadInfantilxMilNacidos\",\n      \"properties\": {\n        \"dtype\": \"number\",\n        \"std\": 5.434434193179636,\n        \"min\": 7.81,\n        \"max\": 26.82,\n        \"num_unique_values\": 23,\n        \"samples\": [\n          7.81,\n          9.14,\n          26.82\n        ],\n        \"semantic_type\": \"\",\n        \"description\": \"\"\n      }\n    },\n    {\n      \"column\": \"CrecimientoNatural\",\n      \"properties\": {\n        \"dtype\": \"number\",\n        \"std\": 20409,\n        \"min\": 1566,\n        \"max\": 107888,\n        \"num_unique_values\": 25,\n        \"samples\": [\n          4640,\n          10071,\n          20157\n        ],\n        \"semantic_type\": \"\",\n        \"description\": \"\"\n      }\n    }\n  ]\n}"
            }
          },
          "metadata": {},
          "execution_count": 17
        }
      ]
    },
    {
      "cell_type": "code",
      "source": [
        "#Revisando columnas disponibles\n",
        "print(df.columns)"
      ],
      "metadata": {
        "id": "iwZAL8hdyF1G",
        "outputId": "0b35c0c1-94ae-468b-f930-e7cfc7d3f268",
        "colab": {
          "base_uri": "https://localhost:8080/"
        }
      },
      "execution_count": 19,
      "outputs": [
        {
          "output_type": "stream",
          "name": "stdout",
          "text": [
            "Index(['Indicadores', 'Fecundidad', 'Mortalidad', 'TasaMortalidadxMil',\n",
            "       'EsperanzaVida', 'EVSoloHombres', 'EVSoloMujeres',\n",
            "       'TasaMortalidadInfantilxMilNacidos', 'CrecimientoNatural'],\n",
            "      dtype='object')\n"
          ]
        }
      ]
    },
    {
      "cell_type": "code",
      "source": [
        "#Revisando información general del dataset:\n",
        "\n",
        "df.info()"
      ],
      "metadata": {
        "id": "VC80YeJtyWYt",
        "outputId": "c3a51068-8b8a-46da-f3dc-2ba2859b2c95",
        "colab": {
          "base_uri": "https://localhost:8080/"
        }
      },
      "execution_count": 21,
      "outputs": [
        {
          "output_type": "stream",
          "name": "stdout",
          "text": [
            "<class 'pandas.core.frame.DataFrame'>\n",
            "RangeIndex: 25 entries, 0 to 24\n",
            "Data columns (total 9 columns):\n",
            " #   Column                             Non-Null Count  Dtype  \n",
            "---  ------                             --------------  -----  \n",
            " 0   Indicadores                        25 non-null     object \n",
            " 1   Fecundidad                         25 non-null     int64  \n",
            " 2   Mortalidad                         25 non-null     int64  \n",
            " 3   TasaMortalidadxMil                 24 non-null     float64\n",
            " 4   EsperanzaVida                      25 non-null     float64\n",
            " 5   EVSoloHombres                      25 non-null     float64\n",
            " 6   EVSoloMujeres                      25 non-null     float64\n",
            " 7   TasaMortalidadInfantilxMilNacidos  25 non-null     float64\n",
            " 8   CrecimientoNatural                 25 non-null     int64  \n",
            "dtypes: float64(5), int64(3), object(1)\n",
            "memory usage: 1.9+ KB\n"
          ]
        }
      ]
    },
    {
      "cell_type": "code",
      "source": [
        "# Estadísticas básicas solo de columnas numéricas\n",
        "df.describe()"
      ],
      "metadata": {
        "id": "Gygj0fhOyRLY",
        "outputId": "eeb785a1-bf13-4cb2-b7a3-513bcf109da5",
        "colab": {
          "base_uri": "https://localhost:8080/",
          "height": 320
        }
      },
      "execution_count": 20,
      "outputs": [
        {
          "output_type": "execute_result",
          "data": {
            "text/plain": [
              "          Fecundidad   Mortalidad  TasaMortalidadxMil  EsperanzaVida  \\\n",
              "count      25.000000     25.00000           24.000000      25.000000   \n",
              "mean    22874.400000   7265.28000            5.711667      74.059600   \n",
              "std     30817.223005  10451.42713            0.580777       2.375038   \n",
              "min      2571.000000    660.00000            4.540000      70.930000   \n",
              "25%      8872.000000   2788.00000            5.397500      71.990000   \n",
              "50%     16074.000000   5234.00000            5.545000      73.290000   \n",
              "75%     24385.000000   8450.00000            5.985000      76.450000   \n",
              "max    163089.000000  55201.00000            6.970000      78.380000   \n",
              "\n",
              "       EVSoloHombres  EVSoloMujeres  TasaMortalidadInfantilxMilNacidos  \\\n",
              "count      25.000000      25.000000                          25.000000   \n",
              "mean       71.337200      76.919200                          16.984000   \n",
              "std         2.315498       2.443766                           5.434434   \n",
              "min        68.530000      73.450000                           7.810000   \n",
              "25%        69.240000      74.870000                          11.770000   \n",
              "50%        70.710000      76.000000                          16.890000   \n",
              "75%        73.650000      79.390000                          20.000000   \n",
              "max        75.680000      81.220000                          26.820000   \n",
              "\n",
              "       CrecimientoNatural  \n",
              "count           25.000000  \n",
              "mean         15609.120000  \n",
              "std          20409.736145  \n",
              "min           1566.000000  \n",
              "25%           5852.000000  \n",
              "50%          11452.000000  \n",
              "75%          16320.000000  \n",
              "max         107888.000000  "
            ],
            "text/html": [
              "\n",
              "  <div id=\"df-59dfde8c-b7d1-488a-97f5-534847b617bf\" class=\"colab-df-container\">\n",
              "    <div>\n",
              "<style scoped>\n",
              "    .dataframe tbody tr th:only-of-type {\n",
              "        vertical-align: middle;\n",
              "    }\n",
              "\n",
              "    .dataframe tbody tr th {\n",
              "        vertical-align: top;\n",
              "    }\n",
              "\n",
              "    .dataframe thead th {\n",
              "        text-align: right;\n",
              "    }\n",
              "</style>\n",
              "<table border=\"1\" class=\"dataframe\">\n",
              "  <thead>\n",
              "    <tr style=\"text-align: right;\">\n",
              "      <th></th>\n",
              "      <th>Fecundidad</th>\n",
              "      <th>Mortalidad</th>\n",
              "      <th>TasaMortalidadxMil</th>\n",
              "      <th>EsperanzaVida</th>\n",
              "      <th>EVSoloHombres</th>\n",
              "      <th>EVSoloMujeres</th>\n",
              "      <th>TasaMortalidadInfantilxMilNacidos</th>\n",
              "      <th>CrecimientoNatural</th>\n",
              "    </tr>\n",
              "  </thead>\n",
              "  <tbody>\n",
              "    <tr>\n",
              "      <th>count</th>\n",
              "      <td>25.000000</td>\n",
              "      <td>25.00000</td>\n",
              "      <td>24.000000</td>\n",
              "      <td>25.000000</td>\n",
              "      <td>25.000000</td>\n",
              "      <td>25.000000</td>\n",
              "      <td>25.000000</td>\n",
              "      <td>25.000000</td>\n",
              "    </tr>\n",
              "    <tr>\n",
              "      <th>mean</th>\n",
              "      <td>22874.400000</td>\n",
              "      <td>7265.28000</td>\n",
              "      <td>5.711667</td>\n",
              "      <td>74.059600</td>\n",
              "      <td>71.337200</td>\n",
              "      <td>76.919200</td>\n",
              "      <td>16.984000</td>\n",
              "      <td>15609.120000</td>\n",
              "    </tr>\n",
              "    <tr>\n",
              "      <th>std</th>\n",
              "      <td>30817.223005</td>\n",
              "      <td>10451.42713</td>\n",
              "      <td>0.580777</td>\n",
              "      <td>2.375038</td>\n",
              "      <td>2.315498</td>\n",
              "      <td>2.443766</td>\n",
              "      <td>5.434434</td>\n",
              "      <td>20409.736145</td>\n",
              "    </tr>\n",
              "    <tr>\n",
              "      <th>min</th>\n",
              "      <td>2571.000000</td>\n",
              "      <td>660.00000</td>\n",
              "      <td>4.540000</td>\n",
              "      <td>70.930000</td>\n",
              "      <td>68.530000</td>\n",
              "      <td>73.450000</td>\n",
              "      <td>7.810000</td>\n",
              "      <td>1566.000000</td>\n",
              "    </tr>\n",
              "    <tr>\n",
              "      <th>25%</th>\n",
              "      <td>8872.000000</td>\n",
              "      <td>2788.00000</td>\n",
              "      <td>5.397500</td>\n",
              "      <td>71.990000</td>\n",
              "      <td>69.240000</td>\n",
              "      <td>74.870000</td>\n",
              "      <td>11.770000</td>\n",
              "      <td>5852.000000</td>\n",
              "    </tr>\n",
              "    <tr>\n",
              "      <th>50%</th>\n",
              "      <td>16074.000000</td>\n",
              "      <td>5234.00000</td>\n",
              "      <td>5.545000</td>\n",
              "      <td>73.290000</td>\n",
              "      <td>70.710000</td>\n",
              "      <td>76.000000</td>\n",
              "      <td>16.890000</td>\n",
              "      <td>11452.000000</td>\n",
              "    </tr>\n",
              "    <tr>\n",
              "      <th>75%</th>\n",
              "      <td>24385.000000</td>\n",
              "      <td>8450.00000</td>\n",
              "      <td>5.985000</td>\n",
              "      <td>76.450000</td>\n",
              "      <td>73.650000</td>\n",
              "      <td>79.390000</td>\n",
              "      <td>20.000000</td>\n",
              "      <td>16320.000000</td>\n",
              "    </tr>\n",
              "    <tr>\n",
              "      <th>max</th>\n",
              "      <td>163089.000000</td>\n",
              "      <td>55201.00000</td>\n",
              "      <td>6.970000</td>\n",
              "      <td>78.380000</td>\n",
              "      <td>75.680000</td>\n",
              "      <td>81.220000</td>\n",
              "      <td>26.820000</td>\n",
              "      <td>107888.000000</td>\n",
              "    </tr>\n",
              "  </tbody>\n",
              "</table>\n",
              "</div>\n",
              "    <div class=\"colab-df-buttons\">\n",
              "\n",
              "  <div class=\"colab-df-container\">\n",
              "    <button class=\"colab-df-convert\" onclick=\"convertToInteractive('df-59dfde8c-b7d1-488a-97f5-534847b617bf')\"\n",
              "            title=\"Convert this dataframe to an interactive table.\"\n",
              "            style=\"display:none;\">\n",
              "\n",
              "  <svg xmlns=\"http://www.w3.org/2000/svg\" height=\"24px\" viewBox=\"0 -960 960 960\">\n",
              "    <path d=\"M120-120v-720h720v720H120Zm60-500h600v-160H180v160Zm220 220h160v-160H400v160Zm0 220h160v-160H400v160ZM180-400h160v-160H180v160Zm440 0h160v-160H620v160ZM180-180h160v-160H180v160Zm440 0h160v-160H620v160Z\"/>\n",
              "  </svg>\n",
              "    </button>\n",
              "\n",
              "  <style>\n",
              "    .colab-df-container {\n",
              "      display:flex;\n",
              "      gap: 12px;\n",
              "    }\n",
              "\n",
              "    .colab-df-convert {\n",
              "      background-color: #E8F0FE;\n",
              "      border: none;\n",
              "      border-radius: 50%;\n",
              "      cursor: pointer;\n",
              "      display: none;\n",
              "      fill: #1967D2;\n",
              "      height: 32px;\n",
              "      padding: 0 0 0 0;\n",
              "      width: 32px;\n",
              "    }\n",
              "\n",
              "    .colab-df-convert:hover {\n",
              "      background-color: #E2EBFA;\n",
              "      box-shadow: 0px 1px 2px rgba(60, 64, 67, 0.3), 0px 1px 3px 1px rgba(60, 64, 67, 0.15);\n",
              "      fill: #174EA6;\n",
              "    }\n",
              "\n",
              "    .colab-df-buttons div {\n",
              "      margin-bottom: 4px;\n",
              "    }\n",
              "\n",
              "    [theme=dark] .colab-df-convert {\n",
              "      background-color: #3B4455;\n",
              "      fill: #D2E3FC;\n",
              "    }\n",
              "\n",
              "    [theme=dark] .colab-df-convert:hover {\n",
              "      background-color: #434B5C;\n",
              "      box-shadow: 0px 1px 3px 1px rgba(0, 0, 0, 0.15);\n",
              "      filter: drop-shadow(0px 1px 2px rgba(0, 0, 0, 0.3));\n",
              "      fill: #FFFFFF;\n",
              "    }\n",
              "  </style>\n",
              "\n",
              "    <script>\n",
              "      const buttonEl =\n",
              "        document.querySelector('#df-59dfde8c-b7d1-488a-97f5-534847b617bf button.colab-df-convert');\n",
              "      buttonEl.style.display =\n",
              "        google.colab.kernel.accessAllowed ? 'block' : 'none';\n",
              "\n",
              "      async function convertToInteractive(key) {\n",
              "        const element = document.querySelector('#df-59dfde8c-b7d1-488a-97f5-534847b617bf');\n",
              "        const dataTable =\n",
              "          await google.colab.kernel.invokeFunction('convertToInteractive',\n",
              "                                                    [key], {});\n",
              "        if (!dataTable) return;\n",
              "\n",
              "        const docLinkHtml = 'Like what you see? Visit the ' +\n",
              "          '<a target=\"_blank\" href=https://colab.research.google.com/notebooks/data_table.ipynb>data table notebook</a>'\n",
              "          + ' to learn more about interactive tables.';\n",
              "        element.innerHTML = '';\n",
              "        dataTable['output_type'] = 'display_data';\n",
              "        await google.colab.output.renderOutput(dataTable, element);\n",
              "        const docLink = document.createElement('div');\n",
              "        docLink.innerHTML = docLinkHtml;\n",
              "        element.appendChild(docLink);\n",
              "      }\n",
              "    </script>\n",
              "  </div>\n",
              "\n",
              "\n",
              "    <div id=\"df-814a4601-6875-4758-bc76-1ed9703ddf06\">\n",
              "      <button class=\"colab-df-quickchart\" onclick=\"quickchart('df-814a4601-6875-4758-bc76-1ed9703ddf06')\"\n",
              "                title=\"Suggest charts\"\n",
              "                style=\"display:none;\">\n",
              "\n",
              "<svg xmlns=\"http://www.w3.org/2000/svg\" height=\"24px\"viewBox=\"0 0 24 24\"\n",
              "     width=\"24px\">\n",
              "    <g>\n",
              "        <path d=\"M19 3H5c-1.1 0-2 .9-2 2v14c0 1.1.9 2 2 2h14c1.1 0 2-.9 2-2V5c0-1.1-.9-2-2-2zM9 17H7v-7h2v7zm4 0h-2V7h2v10zm4 0h-2v-4h2v4z\"/>\n",
              "    </g>\n",
              "</svg>\n",
              "      </button>\n",
              "\n",
              "<style>\n",
              "  .colab-df-quickchart {\n",
              "      --bg-color: #E8F0FE;\n",
              "      --fill-color: #1967D2;\n",
              "      --hover-bg-color: #E2EBFA;\n",
              "      --hover-fill-color: #174EA6;\n",
              "      --disabled-fill-color: #AAA;\n",
              "      --disabled-bg-color: #DDD;\n",
              "  }\n",
              "\n",
              "  [theme=dark] .colab-df-quickchart {\n",
              "      --bg-color: #3B4455;\n",
              "      --fill-color: #D2E3FC;\n",
              "      --hover-bg-color: #434B5C;\n",
              "      --hover-fill-color: #FFFFFF;\n",
              "      --disabled-bg-color: #3B4455;\n",
              "      --disabled-fill-color: #666;\n",
              "  }\n",
              "\n",
              "  .colab-df-quickchart {\n",
              "    background-color: var(--bg-color);\n",
              "    border: none;\n",
              "    border-radius: 50%;\n",
              "    cursor: pointer;\n",
              "    display: none;\n",
              "    fill: var(--fill-color);\n",
              "    height: 32px;\n",
              "    padding: 0;\n",
              "    width: 32px;\n",
              "  }\n",
              "\n",
              "  .colab-df-quickchart:hover {\n",
              "    background-color: var(--hover-bg-color);\n",
              "    box-shadow: 0 1px 2px rgba(60, 64, 67, 0.3), 0 1px 3px 1px rgba(60, 64, 67, 0.15);\n",
              "    fill: var(--button-hover-fill-color);\n",
              "  }\n",
              "\n",
              "  .colab-df-quickchart-complete:disabled,\n",
              "  .colab-df-quickchart-complete:disabled:hover {\n",
              "    background-color: var(--disabled-bg-color);\n",
              "    fill: var(--disabled-fill-color);\n",
              "    box-shadow: none;\n",
              "  }\n",
              "\n",
              "  .colab-df-spinner {\n",
              "    border: 2px solid var(--fill-color);\n",
              "    border-color: transparent;\n",
              "    border-bottom-color: var(--fill-color);\n",
              "    animation:\n",
              "      spin 1s steps(1) infinite;\n",
              "  }\n",
              "\n",
              "  @keyframes spin {\n",
              "    0% {\n",
              "      border-color: transparent;\n",
              "      border-bottom-color: var(--fill-color);\n",
              "      border-left-color: var(--fill-color);\n",
              "    }\n",
              "    20% {\n",
              "      border-color: transparent;\n",
              "      border-left-color: var(--fill-color);\n",
              "      border-top-color: var(--fill-color);\n",
              "    }\n",
              "    30% {\n",
              "      border-color: transparent;\n",
              "      border-left-color: var(--fill-color);\n",
              "      border-top-color: var(--fill-color);\n",
              "      border-right-color: var(--fill-color);\n",
              "    }\n",
              "    40% {\n",
              "      border-color: transparent;\n",
              "      border-right-color: var(--fill-color);\n",
              "      border-top-color: var(--fill-color);\n",
              "    }\n",
              "    60% {\n",
              "      border-color: transparent;\n",
              "      border-right-color: var(--fill-color);\n",
              "    }\n",
              "    80% {\n",
              "      border-color: transparent;\n",
              "      border-right-color: var(--fill-color);\n",
              "      border-bottom-color: var(--fill-color);\n",
              "    }\n",
              "    90% {\n",
              "      border-color: transparent;\n",
              "      border-bottom-color: var(--fill-color);\n",
              "    }\n",
              "  }\n",
              "</style>\n",
              "\n",
              "      <script>\n",
              "        async function quickchart(key) {\n",
              "          const quickchartButtonEl =\n",
              "            document.querySelector('#' + key + ' button');\n",
              "          quickchartButtonEl.disabled = true;  // To prevent multiple clicks.\n",
              "          quickchartButtonEl.classList.add('colab-df-spinner');\n",
              "          try {\n",
              "            const charts = await google.colab.kernel.invokeFunction(\n",
              "                'suggestCharts', [key], {});\n",
              "          } catch (error) {\n",
              "            console.error('Error during call to suggestCharts:', error);\n",
              "          }\n",
              "          quickchartButtonEl.classList.remove('colab-df-spinner');\n",
              "          quickchartButtonEl.classList.add('colab-df-quickchart-complete');\n",
              "        }\n",
              "        (() => {\n",
              "          let quickchartButtonEl =\n",
              "            document.querySelector('#df-814a4601-6875-4758-bc76-1ed9703ddf06 button');\n",
              "          quickchartButtonEl.style.display =\n",
              "            google.colab.kernel.accessAllowed ? 'block' : 'none';\n",
              "        })();\n",
              "      </script>\n",
              "    </div>\n",
              "\n",
              "    </div>\n",
              "  </div>\n"
            ],
            "application/vnd.google.colaboratory.intrinsic+json": {
              "type": "dataframe",
              "summary": "{\n  \"name\": \"df\",\n  \"rows\": 8,\n  \"fields\": [\n    {\n      \"column\": \"Fecundidad\",\n      \"properties\": {\n        \"dtype\": \"number\",\n        \"std\": 53430.612879127555,\n        \"min\": 25.0,\n        \"max\": 163089.0,\n        \"num_unique_values\": 8,\n        \"samples\": [\n          22874.4,\n          16074.0,\n          25.0\n        ],\n        \"semantic_type\": \"\",\n        \"description\": \"\"\n      }\n    },\n    {\n      \"column\": \"Mortalidad\",\n      \"properties\": {\n        \"dtype\": \"number\",\n        \"std\": 18134.386595886564,\n        \"min\": 25.0,\n        \"max\": 55201.0,\n        \"num_unique_values\": 8,\n        \"samples\": [\n          7265.28,\n          5234.0,\n          25.0\n        ],\n        \"semantic_type\": \"\",\n        \"description\": \"\"\n      }\n    },\n    {\n      \"column\": \"TasaMortalidadxMil\",\n      \"properties\": {\n        \"dtype\": \"number\",\n        \"std\": 6.996962753544607,\n        \"min\": 0.5807765915353015,\n        \"max\": 24.0,\n        \"num_unique_values\": 8,\n        \"samples\": [\n          5.711666666666667,\n          5.545,\n          24.0\n        ],\n        \"semantic_type\": \"\",\n        \"description\": \"\"\n      }\n    },\n    {\n      \"column\": \"EsperanzaVida\",\n      \"properties\": {\n        \"dtype\": \"number\",\n        \"std\": 28.746442635424003,\n        \"min\": 2.375037683911563,\n        \"max\": 78.38,\n        \"num_unique_values\": 8,\n        \"samples\": [\n          74.0596,\n          73.29,\n          25.0\n        ],\n        \"semantic_type\": \"\",\n        \"description\": \"\"\n      }\n    },\n    {\n      \"column\": \"EVSoloHombres\",\n      \"properties\": {\n        \"dtype\": \"number\",\n        \"std\": 27.559833196590795,\n        \"min\": 2.3154976426965623,\n        \"max\": 75.68,\n        \"num_unique_values\": 8,\n        \"samples\": [\n          71.3372,\n          70.71,\n          25.0\n        ],\n        \"semantic_type\": \"\",\n        \"description\": \"\"\n      }\n    },\n    {\n      \"column\": \"EVSoloMujeres\",\n      \"properties\": {\n        \"dtype\": \"number\",\n        \"std\": 29.993962318890404,\n        \"min\": 2.4437657416372804,\n        \"max\": 81.22,\n        \"num_unique_values\": 8,\n        \"samples\": [\n          76.9192,\n          76.0,\n          25.0\n        ],\n        \"semantic_type\": \"\",\n        \"description\": \"\"\n      }\n    },\n    {\n      \"column\": \"TasaMortalidadInfantilxMilNacidos\",\n      \"properties\": {\n        \"dtype\": \"number\",\n        \"std\": 7.667333163175387,\n        \"min\": 5.434434193179636,\n        \"max\": 26.82,\n        \"num_unique_values\": 8,\n        \"samples\": [\n          16.984,\n          16.89,\n          25.0\n        ],\n        \"semantic_type\": \"\",\n        \"description\": \"\"\n      }\n    },\n    {\n      \"column\": \"CrecimientoNatural\",\n      \"properties\": {\n        \"dtype\": \"number\",\n        \"std\": 35302.027807149716,\n        \"min\": 25.0,\n        \"max\": 107888.0,\n        \"num_unique_values\": 8,\n        \"samples\": [\n          15609.12,\n          11452.0,\n          25.0\n        ],\n        \"semantic_type\": \"\",\n        \"description\": \"\"\n      }\n    }\n  ]\n}"
            }
          },
          "metadata": {},
          "execution_count": 20
        }
      ]
    },
    {
      "cell_type": "code",
      "source": [
        "# Distribución de variables numéricas\n",
        "df.describe()\n",
        "\n",
        "# Valores únicos o rangos\n",
        "print(\"Valores únicos por columna:\")\n",
        "print(df.nunique())"
      ],
      "metadata": {
        "id": "l5od4iPxyj5i",
        "outputId": "0b5e0e65-68e3-4b94-cbfe-080ea27b2d25",
        "colab": {
          "base_uri": "https://localhost:8080/"
        }
      },
      "execution_count": 22,
      "outputs": [
        {
          "output_type": "stream",
          "name": "stdout",
          "text": [
            "Valores únicos por columna:\n",
            "Indicadores                          25\n",
            "Fecundidad                           25\n",
            "Mortalidad                           25\n",
            "TasaMortalidadxMil                   21\n",
            "EsperanzaVida                        25\n",
            "EVSoloHombres                        25\n",
            "EVSoloMujeres                        25\n",
            "TasaMortalidadInfantilxMilNacidos    23\n",
            "CrecimientoNatural                   25\n",
            "dtype: int64\n"
          ]
        }
      ]
    },
    {
      "cell_type": "code",
      "source": [],
      "metadata": {
        "id": "jsVeuTmby5kz"
      },
      "execution_count": 23,
      "outputs": []
    }
  ]
}