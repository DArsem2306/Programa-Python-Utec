{
  "nbformat": 4,
  "nbformat_minor": 0,
  "metadata": {
    "colab": {
      "provenance": [],
      "include_colab_link": true
    },
    "kernelspec": {
      "name": "python3",
      "display_name": "Python 3"
    },
    "language_info": {
      "name": "python"
    }
  },
  "cells": [
    {
      "cell_type": "markdown",
      "metadata": {
        "id": "view-in-github",
        "colab_type": "text"
      },
      "source": [
        "<a href=\"https://colab.research.google.com/github/DArsem2306/Programa-Python-Utec/blob/main/Proyecto/Graficos_Proyecto_UTEC.ipynb\" target=\"_parent\"><img src=\"https://colab.research.google.com/assets/colab-badge.svg\" alt=\"Open In Colab\"/></a>"
      ]
    },
    {
      "cell_type": "code",
      "execution_count": null,
      "metadata": {
        "id": "ZsllsM0VHD19"
      },
      "outputs": [],
      "source": []
    },
    {
      "cell_type": "markdown",
      "source": [
        "¿cuanto me esta costando los proveedores de acuerdo al senority?"
      ],
      "metadata": {
        "id": "ytaPGXbrHacF"
      }
    },
    {
      "cell_type": "code",
      "source": [
        "from google.colab import drive\n",
        "drive.mount('/content/drive')"
      ],
      "metadata": {
        "colab": {
          "base_uri": "https://localhost:8080/"
        },
        "id": "rBl5tuiVHfcH",
        "outputId": "37e31825-da3f-4f2f-bf8f-ebf3a6ced91e"
      },
      "execution_count": null,
      "outputs": [
        {
          "output_type": "stream",
          "name": "stdout",
          "text": [
            "Mounted at /content/drive\n"
          ]
        }
      ]
    },
    {
      "cell_type": "markdown",
      "source": [
        "carga data set"
      ],
      "metadata": {
        "id": "yusdKmflIVKA"
      }
    },
    {
      "cell_type": "code",
      "source": [
        "import pandas as pd\n",
        "data_ruta= ('/content/Base de datos.xlsx - Hoja2.csv')\n",
        "dataset=pd.read_csv(data_ruta,delimiter=\",\")"
      ],
      "metadata": {
        "id": "yq2J6pWzINX9"
      },
      "execution_count": null,
      "outputs": []
    },
    {
      "cell_type": "markdown",
      "source": [
        "¿cuanto me esta costando los proveedores de acuerdo al senority?"
      ],
      "metadata": {
        "id": "vSeTa-eNImZG"
      }
    },
    {
      "cell_type": "code",
      "source": [
        "tarifa_promedio = dataset.groupby('Senority')['Tarifa por hora'].mean().sort_values(ascending=False)\n",
        "tarifa_promedio"
      ],
      "metadata": {
        "colab": {
          "base_uri": "https://localhost:8080/",
          "height": 272
        },
        "id": "FhwSHiNvIqHf",
        "outputId": "6b711a88-b805-4736-bcc4-1cf4d587a4e2"
      },
      "execution_count": null,
      "outputs": [
        {
          "output_type": "execute_result",
          "data": {
            "text/plain": [
              "Senority\n",
              "Principal      79.320000\n",
              "Junior         77.099099\n",
              "Senior         74.522222\n",
              "Semi Senior    73.800000\n",
              "Lead           73.365217\n",
              "Name: Tarifa por hora, dtype: float64"
            ],
            "text/html": [
              "<div>\n",
              "<style scoped>\n",
              "    .dataframe tbody tr th:only-of-type {\n",
              "        vertical-align: middle;\n",
              "    }\n",
              "\n",
              "    .dataframe tbody tr th {\n",
              "        vertical-align: top;\n",
              "    }\n",
              "\n",
              "    .dataframe thead th {\n",
              "        text-align: right;\n",
              "    }\n",
              "</style>\n",
              "<table border=\"1\" class=\"dataframe\">\n",
              "  <thead>\n",
              "    <tr style=\"text-align: right;\">\n",
              "      <th></th>\n",
              "      <th>Tarifa por hora</th>\n",
              "    </tr>\n",
              "    <tr>\n",
              "      <th>Senority</th>\n",
              "      <th></th>\n",
              "    </tr>\n",
              "  </thead>\n",
              "  <tbody>\n",
              "    <tr>\n",
              "      <th>Principal</th>\n",
              "      <td>79.320000</td>\n",
              "    </tr>\n",
              "    <tr>\n",
              "      <th>Junior</th>\n",
              "      <td>77.099099</td>\n",
              "    </tr>\n",
              "    <tr>\n",
              "      <th>Senior</th>\n",
              "      <td>74.522222</td>\n",
              "    </tr>\n",
              "    <tr>\n",
              "      <th>Semi Senior</th>\n",
              "      <td>73.800000</td>\n",
              "    </tr>\n",
              "    <tr>\n",
              "      <th>Lead</th>\n",
              "      <td>73.365217</td>\n",
              "    </tr>\n",
              "  </tbody>\n",
              "</table>\n",
              "</div><br><label><b>dtype:</b> float64</label>"
            ]
          },
          "metadata": {},
          "execution_count": 4
        }
      ]
    },
    {
      "cell_type": "code",
      "source": [
        "tarifa_promedio.plot(kind='bar',title='Tarifa promedio por Senority')"
      ],
      "metadata": {
        "colab": {
          "base_uri": "https://localhost:8080/",
          "height": 558
        },
        "id": "zSYcCMxvJfQu",
        "outputId": "6722c308-e76a-4ff2-84d9-d1d84e34c681"
      },
      "execution_count": null,
      "outputs": [
        {
          "output_type": "execute_result",
          "data": {
            "text/plain": [
              "<Axes: title={'center': 'Tarifa promedio por Senority'}, xlabel='Senority'>"
            ]
          },
          "metadata": {},
          "execution_count": 19
        },
        {
          "output_type": "display_data",
          "data": {
            "text/plain": [
              "<Figure size 640x480 with 1 Axes>"
            ],
            "image/png": "[encoded data removed]"
          },
          "metadata": {}
        }
      ]
    },
    {
      "cell_type": "markdown",
      "source": [
        "cuanto me esta costando por mundo"
      ],
      "metadata": {
        "id": "hywV1u4uKVlA"
      }
    },
    {
      "cell_type": "code",
      "source": [
        "tarifa_promedio_mundo = dataset.groupby('Mundo')['Tarifa por hora'].mean().sort_values(ascending=False)\n",
        "tarifa_promedio_mundo"
      ],
      "metadata": {
        "colab": {
          "base_uri": "https://localhost:8080/",
          "height": 210
        },
        "id": "MbwaiA6WJfLD",
        "outputId": "d0d1b23f-9dd3-404d-8e7f-a9832d2dc767"
      },
      "execution_count": null,
      "outputs": [
        {
          "output_type": "execute_result",
          "data": {
            "text/plain": [
              "Mundo\n",
              "Empresas      78.007576\n",
              "Innovación    76.971429\n",
              "Personas      74.598802\n",
              "Name: Tarifa por hora, dtype: float64"
            ],
            "text/html": [
              "<div>\n",
              "<style scoped>\n",
              "    .dataframe tbody tr th:only-of-type {\n",
              "        vertical-align: middle;\n",
              "    }\n",
              "\n",
              "    .dataframe tbody tr th {\n",
              "        vertical-align: top;\n",
              "    }\n",
              "\n",
              "    .dataframe thead th {\n",
              "        text-align: right;\n",
              "    }\n",
              "</style>\n",
              "<table border=\"1\" class=\"dataframe\">\n",
              "  <thead>\n",
              "    <tr style=\"text-align: right;\">\n",
              "      <th></th>\n",
              "      <th>Tarifa por hora</th>\n",
              "    </tr>\n",
              "    <tr>\n",
              "      <th>Mundo</th>\n",
              "      <th></th>\n",
              "    </tr>\n",
              "  </thead>\n",
              "  <tbody>\n",
              "    <tr>\n",
              "      <th>Empresas</th>\n",
              "      <td>78.007576</td>\n",
              "    </tr>\n",
              "    <tr>\n",
              "      <th>Innovación</th>\n",
              "      <td>76.971429</td>\n",
              "    </tr>\n",
              "    <tr>\n",
              "      <th>Personas</th>\n",
              "      <td>74.598802</td>\n",
              "    </tr>\n",
              "  </tbody>\n",
              "</table>\n",
              "</div><br><label><b>dtype:</b> float64</label>"
            ]
          },
          "metadata": {},
          "execution_count": 6
        }
      ]
    },
    {
      "cell_type": "code",
      "source": [
        "tarifa_promedio_mundo.plot(kind='bar',title='Tarifa promedio por mundo')"
      ],
      "metadata": {
        "colab": {
          "base_uri": "https://localhost:8080/",
          "height": 550
        },
        "id": "VI43y0mxKzLy",
        "outputId": "270bd485-541f-470c-cd58-b214f5bb76a6"
      },
      "execution_count": null,
      "outputs": [
        {
          "output_type": "execute_result",
          "data": {
            "text/plain": [
              "<Axes: title={'center': 'Tarifa promedio por mundo'}, xlabel='Mundo'>"
            ]
          },
          "metadata": {},
          "execution_count": 18
        },
        {
          "output_type": "display_data",
          "data": {
            "text/plain": [
              "<Figure size 640x480 with 1 Axes>"
            ],
            "image/png": "[encoded data removed]"
          },
          "metadata": {}
        }
      ]
    },
    {
      "cell_type": "markdown",
      "source": [
        "Costo promedio por trimestre por unidad de negocio"
      ],
      "metadata": {
        "id": "2WBUudP3MF3j"
      }
    },
    {
      "cell_type": "code",
      "source": [
        "costo_promedio_unidadnegocio = dataset.groupby(['Unidad de Negocio','Año trimestre'])['Tarifa por hora'].mean().sort_values(ascending=False)\n",
        "costo_promedio_unidadnegocio"
      ],
      "metadata": {
        "colab": {
          "base_uri": "https://localhost:8080/",
          "height": 1000
        },
        "id": "ixziYxB_K_oR",
        "outputId": "54aa0816-ce07-48d8-8419-fd4e2959dc30"
      },
      "execution_count": null,
      "outputs": [
        {
          "output_type": "execute_result",
          "data": {
            "text/plain": [
              "Unidad de Negocio  Año trimestre\n",
              "Tribu 2            2024 - Q2        93.000000\n",
              "Tribu 7            2024 - Q4        91.500000\n",
              "Tribu 11           2024 - Q1        87.272727\n",
              "Tribu 7            2024 - Q2        85.444444\n",
              "Tribu 2            2024 - Q1        82.916667\n",
              "Tribu 11           2024 - Q3        82.875000\n",
              "Tribu 4            2024 - Q3        82.500000\n",
              "Tribu 3            2024 - Q4        82.400000\n",
              "Tribu 2            2024 - Q3        82.250000\n",
              "Tribu 10           2024 - Q2        81.300000\n",
              "Tribu 3            2024 - Q1        81.200000\n",
              "Tribu 12           2024 - Q3        80.700000\n",
              "Tribu 9            2024 - Q1        80.600000\n",
              "Tribu 8            2024 - Q4        80.307692\n",
              "Tribu 1            2024 - Q4        79.500000\n",
              "Tribu 12           2024 - Q4        79.363636\n",
              "Tribu 5            2024 - Q2        78.214286\n",
              "Tribu 10           2024 - Q1        77.818182\n",
              "                   2024 - Q4        77.230769\n",
              "Tribu 7            2024 - Q1        76.384615\n",
              "Tribu 11           2024 - Q2        76.272727\n",
              "Tribu 8            2024 - Q1        76.000000\n",
              "Tribu 1            2024 - Q3        75.875000\n",
              "Tribu 6            2024 - Q1        75.714286\n",
              "Tribu 5            2024 - Q4        75.555556\n",
              "                   2024 - Q1        75.250000\n",
              "Tribu 9            2024 - Q4        74.700000\n",
              "Tribu 11           2024 - Q4        74.500000\n",
              "Tribu 4            2024 - Q2        74.285714\n",
              "Tribu 6            2024 - Q2        73.545455\n",
              "Tribu 1            2024 - Q2        73.000000\n",
              "Tribu 9            2024 - Q3        72.909091\n",
              "Tribu 10           2024 - Q3        72.866667\n",
              "Tribu 1            2024 - Q1        72.200000\n",
              "Tribu 8            2024 - Q3        72.100000\n",
              "Tribu 3            2024 - Q2        71.875000\n",
              "Tribu 9            2024 - Q2        71.600000\n",
              "Tribu 6            2024 - Q3        71.333333\n",
              "Tribu 12           2024 - Q1        71.000000\n",
              "Tribu 2            2024 - Q4        70.900000\n",
              "Tribu 4            2024 - Q1        70.300000\n",
              "Tribu 7            2024 - Q3        68.571429\n",
              "Tribu 3            2024 - Q3        68.272727\n",
              "Tribu 4            2024 - Q4        68.250000\n",
              "Tribu 12           2024 - Q2        67.950000\n",
              "Tribu 6            2024 - Q4        67.090909\n",
              "Tribu 5            2024 - Q3        67.000000\n",
              "Tribu 8            2024 - Q2        63.846154\n",
              "Name: Tarifa por hora, dtype: float64"
            ],
            "text/html": [
              "<div>\n",
              "<style scoped>\n",
              "    .dataframe tbody tr th:only-of-type {\n",
              "        vertical-align: middle;\n",
              "    }\n",
              "\n",
              "    .dataframe tbody tr th {\n",
              "        vertical-align: top;\n",
              "    }\n",
              "\n",
              "    .dataframe thead th {\n",
              "        text-align: right;\n",
              "    }\n",
              "</style>\n",
              "<table border=\"1\" class=\"dataframe\">\n",
              "  <thead>\n",
              "    <tr style=\"text-align: right;\">\n",
              "      <th></th>\n",
              "      <th></th>\n",
              "      <th>Tarifa por hora</th>\n",
              "    </tr>\n",
              "    <tr>\n",
              "      <th>Unidad de Negocio</th>\n",
              "      <th>Año trimestre</th>\n",
              "      <th></th>\n",
              "    </tr>\n",
              "  </thead>\n",
              "  <tbody>\n",
              "    <tr>\n",
              "      <th>Tribu 2</th>\n",
              "      <th>2024 - Q2</th>\n",
              "      <td>93.000000</td>\n",
              "    </tr>\n",
              "    <tr>\n",
              "      <th>Tribu 7</th>\n",
              "      <th>2024 - Q4</th>\n",
              "      <td>91.500000</td>\n",
              "    </tr>\n",
              "    <tr>\n",
              "      <th>Tribu 11</th>\n",
              "      <th>2024 - Q1</th>\n",
              "      <td>87.272727</td>\n",
              "    </tr>\n",
              "    <tr>\n",
              "      <th>Tribu 7</th>\n",
              "      <th>2024 - Q2</th>\n",
              "      <td>85.444444</td>\n",
              "    </tr>\n",
              "    <tr>\n",
              "      <th>Tribu 2</th>\n",
              "      <th>2024 - Q1</th>\n",
              "      <td>82.916667</td>\n",
              "    </tr>\n",
              "    <tr>\n",
              "      <th>Tribu 11</th>\n",
              "      <th>2024 - Q3</th>\n",
              "      <td>82.875000</td>\n",
              "    </tr>\n",
              "    <tr>\n",
              "      <th>Tribu 4</th>\n",
              "      <th>2024 - Q3</th>\n",
              "      <td>82.500000</td>\n",
              "    </tr>\n",
              "    <tr>\n",
              "      <th>Tribu 3</th>\n",
              "      <th>2024 - Q4</th>\n",
              "      <td>82.400000</td>\n",
              "    </tr>\n",
              "    <tr>\n",
              "      <th>Tribu 2</th>\n",
              "      <th>2024 - Q3</th>\n",
              "      <td>82.250000</td>\n",
              "    </tr>\n",
              "    <tr>\n",
              "      <th>Tribu 10</th>\n",
              "      <th>2024 - Q2</th>\n",
              "      <td>81.300000</td>\n",
              "    </tr>\n",
              "    <tr>\n",
              "      <th>Tribu 3</th>\n",
              "      <th>2024 - Q1</th>\n",
              "      <td>81.200000</td>\n",
              "    </tr>\n",
              "    <tr>\n",
              "      <th>Tribu 12</th>\n",
              "      <th>2024 - Q3</th>\n",
              "      <td>80.700000</td>\n",
              "    </tr>\n",
              "    <tr>\n",
              "      <th>Tribu 9</th>\n",
              "      <th>2024 - Q1</th>\n",
              "      <td>80.600000</td>\n",
              "    </tr>\n",
              "    <tr>\n",
              "      <th>Tribu 8</th>\n",
              "      <th>2024 - Q4</th>\n",
              "      <td>80.307692</td>\n",
              "    </tr>\n",
              "    <tr>\n",
              "      <th>Tribu 1</th>\n",
              "      <th>2024 - Q4</th>\n",
              "      <td>79.500000</td>\n",
              "    </tr>\n",
              "    <tr>\n",
              "      <th>Tribu 12</th>\n",
              "      <th>2024 - Q4</th>\n",
              "      <td>79.363636</td>\n",
              "    </tr>\n",
              "    <tr>\n",
              "      <th>Tribu 5</th>\n",
              "      <th>2024 - Q2</th>\n",
              "      <td>78.214286</td>\n",
              "    </tr>\n",
              "    <tr>\n",
              "      <th rowspan=\"2\" valign=\"top\">Tribu 10</th>\n",
              "      <th>2024 - Q1</th>\n",
              "      <td>77.818182</td>\n",
              "    </tr>\n",
              "    <tr>\n",
              "      <th>2024 - Q4</th>\n",
              "      <td>77.230769</td>\n",
              "    </tr>\n",
              "    <tr>\n",
              "      <th>Tribu 7</th>\n",
              "      <th>2024 - Q1</th>\n",
              "      <td>76.384615</td>\n",
              "    </tr>\n",
              "    <tr>\n",
              "      <th>Tribu 11</th>\n",
              "      <th>2024 - Q2</th>\n",
              "      <td>76.272727</td>\n",
              "    </tr>\n",
              "    <tr>\n",
              "      <th>Tribu 8</th>\n",
              "      <th>2024 - Q1</th>\n",
              "      <td>76.000000</td>\n",
              "    </tr>\n",
              "    <tr>\n",
              "      <th>Tribu 1</th>\n",
              "      <th>2024 - Q3</th>\n",
              "      <td>75.875000</td>\n",
              "    </tr>\n",
              "    <tr>\n",
              "      <th>Tribu 6</th>\n",
              "      <th>2024 - Q1</th>\n",
              "      <td>75.714286</td>\n",
              "    </tr>\n",
              "    <tr>\n",
              "      <th rowspan=\"2\" valign=\"top\">Tribu 5</th>\n",
              "      <th>2024 - Q4</th>\n",
              "      <td>75.555556</td>\n",
              "    </tr>\n",
              "    <tr>\n",
              "      <th>2024 - Q1</th>\n",
              "      <td>75.250000</td>\n",
              "    </tr>\n",
              "    <tr>\n",
              "      <th>Tribu 9</th>\n",
              "      <th>2024 - Q4</th>\n",
              "      <td>74.700000</td>\n",
              "    </tr>\n",
              "    <tr>\n",
              "      <th>Tribu 11</th>\n",
              "      <th>2024 - Q4</th>\n",
              "      <td>74.500000</td>\n",
              "    </tr>\n",
              "    <tr>\n",
              "      <th>Tribu 4</th>\n",
              "      <th>2024 - Q2</th>\n",
              "      <td>74.285714</td>\n",
              "    </tr>\n",
              "    <tr>\n",
              "      <th>Tribu 6</th>\n",
              "      <th>2024 - Q2</th>\n",
              "      <td>73.545455</td>\n",
              "    </tr>\n",
              "    <tr>\n",
              "      <th>Tribu 1</th>\n",
              "      <th>2024 - Q2</th>\n",
              "      <td>73.000000</td>\n",
              "    </tr>\n",
              "    <tr>\n",
              "      <th>Tribu 9</th>\n",
              "      <th>2024 - Q3</th>\n",
              "      <td>72.909091</td>\n",
              "    </tr>\n",
              "    <tr>\n",
              "      <th>Tribu 10</th>\n",
              "      <th>2024 - Q3</th>\n",
              "      <td>72.866667</td>\n",
              "    </tr>\n",
              "    <tr>\n",
              "      <th>Tribu 1</th>\n",
              "      <th>2024 - Q1</th>\n",
              "      <td>72.200000</td>\n",
              "    </tr>\n",
              "    <tr>\n",
              "      <th>Tribu 8</th>\n",
              "      <th>2024 - Q3</th>\n",
              "      <td>72.100000</td>\n",
              "    </tr>\n",
              "    <tr>\n",
              "      <th>Tribu 3</th>\n",
              "      <th>2024 - Q2</th>\n",
              "      <td>71.875000</td>\n",
              "    </tr>\n",
              "    <tr>\n",
              "      <th>Tribu 9</th>\n",
              "      <th>2024 - Q2</th>\n",
              "      <td>71.600000</td>\n",
              "    </tr>\n",
              "    <tr>\n",
              "      <th>Tribu 6</th>\n",
              "      <th>2024 - Q3</th>\n",
              "      <td>71.333333</td>\n",
              "    </tr>\n",
              "    <tr>\n",
              "      <th>Tribu 12</th>\n",
              "      <th>2024 - Q1</th>\n",
              "      <td>71.000000</td>\n",
              "    </tr>\n",
              "    <tr>\n",
              "      <th>Tribu 2</th>\n",
              "      <th>2024 - Q4</th>\n",
              "      <td>70.900000</td>\n",
              "    </tr>\n",
              "    <tr>\n",
              "      <th>Tribu 4</th>\n",
              "      <th>2024 - Q1</th>\n",
              "      <td>70.300000</td>\n",
              "    </tr>\n",
              "    <tr>\n",
              "      <th>Tribu 7</th>\n",
              "      <th>2024 - Q3</th>\n",
              "      <td>68.571429</td>\n",
              "    </tr>\n",
              "    <tr>\n",
              "      <th>Tribu 3</th>\n",
              "      <th>2024 - Q3</th>\n",
              "      <td>68.272727</td>\n",
              "    </tr>\n",
              "    <tr>\n",
              "      <th>Tribu 4</th>\n",
              "      <th>2024 - Q4</th>\n",
              "      <td>68.250000</td>\n",
              "    </tr>\n",
              "    <tr>\n",
              "      <th>Tribu 12</th>\n",
              "      <th>2024 - Q2</th>\n",
              "      <td>67.950000</td>\n",
              "    </tr>\n",
              "    <tr>\n",
              "      <th>Tribu 6</th>\n",
              "      <th>2024 - Q4</th>\n",
              "      <td>67.090909</td>\n",
              "    </tr>\n",
              "    <tr>\n",
              "      <th>Tribu 5</th>\n",
              "      <th>2024 - Q3</th>\n",
              "      <td>67.000000</td>\n",
              "    </tr>\n",
              "    <tr>\n",
              "      <th>Tribu 8</th>\n",
              "      <th>2024 - Q2</th>\n",
              "      <td>63.846154</td>\n",
              "    </tr>\n",
              "  </tbody>\n",
              "</table>\n",
              "</div><br><label><b>dtype:</b> float64</label>"
            ]
          },
          "metadata": {},
          "execution_count": 9
        }
      ]
    },
    {
      "cell_type": "code",
      "source": [
        "costo_promedio_unidadnegocio.plot(kind='bar',title='Costo por trimestre por unidad de negocio',xlabel='Tarifa por hora (S/)',ylabel='Unidad de negocio')"
      ],
      "metadata": {
        "colab": {
          "base_uri": "https://localhost:8080/",
          "height": 619
        },
        "id": "Ha2oTnycMB3B",
        "outputId": "f4755640-58ed-499b-b8a5-5fc013105906"
      },
      "execution_count": null,
      "outputs": [
        {
          "output_type": "execute_result",
          "data": {
            "text/plain": [
              "<Axes: title={'center': 'Costo por trimestre por unidad de negocio'}, xlabel='Tarifa por hora (S/)', ylabel='Unidad de negocio'>"
            ]
          },
          "metadata": {},
          "execution_count": 10
        },
        {
          "output_type": "display_data",
          "data": {
            "text/plain": [
              "<Figure size 640x480 with 1 Axes>"
            ],
            "image/png": "[encoded data removed]"
          },
          "metadata": {}
        }
      ]
    },
    {
      "cell_type": "markdown",
      "source": [
        "Grafico de distribucion de empleados, por tipo de contrato, senorityes y roles"
      ],
      "metadata": {
        "id": "mveVsoelNfjH"
      }
    },
    {
      "cell_type": "code",
      "source": [
        "#Tipo de contrato y senorities\n",
        "empleados_tipodecontrato = dataset.groupby(['Tipo de Contrato', 'Senority']).size().fillna(0).unstack()\n",
        "empleados_tipodecontrato"
      ],
      "metadata": {
        "colab": {
          "base_uri": "https://localhost:8080/",
          "height": 175
        },
        "id": "JXbfhOovNuJO",
        "outputId": "88cf6d98-7792-40d3-df35-d20575435e39"
      },
      "execution_count": null,
      "outputs": [
        {
          "output_type": "execute_result",
          "data": {
            "text/plain": [
              "Senority              Junior  Lead  Principal  Semi Senior  Senior\n",
              "Tipo de Contrato                                                  \n",
              "Orgánico                  42    43         33           32      32\n",
              "Proveedor permanente      36    39         28           29      27\n",
              "Proveedor temporal        33    33         39           24      31"
            ],
            "text/html": [
              "\n",
              "  <div id=\"df-00ce2386-dca5-42dc-af0c-ccd0795a377c\" class=\"colab-df-container\">\n",
              "    <div>\n",
              "<style scoped>\n",
              "    .dataframe tbody tr th:only-of-type {\n",
              "        vertical-align: middle;\n",
              "    }\n",
              "\n",
              "    .dataframe tbody tr th {\n",
              "        vertical-align: top;\n",
              "    }\n",
              "\n",
              "    .dataframe thead th {\n",
              "        text-align: right;\n",
              "    }\n",
              "</style>\n",
              "<table border=\"1\" class=\"dataframe\">\n",
              "  <thead>\n",
              "    <tr style=\"text-align: right;\">\n",
              "      <th>Senority</th>\n",
              "      <th>Junior</th>\n",
              "      <th>Lead</th>\n",
              "      <th>Principal</th>\n",
              "      <th>Semi Senior</th>\n",
              "      <th>Senior</th>\n",
              "    </tr>\n",
              "    <tr>\n",
              "      <th>Tipo de Contrato</th>\n",
              "      <th></th>\n",
              "      <th></th>\n",
              "      <th></th>\n",
              "      <th></th>\n",
              "      <th></th>\n",
              "    </tr>\n",
              "  </thead>\n",
              "  <tbody>\n",
              "    <tr>\n",
              "      <th>Orgánico</th>\n",
              "      <td>42</td>\n",
              "      <td>43</td>\n",
              "      <td>33</td>\n",
              "      <td>32</td>\n",
              "      <td>32</td>\n",
              "    </tr>\n",
              "    <tr>\n",
              "      <th>Proveedor permanente</th>\n",
              "      <td>36</td>\n",
              "      <td>39</td>\n",
              "      <td>28</td>\n",
              "      <td>29</td>\n",
              "      <td>27</td>\n",
              "    </tr>\n",
              "    <tr>\n",
              "      <th>Proveedor temporal</th>\n",
              "      <td>33</td>\n",
              "      <td>33</td>\n",
              "      <td>39</td>\n",
              "      <td>24</td>\n",
              "      <td>31</td>\n",
              "    </tr>\n",
              "  </tbody>\n",
              "</table>\n",
              "</div>\n",
              "    <div class=\"colab-df-buttons\">\n",
              "\n",
              "  <div class=\"colab-df-container\">\n",
              "    <button class=\"colab-df-convert\" onclick=\"convertToInteractive('df-00ce2386-dca5-42dc-af0c-ccd0795a377c')\"\n",
              "            title=\"Convert this dataframe to an interactive table.\"\n",
              "            style=\"display:none;\">\n",
              "\n",
              "  <svg xmlns=\"http://www.w3.org/2000/svg\" height=\"24px\" viewBox=\"0 -960 960 960\">\n",
              "    <path d=\"M120-120v-720h720v720H120Zm60-500h600v-160H180v160Zm220 220h160v-160H400v160Zm0 220h160v-160H400v160ZM180-400h160v-160H180v160Zm440 0h160v-160H620v160ZM180-180h160v-160H180v160Zm440 0h160v-160H620v160Z\"/>\n",
              "  </svg>\n",
              "    </button>\n",
              "\n",
              "  <style>\n",
              "    .colab-df-container {\n",
              "      display:flex;\n",
              "      gap: 12px;\n",
              "    }\n",
              "\n",
              "    .colab-df-convert {\n",
              "      background-color: #E8F0FE;\n",
              "      border: none;\n",
              "      border-radius: 50%;\n",
              "      cursor: pointer;\n",
              "      display: none;\n",
              "      fill: #1967D2;\n",
              "      height: 32px;\n",
              "      padding: 0 0 0 0;\n",
              "      width: 32px;\n",
              "    }\n",
              "\n",
              "    .colab-df-convert:hover {\n",
              "      background-color: #E2EBFA;\n",
              "      box-shadow: 0px 1px 2px rgba(60, 64, 67, 0.3), 0px 1px 3px 1px rgba(60, 64, 67, 0.15);\n",
              "      fill: #174EA6;\n",
              "    }\n",
              "\n",
              "    .colab-df-buttons div {\n",
              "      margin-bottom: 4px;\n",
              "    }\n",
              "\n",
              "    [theme=dark] .colab-df-convert {\n",
              "      background-color: #3B4455;\n",
              "      fill: #D2E3FC;\n",
              "    }\n",
              "\n",
              "    [theme=dark] .colab-df-convert:hover {\n",
              "      background-color: #434B5C;\n",
              "      box-shadow: 0px 1px 3px 1px rgba(0, 0, 0, 0.15);\n",
              "      filter: drop-shadow(0px 1px 2px rgba(0, 0, 0, 0.3));\n",
              "      fill: #FFFFFF;\n",
              "    }\n",
              "  </style>\n",
              "\n",
              "    <script>\n",
              "      const buttonEl =\n",
              "        document.querySelector('#df-00ce2386-dca5-42dc-af0c-ccd0795a377c button.colab-df-convert');\n",
              "      buttonEl.style.display =\n",
              "        google.colab.kernel.accessAllowed ? 'block' : 'none';\n",
              "\n",
              "      async function convertToInteractive(key) {\n",
              "        const element = document.querySelector('#df-00ce2386-dca5-42dc-af0c-ccd0795a377c');\n",
              "        const dataTable =\n",
              "          await google.colab.kernel.invokeFunction('convertToInteractive',\n",
              "                                                    [key], {});\n",
              "        if (!dataTable) return;\n",
              "\n",
              "        const docLinkHtml = 'Like what you see? Visit the ' +\n",
              "          '<a target=\"_blank\" href=https://colab.research.google.com/notebooks/data_table.ipynb>data table notebook</a>'\n",
              "          + ' to learn more about interactive tables.';\n",
              "        element.innerHTML = '';\n",
              "        dataTable['output_type'] = 'display_data';\n",
              "        await google.colab.output.renderOutput(dataTable, element);\n",
              "        const docLink = document.createElement('div');\n",
              "        docLink.innerHTML = docLinkHtml;\n",
              "        element.appendChild(docLink);\n",
              "      }\n",
              "    </script>\n",
              "  </div>\n",
              "\n",
              "\n",
              "    <div id=\"df-7caba0b6-033c-4f95-89fa-1150e2d031e8\">\n",
              "      <button class=\"colab-df-quickchart\" onclick=\"quickchart('df-7caba0b6-033c-4f95-89fa-1150e2d031e8')\"\n",
              "                title=\"Suggest charts\"\n",
              "                style=\"display:none;\">\n",
              "\n",
              "<svg xmlns=\"http://www.w3.org/2000/svg\" height=\"24px\"viewBox=\"0 0 24 24\"\n",
              "     width=\"24px\">\n",
              "    <g>\n",
              "        <path d=\"M19 3H5c-1.1 0-2 .9-2 2v14c0 1.1.9 2 2 2h14c1.1 0 2-.9 2-2V5c0-1.1-.9-2-2-2zM9 17H7v-7h2v7zm4 0h-2V7h2v10zm4 0h-2v-4h2v4z\"/>\n",
              "    </g>\n",
              "</svg>\n",
              "      </button>\n",
              "\n",
              "<style>\n",
              "  .colab-df-quickchart {\n",
              "      --bg-color: #E8F0FE;\n",
              "      --fill-color: #1967D2;\n",
              "      --hover-bg-color: #E2EBFA;\n",
              "      --hover-fill-color: #174EA6;\n",
              "      --disabled-fill-color: #AAA;\n",
              "      --disabled-bg-color: #DDD;\n",
              "  }\n",
              "\n",
              "  [theme=dark] .colab-df-quickchart {\n",
              "      --bg-color: #3B4455;\n",
              "      --fill-color: #D2E3FC;\n",
              "      --hover-bg-color: #434B5C;\n",
              "      --hover-fill-color: #FFFFFF;\n",
              "      --disabled-bg-color: #3B4455;\n",
              "      --disabled-fill-color: #666;\n",
              "  }\n",
              "\n",
              "  .colab-df-quickchart {\n",
              "    background-color: var(--bg-color);\n",
              "    border: none;\n",
              "    border-radius: 50%;\n",
              "    cursor: pointer;\n",
              "    display: none;\n",
              "    fill: var(--fill-color);\n",
              "    height: 32px;\n",
              "    padding: 0;\n",
              "    width: 32px;\n",
              "  }\n",
              "\n",
              "  .colab-df-quickchart:hover {\n",
              "    background-color: var(--hover-bg-color);\n",
              "    box-shadow: 0 1px 2px rgba(60, 64, 67, 0.3), 0 1px 3px 1px rgba(60, 64, 67, 0.15);\n",
              "    fill: var(--button-hover-fill-color);\n",
              "  }\n",
              "\n",
              "  .colab-df-quickchart-complete:disabled,\n",
              "  .colab-df-quickchart-complete:disabled:hover {\n",
              "    background-color: var(--disabled-bg-color);\n",
              "    fill: var(--disabled-fill-color);\n",
              "    box-shadow: none;\n",
              "  }\n",
              "\n",
              "  .colab-df-spinner {\n",
              "    border: 2px solid var(--fill-color);\n",
              "    border-color: transparent;\n",
              "    border-bottom-color: var(--fill-color);\n",
              "    animation:\n",
              "      spin 1s steps(1) infinite;\n",
              "  }\n",
              "\n",
              "  @keyframes spin {\n",
              "    0% {\n",
              "      border-color: transparent;\n",
              "      border-bottom-color: var(--fill-color);\n",
              "      border-left-color: var(--fill-color);\n",
              "    }\n",
              "    20% {\n",
              "      border-color: transparent;\n",
              "      border-left-color: var(--fill-color);\n",
              "      border-top-color: var(--fill-color);\n",
              "    }\n",
              "    30% {\n",
              "      border-color: transparent;\n",
              "      border-left-color: var(--fill-color);\n",
              "      border-top-color: var(--fill-color);\n",
              "      border-right-color: var(--fill-color);\n",
              "    }\n",
              "    40% {\n",
              "      border-color: transparent;\n",
              "      border-right-color: var(--fill-color);\n",
              "      border-top-color: var(--fill-color);\n",
              "    }\n",
              "    60% {\n",
              "      border-color: transparent;\n",
              "      border-right-color: var(--fill-color);\n",
              "    }\n",
              "    80% {\n",
              "      border-color: transparent;\n",
              "      border-right-color: var(--fill-color);\n",
              "      border-bottom-color: var(--fill-color);\n",
              "    }\n",
              "    90% {\n",
              "      border-color: transparent;\n",
              "      border-bottom-color: var(--fill-color);\n",
              "    }\n",
              "  }\n",
              "</style>\n",
              "\n",
              "      <script>\n",
              "        async function quickchart(key) {\n",
              "          const quickchartButtonEl =\n",
              "            document.querySelector('#' + key + ' button');\n",
              "          quickchartButtonEl.disabled = true;  // To prevent multiple clicks.\n",
              "          quickchartButtonEl.classList.add('colab-df-spinner');\n",
              "          try {\n",
              "            const charts = await google.colab.kernel.invokeFunction(\n",
              "                'suggestCharts', [key], {});\n",
              "          } catch (error) {\n",
              "            console.error('Error during call to suggestCharts:', error);\n",
              "          }\n",
              "          quickchartButtonEl.classList.remove('colab-df-spinner');\n",
              "          quickchartButtonEl.classList.add('colab-df-quickchart-complete');\n",
              "        }\n",
              "        (() => {\n",
              "          let quickchartButtonEl =\n",
              "            document.querySelector('#df-7caba0b6-033c-4f95-89fa-1150e2d031e8 button');\n",
              "          quickchartButtonEl.style.display =\n",
              "            google.colab.kernel.accessAllowed ? 'block' : 'none';\n",
              "        })();\n",
              "      </script>\n",
              "    </div>\n",
              "\n",
              "  <div id=\"id_e808fe82-3c34-467e-ba96-dd3fcec70c45\">\n",
              "    <style>\n",
              "      .colab-df-generate {\n",
              "        background-color: #E8F0FE;\n",
              "        border: none;\n",
              "        border-radius: 50%;\n",
              "        cursor: pointer;\n",
              "        display: none;\n",
              "        fill: #1967D2;\n",
              "        height: 32px;\n",
              "        padding: 0 0 0 0;\n",
              "        width: 32px;\n",
              "      }\n",
              "\n",
              "      .colab-df-generate:hover {\n",
              "        background-color: #E2EBFA;\n",
              "        box-shadow: 0px 1px 2px rgba(60, 64, 67, 0.3), 0px 1px 3px 1px rgba(60, 64, 67, 0.15);\n",
              "        fill: #174EA6;\n",
              "      }\n",
              "\n",
              "      [theme=dark] .colab-df-generate {\n",
              "        background-color: #3B4455;\n",
              "        fill: #D2E3FC;\n",
              "      }\n",
              "\n",
              "      [theme=dark] .colab-df-generate:hover {\n",
              "        background-color: #434B5C;\n",
              "        box-shadow: 0px 1px 3px 1px rgba(0, 0, 0, 0.15);\n",
              "        filter: drop-shadow(0px 1px 2px rgba(0, 0, 0, 0.3));\n",
              "        fill: #FFFFFF;\n",
              "      }\n",
              "    </style>\n",
              "    <button class=\"colab-df-generate\" onclick=\"generateWithVariable('empleados_tipodecontrato')\"\n",
              "            title=\"Generate code using this dataframe.\"\n",
              "            style=\"display:none;\">\n",
              "\n",
              "  <svg xmlns=\"http://www.w3.org/2000/svg\" height=\"24px\"viewBox=\"0 0 24 24\"\n",
              "       width=\"24px\">\n",
              "    <path d=\"M7,19H8.4L18.45,9,17,7.55,7,17.6ZM5,21V16.75L18.45,3.32a2,2,0,0,1,2.83,0l1.4,1.43a1.91,1.91,0,0,1,.58,1.4,1.91,1.91,0,0,1-.58,1.4L9.25,21ZM18.45,9,17,7.55Zm-12,3A5.31,5.31,0,0,0,4.9,8.1,5.31,5.31,0,0,0,1,6.5,5.31,5.31,0,0,0,4.9,4.9,5.31,5.31,0,0,0,6.5,1,5.31,5.31,0,0,0,8.1,4.9,5.31,5.31,0,0,0,12,6.5,5.46,5.46,0,0,0,6.5,12Z\"/>\n",
              "  </svg>\n",
              "    </button>\n",
              "    <script>\n",
              "      (() => {\n",
              "      const buttonEl =\n",
              "        document.querySelector('#id_e808fe82-3c34-467e-ba96-dd3fcec70c45 button.colab-df-generate');\n",
              "      buttonEl.style.display =\n",
              "        google.colab.kernel.accessAllowed ? 'block' : 'none';\n",
              "\n",
              "      buttonEl.onclick = () => {\n",
              "        google.colab.notebook.generateWithVariable('empleados_tipodecontrato');\n",
              "      }\n",
              "      })();\n",
              "    </script>\n",
              "  </div>\n",
              "\n",
              "    </div>\n",
              "  </div>\n"
            ],
            "application/vnd.google.colaboratory.intrinsic+json": {
              "type": "dataframe",
              "variable_name": "empleados_tipodecontrato",
              "summary": "{\n  \"name\": \"empleados_tipodecontrato\",\n  \"rows\": 3,\n  \"fields\": [\n    {\n      \"column\": \"Tipo de Contrato\",\n      \"properties\": {\n        \"dtype\": \"string\",\n        \"num_unique_values\": 3,\n        \"samples\": [\n          \"Org\\u00e1nico\",\n          \"Proveedor permanente\",\n          \"Proveedor temporal\"\n        ],\n        \"semantic_type\": \"\",\n        \"description\": \"\"\n      }\n    },\n    {\n      \"column\": \"Junior\",\n      \"properties\": {\n        \"dtype\": \"number\",\n        \"std\": 4,\n        \"min\": 33,\n        \"max\": 42,\n        \"num_unique_values\": 3,\n        \"samples\": [\n          42,\n          36,\n          33\n        ],\n        \"semantic_type\": \"\",\n        \"description\": \"\"\n      }\n    },\n    {\n      \"column\": \"Lead\",\n      \"properties\": {\n        \"dtype\": \"number\",\n        \"std\": 5,\n        \"min\": 33,\n        \"max\": 43,\n        \"num_unique_values\": 3,\n        \"samples\": [\n          43,\n          39,\n          33\n        ],\n        \"semantic_type\": \"\",\n        \"description\": \"\"\n      }\n    },\n    {\n      \"column\": \"Principal\",\n      \"properties\": {\n        \"dtype\": \"number\",\n        \"std\": 5,\n        \"min\": 28,\n        \"max\": 39,\n        \"num_unique_values\": 3,\n        \"samples\": [\n          33,\n          28,\n          39\n        ],\n        \"semantic_type\": \"\",\n        \"description\": \"\"\n      }\n    },\n    {\n      \"column\": \"Semi Senior\",\n      \"properties\": {\n        \"dtype\": \"number\",\n        \"std\": 4,\n        \"min\": 24,\n        \"max\": 32,\n        \"num_unique_values\": 3,\n        \"samples\": [\n          32,\n          29,\n          24\n        ],\n        \"semantic_type\": \"\",\n        \"description\": \"\"\n      }\n    },\n    {\n      \"column\": \"Senior\",\n      \"properties\": {\n        \"dtype\": \"number\",\n        \"std\": 2,\n        \"min\": 27,\n        \"max\": 32,\n        \"num_unique_values\": 3,\n        \"samples\": [\n          32,\n          27,\n          31\n        ],\n        \"semantic_type\": \"\",\n        \"description\": \"\"\n      }\n    }\n  ]\n}"
            }
          },
          "metadata": {},
          "execution_count": 13
        }
      ]
    },
    {
      "cell_type": "code",
      "source": [
        "empleados_tipodecontrato.plot(kind='bar', stacked=True)"
      ],
      "metadata": {
        "colab": {
          "base_uri": "https://localhost:8080/",
          "height": 612
        },
        "id": "MQQTulTPPYGr",
        "outputId": "bfef183e-474e-4b7e-d8a9-f49cb1470979"
      },
      "execution_count": null,
      "outputs": [
        {
          "output_type": "execute_result",
          "data": {
            "text/plain": [
              "<Axes: xlabel='Tipo de Contrato'>"
            ]
          },
          "metadata": {},
          "execution_count": 16
        },
        {
          "output_type": "display_data",
          "data": {
            "text/plain": [
              "<Figure size 640x480 with 1 Axes>"
            ],
            "image/png": "[encoded data removed]"
          },
          "metadata": {}
        }
      ]
    }
  ]
}