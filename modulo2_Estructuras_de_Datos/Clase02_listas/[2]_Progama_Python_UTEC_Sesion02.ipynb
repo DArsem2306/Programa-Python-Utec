{
  "nbformat": 4,
  "nbformat_minor": 0,
  "metadata": {
    "colab": {
      "provenance": [],
      "include_colab_link": true
    },
    "kernelspec": {
      "name": "python3",
      "display_name": "Python 3"
    },
    "language_info": {
      "name": "python"
    }
  },
  "cells": [
    {
      "cell_type": "markdown",
      "metadata": {
        "id": "view-in-github",
        "colab_type": "text"
      },
      "source": [
        "<a href=\"https://colab.research.google.com/github/DArsem2306/Programa-Python-Utec/blob/main/modulo2_Estructuras_de_Datos/Clase02_listas/%5B2%5D_Progama_Python_UTEC_Sesion02.ipynb\" target=\"_parent\"><img src=\"https://colab.research.google.com/assets/colab-badge.svg\" alt=\"Open In Colab\"/></a>"
      ]
    },
    {
      "cell_type": "markdown",
      "source": [
        "## [1] Recorrer una lista en Python"
      ],
      "metadata": {
        "id": "MD4emPFaL0p6"
      }
    },
    {
      "cell_type": "code",
      "execution_count": null,
      "metadata": {
        "id": "D8mSGH6KLL_l"
      },
      "outputs": [],
      "source": [
        "librerias = ['numpy','pandas','scipy','matplotlib','scikit learn']"
      ]
    },
    {
      "cell_type": "code",
      "source": [
        "print(f\"Los elementos de la lista librerias son \\n{librerias}\")"
      ],
      "metadata": {
        "colab": {
          "base_uri": "https://localhost:8080/"
        },
        "id": "oHnqo8bEL3JP",
        "outputId": "2f2c760b-1ae1-4f6f-ef09-9e38f912c105"
      },
      "execution_count": null,
      "outputs": [
        {
          "output_type": "stream",
          "name": "stdout",
          "text": [
            "Los elementos de la lista librerias son \n",
            "['numpy', 'pandas', 'scipy', 'matplotlib', 'scikit learn']\n"
          ]
        }
      ]
    },
    {
      "cell_type": "code",
      "source": [
        "type(librerias)"
      ],
      "metadata": {
        "colab": {
          "base_uri": "https://localhost:8080/"
        },
        "id": "Psqhco3ashR0",
        "outputId": "3c56c285-79a3-4d24-c287-eef5631587c1"
      },
      "execution_count": null,
      "outputs": [
        {
          "output_type": "execute_result",
          "data": {
            "text/plain": [
              "list"
            ]
          },
          "metadata": {},
          "execution_count": 50
        }
      ]
    },
    {
      "cell_type": "code",
      "source": [
        "for libreria in librerias:\n",
        "  print(libreria)"
      ],
      "metadata": {
        "colab": {
          "base_uri": "https://localhost:8080/"
        },
        "id": "2M0sHbWgMHN7",
        "outputId": "3731560d-1cd1-46c7-94e4-f6c82c98f5a3"
      },
      "execution_count": null,
      "outputs": [
        {
          "output_type": "stream",
          "name": "stdout",
          "text": [
            "numpy\n",
            "pandas\n",
            "scipy\n",
            "matplotlib\n",
            "scikit learn\n"
          ]
        }
      ]
    },
    {
      "cell_type": "markdown",
      "source": [
        "### Actividad N016"
      ],
      "metadata": {
        "id": "R8ZIY17-MQqA"
      }
    },
    {
      "cell_type": "code",
      "source": [
        "## SOLUCIÓN ACTIVIDAD N016\n",
        "\n",
        "products = ['Rapiditas', 'Red Bull', 'Queso', 'Vino', 'Frutas', 'pan']\n",
        "\n",
        "print(\"Mi lista de compras en el supermercado es: \")\n",
        "for product in products:\n",
        "  print('-',product)"
      ],
      "metadata": {
        "id": "8M9HBSKOMLgH",
        "outputId": "010f8a98-c5f0-44f3-fdb0-e6c52bcfa486",
        "colab": {
          "base_uri": "https://localhost:8080/"
        }
      },
      "execution_count": 1,
      "outputs": [
        {
          "output_type": "stream",
          "name": "stdout",
          "text": [
            "Mi lista de compras en el supermercado es: \n",
            "- Rapiditas\n",
            "- Red Bull\n",
            "- Queso\n",
            "- Vino\n",
            "- Frutas\n",
            "- pan\n"
          ]
        }
      ]
    },
    {
      "cell_type": "markdown",
      "source": [
        "## [2] Realizar una acción después del bucle"
      ],
      "metadata": {
        "id": "mI8P28IGMe5e"
      }
    },
    {
      "cell_type": "code",
      "source": [
        "productos = ['aceite','arroz','agua','carne','pollo']"
      ],
      "metadata": {
        "id": "Ubh6rpUnMaYT"
      },
      "execution_count": 4,
      "outputs": []
    },
    {
      "cell_type": "code",
      "source": [
        "print(\"Mi lista habitual en el supermercado es\")\n",
        "for product in productos:\n",
        "  print('-',product)\n",
        "print(\"Mi presupuesto principalmente se basa en esta lista\")"
      ],
      "metadata": {
        "id": "3jqWsTTVMvj4",
        "outputId": "d58aabbe-ff5a-4f1b-9b3e-0344e9fb034d",
        "colab": {
          "base_uri": "https://localhost:8080/"
        }
      },
      "execution_count": 5,
      "outputs": [
        {
          "output_type": "stream",
          "name": "stdout",
          "text": [
            "Mi lista habitual en el supermercado es\n",
            "- aceite\n",
            "- arroz\n",
            "- agua\n",
            "- carne\n",
            "- pollo\n",
            "Mi presupuesto principalmente se basa en esta lista\n"
          ]
        }
      ]
    },
    {
      "cell_type": "markdown",
      "source": [
        "### Actividad N017"
      ],
      "metadata": {
        "id": "aW6MbEPqNGZe"
      }
    },
    {
      "cell_type": "code",
      "source": [
        "## SOLUCIÓN DE ACTIVIDAD N017\n",
        "\n",
        "librerias = ['numpy', 'pandas', 'spicy', 'matplotlib', 'scikit']\n",
        "print(\"En Python las librerías más populares son\")\n",
        "for libreria in librerias:\n",
        "  print(\"-\",libreria)"
      ],
      "metadata": {
        "id": "2mWHMqd9M_5c",
        "outputId": "9cb1c012-3cba-406d-ec08-01944272fb70",
        "colab": {
          "base_uri": "https://localhost:8080/"
        }
      },
      "execution_count": 10,
      "outputs": [
        {
          "output_type": "stream",
          "name": "stdout",
          "text": [
            "En Python las librerías más populares son\n",
            "- numpy\n",
            "- pandas\n",
            "- spicy\n",
            "- matplotlib\n",
            "- scikit\n"
          ]
        }
      ]
    },
    {
      "cell_type": "markdown",
      "source": [
        "## [3] Problemas con identación y dos puntos"
      ],
      "metadata": {
        "id": "IZVy2ddcNULO"
      }
    },
    {
      "cell_type": "markdown",
      "source": [
        "### Olvidamos la identación"
      ],
      "metadata": {
        "id": "A_88Du1_NpC5"
      }
    },
    {
      "cell_type": "code",
      "source": [
        "print(\"En Python las librerías más populares son\")\n",
        "for libreria in librerias:\n",
        "print(\"-\",libreria)"
      ],
      "metadata": {
        "id": "tbJzYa-7NONP"
      },
      "execution_count": null,
      "outputs": []
    },
    {
      "cell_type": "markdown",
      "source": [
        "### Usamos la identación de manera innecesaria"
      ],
      "metadata": {
        "id": "OPt53QvUNtIZ"
      }
    },
    {
      "cell_type": "code",
      "source": [
        "print(\"En Python las librerías más populares son\")\n",
        "for libreria in librerias:\n",
        "  print(\"-\",libreria)\n",
        "  print(\"Tengo experiencia profesional trabajando con todas ellas\")"
      ],
      "metadata": {
        "id": "OUHG8ch-NhzH",
        "outputId": "0f065e31-bbbb-481a-837a-95ead90d5d0e",
        "colab": {
          "base_uri": "https://localhost:8080/"
        }
      },
      "execution_count": 12,
      "outputs": [
        {
          "output_type": "stream",
          "name": "stdout",
          "text": [
            "En Python las librerías más populares son\n",
            "- numpy\n",
            "Tengo experiencia profesional trabajando con todas ellas\n",
            "- pandas\n",
            "Tengo experiencia profesional trabajando con todas ellas\n",
            "- spicy\n",
            "Tengo experiencia profesional trabajando con todas ellas\n",
            "- matplotlib\n",
            "Tengo experiencia profesional trabajando con todas ellas\n",
            "- scikit\n",
            "Tengo experiencia profesional trabajando con todas ellas\n"
          ]
        }
      ]
    },
    {
      "cell_type": "markdown",
      "source": [
        "### Olvidamos los dos puntos"
      ],
      "metadata": {
        "id": "kE584601OE7l"
      }
    },
    {
      "cell_type": "code",
      "source": [
        "print(\"En Python las librerías más populares son\")\n",
        "for libreria in librerias\n",
        "  print(\"-\",libreria)\n",
        "print(\"Tengo experiencia profesional trabajando con todas ellas\")"
      ],
      "metadata": {
        "id": "u5lNRDnJN5wm",
        "outputId": "dc804628-996a-4371-b3f0-4023425ea956",
        "colab": {
          "base_uri": "https://localhost:8080/",
          "height": 108
        }
      },
      "execution_count": 13,
      "outputs": [
        {
          "output_type": "error",
          "ename": "SyntaxError",
          "evalue": "expected ':' (<ipython-input-13-70d9aa6ab298>, line 2)",
          "traceback": [
            "\u001b[0;36m  File \u001b[0;32m\"<ipython-input-13-70d9aa6ab298>\"\u001b[0;36m, line \u001b[0;32m2\u001b[0m\n\u001b[0;31m    for libreria in librerias\u001b[0m\n\u001b[0m                             ^\u001b[0m\n\u001b[0;31mSyntaxError\u001b[0m\u001b[0;31m:\u001b[0m expected ':'\n"
          ]
        }
      ]
    },
    {
      "cell_type": "markdown",
      "source": [
        "### Actividad N018"
      ],
      "metadata": {
        "id": "zn72L7ycOStz"
      }
    },
    {
      "cell_type": "code",
      "source": [
        "## SOLUCIÓN ACTIVIDAD N018\n",
        "paises = ['Francia', 'Italia','Dubai', 'Tailandia', 'Islandia']\n",
        "\n",
        "print(\"los paises que me gustaria conocer son:\")\n",
        "for pais in paises:\n",
        "  print(\"-\",pais)\n",
        "print('Estos paises se caracterizan porque los quiero visitar. :)')"
      ],
      "metadata": {
        "id": "7Onf7aj0OUWW",
        "outputId": "88049b90-9e29-4c1d-c874-c3f847b10ebd",
        "colab": {
          "base_uri": "https://localhost:8080/"
        }
      },
      "execution_count": 15,
      "outputs": [
        {
          "output_type": "stream",
          "name": "stdout",
          "text": [
            "los paises que me gustaria conocer son:\n",
            "- Francia\n",
            "- Italia\n",
            "- Dubai\n",
            "- Tailandia\n",
            "- Islandia\n",
            "Estos paises se caracterizan porque los quiero visitar. :)\n"
          ]
        }
      ]
    },
    {
      "cell_type": "markdown",
      "source": [
        "## [2] Función RANGE"
      ],
      "metadata": {
        "id": "p0MaGjRGOZgU"
      }
    },
    {
      "cell_type": "code",
      "source": [
        "range(1,5)"
      ],
      "metadata": {
        "id": "Q8VFXc-AOXm5"
      },
      "execution_count": null,
      "outputs": []
    },
    {
      "cell_type": "code",
      "source": [
        "for valor in range(1,5):\n",
        "  print(valor)"
      ],
      "metadata": {
        "id": "W1KbWORTOgo9"
      },
      "execution_count": null,
      "outputs": []
    },
    {
      "cell_type": "markdown",
      "source": [
        "## [3] Crear una lista usando la función RANGE"
      ],
      "metadata": {
        "id": "qjKgyikIOqWQ"
      }
    },
    {
      "cell_type": "code",
      "source": [
        "numeros = list(range(1,11))"
      ],
      "metadata": {
        "id": "BJ9nwe27Oj8t"
      },
      "execution_count": 18,
      "outputs": []
    },
    {
      "cell_type": "code",
      "source": [
        "print(f\"La lista numeros contiene los siguientes elementos \\n{numeros}\")"
      ],
      "metadata": {
        "id": "NoBvB3ddO9WL",
        "outputId": "a24c22ce-77e8-400f-9947-7f076108c626",
        "colab": {
          "base_uri": "https://localhost:8080/"
        }
      },
      "execution_count": 19,
      "outputs": [
        {
          "output_type": "stream",
          "name": "stdout",
          "text": [
            "La lista numeros contiene los siguientes elementos \n",
            "[1, 2, 3, 4, 5, 6, 7, 8, 9, 10]\n"
          ]
        }
      ]
    },
    {
      "cell_type": "code",
      "source": [
        "type(numeros)"
      ],
      "metadata": {
        "id": "NMfmCSRWPDFA",
        "outputId": "26fbbf43-c376-44dd-f78f-1683fb52ef40",
        "colab": {
          "base_uri": "https://localhost:8080/"
        }
      },
      "execution_count": 20,
      "outputs": [
        {
          "output_type": "execute_result",
          "data": {
            "text/plain": [
              "list"
            ]
          },
          "metadata": {},
          "execution_count": 20
        }
      ]
    },
    {
      "cell_type": "markdown",
      "source": [
        "### Actividad N019"
      ],
      "metadata": {
        "id": "4CdtcPKoPIQv"
      }
    },
    {
      "cell_type": "code",
      "source": [
        "## SOLUCIÓN ACTIVIDAD N019\n",
        "\n",
        "correlativos = list(range(10,21))\n",
        "print(f\"La lista numeros contiene los siguientes elementos \\n{numeros}\")\n",
        "#Mostrar todos los elementos de la lista con un bucle\n",
        "print(\"Los correlativos son (Vamos a acceder a los elementos a traves de un bucle): \")\n",
        "for valor in correlativos:\n",
        "  print(valor)"
      ],
      "metadata": {
        "id": "3diMOYkBPHGp",
        "outputId": "90fc07c2-d2fa-485f-8ef3-2b954c6293e0",
        "colab": {
          "base_uri": "https://localhost:8080/"
        }
      },
      "execution_count": 28,
      "outputs": [
        {
          "output_type": "stream",
          "name": "stdout",
          "text": [
            "La lista numeros contiene los siguientes elementos \n",
            "[10, 11, 12, 13, 14, 15, 16, 17, 18, 19, 20]\n",
            "Los correlativos son (Vamos a acceder a los elementos a traves de un bucle): \n",
            "10\n",
            "11\n",
            "12\n",
            "13\n",
            "14\n",
            "15\n",
            "16\n",
            "17\n",
            "18\n",
            "19\n",
            "20\n"
          ]
        }
      ]
    },
    {
      "cell_type": "code",
      "source": [
        "pares = list(range(2,22,2))"
      ],
      "metadata": {
        "id": "ndqZ8ReMPPYA"
      },
      "execution_count": 29,
      "outputs": []
    },
    {
      "cell_type": "code",
      "source": [
        "print(f\"La lista pares contiene los elementos \\n{pares}\")"
      ],
      "metadata": {
        "id": "t0jzzsXfPY8b",
        "outputId": "aedbcb99-6b89-4248-968b-9d346f948e9a",
        "colab": {
          "base_uri": "https://localhost:8080/"
        }
      },
      "execution_count": 30,
      "outputs": [
        {
          "output_type": "stream",
          "name": "stdout",
          "text": [
            "La lista pares contiene los elementos \n",
            "[2, 4, 6, 8, 10, 12, 14, 16, 18, 20]\n"
          ]
        }
      ]
    },
    {
      "cell_type": "code",
      "source": [
        "type(pares)"
      ],
      "metadata": {
        "id": "McsS_5fWPcq2",
        "outputId": "73bc3c3b-1366-4740-e22d-31b261831588",
        "colab": {
          "base_uri": "https://localhost:8080/"
        }
      },
      "execution_count": 31,
      "outputs": [
        {
          "output_type": "execute_result",
          "data": {
            "text/plain": [
              "list"
            ]
          },
          "metadata": {},
          "execution_count": 31
        }
      ]
    },
    {
      "cell_type": "markdown",
      "source": [
        "## [4] Crear una lista en función de otra lista"
      ],
      "metadata": {
        "id": "kjTuXQfbPiyW"
      }
    },
    {
      "cell_type": "code",
      "source": [
        "cuadrados = []\n",
        "for par in pares:\n",
        "  cuadrado = par**2\n",
        "  cuadrados.append(cuadrado)\n",
        "print(f\"La lista pares contiene los elementos \\n{pares}\")\n",
        "print(f\"\\nLa lista cuadrados contiene los elementos \\n{cuadrados}\")"
      ],
      "metadata": {
        "id": "zYuLtoPCPfRa",
        "outputId": "33e85c53-da2d-4fb3-ab70-7fa783e39ef2",
        "colab": {
          "base_uri": "https://localhost:8080/"
        }
      },
      "execution_count": 32,
      "outputs": [
        {
          "output_type": "stream",
          "name": "stdout",
          "text": [
            "La lista pares contiene los elementos \n",
            "[2, 4, 6, 8, 10, 12, 14, 16, 18, 20]\n",
            "\n",
            "La lista cuadrados contiene los elementos \n",
            "[4, 16, 36, 64, 100, 144, 196, 256, 324, 400]\n"
          ]
        }
      ]
    },
    {
      "cell_type": "markdown",
      "source": [
        "## [5] Calcular estadísticas a partir de una lista"
      ],
      "metadata": {
        "id": "L6H83fgtQJva"
      }
    },
    {
      "cell_type": "code",
      "source": [
        "print(f\"El valor mínimo de la lista cuadrados es {min(cuadrados)}\")"
      ],
      "metadata": {
        "id": "FjefhDc3P1Lz"
      },
      "execution_count": null,
      "outputs": []
    },
    {
      "cell_type": "code",
      "source": [
        "print(f\"El valor máximo de la lista cuadrados es {max(cuadrados)}\")"
      ],
      "metadata": {
        "id": "h2Q8zEjCQUF4"
      },
      "execution_count": null,
      "outputs": []
    },
    {
      "cell_type": "code",
      "source": [
        "print(f\"La suma de los valores de la lista cuadrados es {sum(cuadrados)}\")"
      ],
      "metadata": {
        "id": "RQmQj9xuQW9m"
      },
      "execution_count": null,
      "outputs": []
    },
    {
      "cell_type": "code",
      "source": [
        "print(f\"El promedio de los valores de la lista cuadrados es {sum(cuadrados)/len(cuadrados)}\")"
      ],
      "metadata": {
        "id": "Nv2IMNtMQbaR"
      },
      "execution_count": null,
      "outputs": []
    },
    {
      "cell_type": "markdown",
      "source": [
        "## [6] Comprensión de listas"
      ],
      "metadata": {
        "id": "M5GhhcB2QqaS"
      }
    },
    {
      "cell_type": "code",
      "source": [
        "cuadrados = [par**2 for par in pares]"
      ],
      "metadata": {
        "id": "yILWEw6hQjO3"
      },
      "execution_count": null,
      "outputs": []
    },
    {
      "cell_type": "code",
      "source": [
        "print(f\"La lista pares contiene los elementos \\n{pares}\")\n",
        "print(f\"\\nLa lista cuadrados contiene los elementos \\n{cuadrados}\")"
      ],
      "metadata": {
        "id": "4dWHFsmTQ01v"
      },
      "execution_count": null,
      "outputs": []
    },
    {
      "cell_type": "markdown",
      "source": [
        "### Actividad N020"
      ],
      "metadata": {
        "id": "c0IKdY8qRFtw"
      }
    },
    {
      "cell_type": "code",
      "source": [
        "## SOLUCIÓN ACTIVIDAD N020\n"
      ],
      "metadata": {
        "id": "zY7Z2YCUQ9p9"
      },
      "execution_count": null,
      "outputs": []
    },
    {
      "cell_type": "markdown",
      "source": [
        "## [7] Acceder a más de un elemento de la lista"
      ],
      "metadata": {
        "id": "NRl9ZEmZRMyj"
      }
    },
    {
      "cell_type": "code",
      "source": [
        "print(f\"Los elementos de la lista librerias son \\n{librerias}\")"
      ],
      "metadata": {
        "id": "ooOaZzSlRJx4"
      },
      "execution_count": null,
      "outputs": []
    },
    {
      "cell_type": "code",
      "source": [
        "librerias[1:3]"
      ],
      "metadata": {
        "id": "C4uMCrKmRX07"
      },
      "execution_count": null,
      "outputs": []
    },
    {
      "cell_type": "code",
      "source": [
        "librerias[0:3]"
      ],
      "metadata": {
        "id": "6LpdSmUVRefl"
      },
      "execution_count": null,
      "outputs": []
    },
    {
      "cell_type": "code",
      "source": [
        "librerias[:3]"
      ],
      "metadata": {
        "id": "uSJZAu2uRh1H"
      },
      "execution_count": null,
      "outputs": []
    },
    {
      "cell_type": "code",
      "source": [
        "librerias[3:5]"
      ],
      "metadata": {
        "id": "NXjQUYiURjR1"
      },
      "execution_count": null,
      "outputs": []
    },
    {
      "cell_type": "code",
      "source": [
        "librerias[3:]"
      ],
      "metadata": {
        "id": "OOzBP1nbRnPW"
      },
      "execution_count": null,
      "outputs": []
    },
    {
      "cell_type": "markdown",
      "source": [
        "### Actividad N021"
      ],
      "metadata": {
        "id": "PiGCrXKRRuCc"
      }
    },
    {
      "cell_type": "code",
      "source": [
        "## SOLUCIÓN ACTIVIDAD N021\n"
      ],
      "metadata": {
        "id": "M-J8B0Z6Rpb0"
      },
      "execution_count": null,
      "outputs": []
    },
    {
      "cell_type": "markdown",
      "source": [
        "## [8] Copiar una lista"
      ],
      "metadata": {
        "id": "_V71W0HcR35w"
      }
    },
    {
      "cell_type": "code",
      "source": [
        "print(f\"La lista librerias contiene los elementos \\n{librerias}\")"
      ],
      "metadata": {
        "id": "fGMsX6P7R0i8"
      },
      "execution_count": null,
      "outputs": []
    },
    {
      "cell_type": "code",
      "source": [
        "herramientas = librerias[:]"
      ],
      "metadata": {
        "id": "G27YO4BZSBZC"
      },
      "execution_count": null,
      "outputs": []
    },
    {
      "cell_type": "code",
      "source": [
        "librerias.append('re')"
      ],
      "metadata": {
        "id": "5GVRvm6HSFk4"
      },
      "execution_count": null,
      "outputs": []
    },
    {
      "cell_type": "code",
      "source": [
        "herramientas.append('sqlAlchemy')"
      ],
      "metadata": {
        "id": "QKZkMz2NSHiA"
      },
      "execution_count": null,
      "outputs": []
    },
    {
      "cell_type": "code",
      "source": [
        "print(f\"La lista librerias contiene los elementos \\n{librerias}\")"
      ],
      "metadata": {
        "id": "NwdYAgaKSLS6"
      },
      "execution_count": null,
      "outputs": []
    },
    {
      "cell_type": "code",
      "source": [
        "print(f\"La lista herramientas contiene los elementos \\n{herramientas}\")"
      ],
      "metadata": {
        "id": "c9smWBJFSNPK"
      },
      "execution_count": null,
      "outputs": []
    },
    {
      "cell_type": "code",
      "source": [],
      "metadata": {
        "id": "MQFjW5zLSQjy"
      },
      "execution_count": null,
      "outputs": []
    }
  ]
}