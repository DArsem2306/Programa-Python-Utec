{
  "nbformat": 4,
  "nbformat_minor": 0,
  "metadata": {
    "colab": {
      "provenance": [],
      "include_colab_link": true
    },
    "kernelspec": {
      "name": "python3",
      "display_name": "Python 3"
    },
    "language_info": {
      "name": "python"
    }
  },
  "cells": [
    {
      "cell_type": "markdown",
      "metadata": {
        "id": "view-in-github",
        "colab_type": "text"
      },
      "source": [
        "<a href=\"https://colab.research.google.com/github/DArsem2306/Programa-Python-Utec/blob/main/modulo2_Estructuras_de_Datos/Clase03_Tuplas/%5B3%5D_Progama_Python_UTEC_Sesion03_Tuplas.ipynb\" target=\"_parent\"><img src=\"https://colab.research.google.com/assets/colab-badge.svg\" alt=\"Open In Colab\"/></a>"
      ]
    },
    {
      "cell_type": "markdown",
      "source": [
        "## [1] Tuplas"
      ],
      "metadata": {
        "id": "PPS0lZeKcs0W"
      }
    },
    {
      "cell_type": "markdown",
      "source": [
        "### [1.1] Tuplas a partir de un DataFrame"
      ],
      "metadata": {
        "id": "dccU3CnJA61l"
      }
    },
    {
      "cell_type": "code",
      "source": [
        "import pandas as pd\n",
        "data = pd.read_csv(\"clientes.csv\",sep=';')\n",
        "data.shape"
      ],
      "metadata": {
        "id": "Bvl3_er6A5u_",
        "outputId": "d302d85e-e956-4e4d-a27c-dc1e27fcd6e9",
        "colab": {
          "base_uri": "https://localhost:8080/"
        }
      },
      "execution_count": 1,
      "outputs": [
        {
          "output_type": "execute_result",
          "data": {
            "text/plain": [
              "(8, 5)"
            ]
          },
          "metadata": {},
          "execution_count": 1
        }
      ]
    },
    {
      "cell_type": "markdown",
      "source": [
        "### [1.2] Tuplas a partir de enumerate"
      ],
      "metadata": {
        "id": "6Ga15KnUBjJ6"
      }
    },
    {
      "cell_type": "code",
      "source": [
        "paises = ['perú','colombia','venezuela','ecuador','chile']\n",
        "\n",
        "for i,pais in enumerate(paises):\n",
        "  print((i,pais))"
      ],
      "metadata": {
        "id": "uGif8EEGBvqM",
        "outputId": "d5d0d935-9bce-4e6d-b7bc-faef3b53f42b",
        "colab": {
          "base_uri": "https://localhost:8080/"
        }
      },
      "execution_count": 2,
      "outputs": [
        {
          "output_type": "stream",
          "name": "stdout",
          "text": [
            "(0, 'perú')\n",
            "(1, 'colombia')\n",
            "(2, 'venezuela')\n",
            "(3, 'ecuador')\n",
            "(4, 'chile')\n"
          ]
        }
      ]
    },
    {
      "cell_type": "markdown",
      "source": [
        "### [1.3] Tuplas a partir de librería os"
      ],
      "metadata": {
        "id": "BadFpPR9CCTZ"
      }
    },
    {
      "cell_type": "code",
      "source": [
        "import os\n",
        "\n",
        "ruta = \"/home/usuario/archivo.txt\"\n",
        "resultado = os.path.split(ruta)\n",
        "print(resultado)"
      ],
      "metadata": {
        "id": "g7AqxAYmBwIM",
        "outputId": "60aa53c9-76c6-43ec-9ba1-a26851f3fa02",
        "colab": {
          "base_uri": "https://localhost:8080/"
        }
      },
      "execution_count": 3,
      "outputs": [
        {
          "output_type": "stream",
          "name": "stdout",
          "text": [
            "('/home/usuario', 'archivo.txt')\n"
          ]
        }
      ]
    },
    {
      "cell_type": "markdown",
      "source": [
        "## [2] Crear tuplas e identificar los tipos de tuplas"
      ],
      "metadata": {
        "id": "DWhuqqC-fj5G"
      }
    },
    {
      "cell_type": "code",
      "source": [
        "tupla_0 = ('ibk','bcp','bbva')\n",
        "print(tupla_0)"
      ],
      "metadata": {
        "id": "qzsv-0QWBf8c",
        "outputId": "3ce6b178-001b-48dd-c1ba-9f94ee75cbdd",
        "colab": {
          "base_uri": "https://localhost:8080/"
        }
      },
      "execution_count": 4,
      "outputs": [
        {
          "output_type": "stream",
          "name": "stdout",
          "text": [
            "('ibk', 'bcp', 'bbva')\n"
          ]
        }
      ]
    },
    {
      "cell_type": "code",
      "source": [
        "tupla_0 = () # Tupla vacía"
      ],
      "metadata": {
        "id": "g9w3MgKvbOYX"
      },
      "execution_count": 6,
      "outputs": []
    },
    {
      "cell_type": "code",
      "source": [
        "type(tupla_0)"
      ],
      "metadata": {
        "id": "zRkTwen0c5XP",
        "outputId": "1bc0b99b-fbad-4b47-9c5a-cc7d1bd7be5e",
        "colab": {
          "base_uri": "https://localhost:8080/"
        }
      },
      "execution_count": 7,
      "outputs": [
        {
          "output_type": "execute_result",
          "data": {
            "text/plain": [
              "tuple"
            ]
          },
          "metadata": {},
          "execution_count": 7
        }
      ]
    },
    {
      "cell_type": "code",
      "source": [
        "tupla_1 = (5,) # Tupla de 1 elemento\n",
        "type(tupla_1)"
      ],
      "metadata": {
        "id": "n5NnbgLMc7Al",
        "outputId": "aa0b0ede-4ba1-43f1-e3fe-00467348326c",
        "colab": {
          "base_uri": "https://localhost:8080/"
        }
      },
      "execution_count": 8,
      "outputs": [
        {
          "output_type": "execute_result",
          "data": {
            "text/plain": [
              "tuple"
            ]
          },
          "metadata": {},
          "execution_count": 8
        }
      ]
    },
    {
      "cell_type": "code",
      "source": [
        "#Creando una lista con 1 elemento\n",
        "lista_0 = [1]\n",
        "type(lista_0)"
      ],
      "metadata": {
        "id": "4pHEROXziGFM",
        "outputId": "457bc27d-bf92-4ff1-fb89-c512d7498842",
        "colab": {
          "base_uri": "https://localhost:8080/"
        }
      },
      "execution_count": 11,
      "outputs": [
        {
          "output_type": "execute_result",
          "data": {
            "text/plain": [
              "list"
            ]
          },
          "metadata": {},
          "execution_count": 11
        }
      ]
    },
    {
      "cell_type": "code",
      "source": [
        "tup_0 = [1]\n",
        "type(lista_0)"
      ],
      "metadata": {
        "id": "Z6hvVpORh7Io",
        "outputId": "643f0f0c-7d6f-40ef-d7b0-4e326ffac630",
        "colab": {
          "base_uri": "https://localhost:8080/"
        }
      },
      "execution_count": 12,
      "outputs": [
        {
          "output_type": "execute_result",
          "data": {
            "text/plain": [
              "list"
            ]
          },
          "metadata": {},
          "execution_count": 12
        }
      ]
    },
    {
      "cell_type": "markdown",
      "source": [
        "## Actividad N022"
      ],
      "metadata": {
        "id": "-qKSwJwWDkBd"
      }
    },
    {
      "cell_type": "markdown",
      "source": [
        "Crear una tupla con el nombre “equipos”, los elementos de la tupla serán 5 equipos de fútbol y vamos a mostrar en pantalla el resultado."
      ],
      "metadata": {
        "id": "7rk2mFtKDnSu"
      }
    },
    {
      "cell_type": "code",
      "source": [
        "# Crear la tupla con 5 equipos de fútbol\n",
        "equipos = (\"Barcelona\", \"Real Madrid\", \"Manchester City\", \"Juventus\", \"Inti Gas\")\n",
        "\n",
        "# Mostrar el contenido de la tupla\n",
        "print(equipos)"
      ],
      "metadata": {
        "id": "nyszH_XfDrVI",
        "outputId": "bfaaf437-1e5a-4602-ca00-7ada8aaa7248",
        "colab": {
          "base_uri": "https://localhost:8080/"
        }
      },
      "execution_count": 14,
      "outputs": [
        {
          "output_type": "stream",
          "name": "stdout",
          "text": [
            "('Barcelona', 'Real Madrid', 'Manchester City', 'Juventus', 'Inti Gas')\n"
          ]
        }
      ]
    },
    {
      "cell_type": "markdown",
      "source": [
        "## [3] Tipos de tuplas"
      ],
      "metadata": {
        "id": "i2YPNZCzDyWg"
      }
    },
    {
      "cell_type": "code",
      "source": [
        "# Tupla homogénea => elementos son del mismo tipo\n",
        "\n",
        "tupla_2 = (2.0, 2.5, 3.2, 4.3, 4.5, 6.5, 7.0)\n",
        "print(f\"La tupla es \\n{tupla_2}\")\n",
        "print(f\"El objeto tupla_2 es del tipo {type(tupla_2)}\")"
      ],
      "metadata": {
        "id": "6jSfoLLvdHSY"
      },
      "execution_count": null,
      "outputs": []
    },
    {
      "cell_type": "markdown",
      "source": [
        "## Actividad N023"
      ],
      "metadata": {
        "id": "5OCfITR2FNXH"
      }
    },
    {
      "cell_type": "markdown",
      "source": [
        "(2,5.5,'UTEC',True)\n",
        "\n",
        "Crear una tupla con la información de la imagen superior y nombrar como “info_personal”.\n",
        "¿Qué tipo de tupla es “info_personal”?"
      ],
      "metadata": {
        "id": "qz4HAITeFPe7"
      }
    },
    {
      "cell_type": "code",
      "source": [
        "info_personal = (2,5.5,'UTEC',True)\n",
        "print(f\"La tupla es \\n{info_personal}\")\n",
        "print(f\"El objeto info_personal es del tipo {type(info_personal)}\")"
      ],
      "metadata": {
        "id": "4rEE9oKYFZVM",
        "outputId": "3e6e59d0-900f-41f1-f741-73837fbfee97",
        "colab": {
          "base_uri": "https://localhost:8080/"
        }
      },
      "execution_count": 16,
      "outputs": [
        {
          "output_type": "stream",
          "name": "stdout",
          "text": [
            "La tupla es \n",
            "(2, 5.5, 'UTEC', True)\n",
            "El objeto info_personal es del tipo <class 'tuple'>\n"
          ]
        }
      ]
    },
    {
      "cell_type": "markdown",
      "source": [
        "## [4] Acceder a los elementos de las tuplas"
      ],
      "metadata": {
        "id": "MY9xSd-qfgkS"
      }
    },
    {
      "cell_type": "code",
      "source": [
        "materias = ('algebra','aritmética','razonamiento verbal','trigonometría','geometría')"
      ],
      "metadata": {
        "id": "eRYIY_eEEEd3"
      },
      "execution_count": 17,
      "outputs": []
    },
    {
      "cell_type": "code",
      "source": [
        "materias[2]"
      ],
      "metadata": {
        "id": "PIz7aCaJEZHj",
        "outputId": "27434888-6f19-4109-9e10-d36787c8984f",
        "colab": {
          "base_uri": "https://localhost:8080/",
          "height": 35
        }
      },
      "execution_count": 18,
      "outputs": [
        {
          "output_type": "execute_result",
          "data": {
            "text/plain": [
              "'razonamiento verbal'"
            ],
            "application/vnd.google.colaboratory.intrinsic+json": {
              "type": "string"
            }
          },
          "metadata": {},
          "execution_count": 18
        }
      ]
    },
    {
      "cell_type": "code",
      "source": [
        "materias[1:3]"
      ],
      "metadata": {
        "id": "kIF8FIZqEdsw",
        "outputId": "69d06613-6af7-4826-e090-711b86981067",
        "colab": {
          "base_uri": "https://localhost:8080/"
        }
      },
      "execution_count": 19,
      "outputs": [
        {
          "output_type": "execute_result",
          "data": {
            "text/plain": [
              "('aritmética', 'razonamiento verbal')"
            ]
          },
          "metadata": {},
          "execution_count": 19
        }
      ]
    },
    {
      "cell_type": "code",
      "source": [
        "print(f\"La tupla es {tupla_3}\")\n",
        "print(f\"El elemento de índice 1 de la tupla es {tupla_3[1]}\")"
      ],
      "metadata": {
        "id": "G_AXXBySeEo4",
        "outputId": "63ee534a-a0a8-4daf-90d9-e16ee3f9ce3b",
        "colab": {
          "base_uri": "https://localhost:8080/",
          "height": 162
        }
      },
      "execution_count": 21,
      "outputs": [
        {
          "output_type": "error",
          "ename": "NameError",
          "evalue": "name 'tupla_3' is not defined",
          "traceback": [
            "\u001b[0;31m---------------------------------------------------------------------------\u001b[0m",
            "\u001b[0;31mNameError\u001b[0m                                 Traceback (most recent call last)",
            "\u001b[0;32m<ipython-input-21-5f4758763abf>\u001b[0m in \u001b[0;36m<cell line: 0>\u001b[0;34m()\u001b[0m\n\u001b[0;32m----> 1\u001b[0;31m \u001b[0mprint\u001b[0m\u001b[0;34m(\u001b[0m\u001b[0;34mf\"La tupla es {tupla_3}\"\u001b[0m\u001b[0;34m)\u001b[0m\u001b[0;34m\u001b[0m\u001b[0;34m\u001b[0m\u001b[0m\n\u001b[0m\u001b[1;32m      2\u001b[0m \u001b[0mprint\u001b[0m\u001b[0;34m(\u001b[0m\u001b[0;34mf\"El elemento de índice 1 de la tupla es {tupla_3[1]}\"\u001b[0m\u001b[0;34m)\u001b[0m\u001b[0;34m\u001b[0m\u001b[0;34m\u001b[0m\u001b[0m\n",
            "\u001b[0;31mNameError\u001b[0m: name 'tupla_3' is not defined"
          ]
        }
      ]
    },
    {
      "cell_type": "code",
      "source": [
        "tupla_4 = (1,2,3,4,5,6,7,8,9,10)"
      ],
      "metadata": {
        "id": "ndnatYBSf6_V"
      },
      "execution_count": 22,
      "outputs": []
    },
    {
      "cell_type": "code",
      "source": [
        "# Acceder a los elementos de la tupla por operadores de segmentación\n",
        "print(f\"Los elementos seleccionados de la tupla original son \\n{tupla_4[2:7]}\")"
      ],
      "metadata": {
        "id": "AQhKAo1Sjnjs",
        "outputId": "4e2c5aba-38e1-4ae2-a1a4-ea54d3d83a14",
        "colab": {
          "base_uri": "https://localhost:8080/"
        }
      },
      "execution_count": 23,
      "outputs": [
        {
          "output_type": "stream",
          "name": "stdout",
          "text": [
            "Los elementos seleccionados de la tupla original son \n",
            "(3, 4, 5, 6, 7)\n"
          ]
        }
      ]
    },
    {
      "cell_type": "code",
      "source": [
        "print(f\"Los elementos seleccionados de la tupla original son \\n{tupla_4[7:]}\")"
      ],
      "metadata": {
        "id": "ynldLm6JkrTS",
        "outputId": "b6deef63-592c-4b8d-bd20-9ccfbd2c4479",
        "colab": {
          "base_uri": "https://localhost:8080/"
        }
      },
      "execution_count": 29,
      "outputs": [
        {
          "output_type": "stream",
          "name": "stdout",
          "text": [
            "Los elementos seleccionados de la tupla original son \n",
            "(8, 9, 10)\n"
          ]
        }
      ]
    },
    {
      "cell_type": "code",
      "source": [
        "print(f\"Los elementos seleccionados de la tupla original son \\n{tupla_4[0:4]}\")"
      ],
      "metadata": {
        "id": "D-k3mMqWloTN",
        "outputId": "9d2f2dd2-5b26-441f-a1d2-f0b94c092a35",
        "colab": {
          "base_uri": "https://localhost:8080/"
        }
      },
      "execution_count": 28,
      "outputs": [
        {
          "output_type": "stream",
          "name": "stdout",
          "text": [
            "Los elementos seleccionados de la tupla original son \n",
            "(1, 2, 3, 4)\n"
          ]
        }
      ]
    },
    {
      "cell_type": "code",
      "source": [
        "print(f\"Los elementos seleccionados de la tupla original son \\n{tupla_4[:4]}\")"
      ],
      "metadata": {
        "id": "IScUIKDblsUM",
        "outputId": "40766946-7c5f-4325-a4e9-08a59bf0a2be",
        "colab": {
          "base_uri": "https://localhost:8080/"
        }
      },
      "execution_count": 27,
      "outputs": [
        {
          "output_type": "stream",
          "name": "stdout",
          "text": [
            "Los elementos seleccionados de la tupla original son \n",
            "(1, 2, 3, 4)\n"
          ]
        }
      ]
    },
    {
      "cell_type": "markdown",
      "source": [
        "## Actividad N024"
      ],
      "metadata": {
        "id": "zxMMwTm5Es5v"
      }
    },
    {
      "cell_type": "markdown",
      "source": [
        "Acceder al último elemento de la tupla (“equipos”)."
      ],
      "metadata": {
        "id": "VmmXpCP9Exf9"
      }
    },
    {
      "cell_type": "code",
      "source": [
        "# Acceder al último elemento\n",
        "ultimo_equipo = equipos[-1]\n",
        "\n",
        "# Mostrarlo\n",
        "print(\"🏁 El último equipo de la tupla es:\", ultimo_equipo)"
      ],
      "metadata": {
        "id": "6cOHpfzlEw0U",
        "outputId": "ec29fb9f-8f8a-4a9b-a09b-88bce6299fda",
        "colab": {
          "base_uri": "https://localhost:8080/"
        }
      },
      "execution_count": 30,
      "outputs": [
        {
          "output_type": "stream",
          "name": "stdout",
          "text": [
            "🏁 El último equipo de la tupla es: Inti Gas\n"
          ]
        }
      ]
    },
    {
      "cell_type": "markdown",
      "source": [
        "Acceder a los primeros 3 elementos de la tupla (“equipos”)."
      ],
      "metadata": {
        "id": "aBUdIPP8E8IQ"
      }
    },
    {
      "cell_type": "code",
      "source": [
        "# Acceder a los 3 primeros\n",
        "primeros3_equipo = equipos[0:3]\n",
        "\n",
        "# Mostrarlo\n",
        "print(\"los primeros 3 elementos de la tupla es:\", primeros3_equipo)"
      ],
      "metadata": {
        "id": "O-Q7KnwOE9YQ",
        "outputId": "e63198ea-7735-442d-9716-1b9dd9f35bee",
        "colab": {
          "base_uri": "https://localhost:8080/"
        }
      },
      "execution_count": 33,
      "outputs": [
        {
          "output_type": "stream",
          "name": "stdout",
          "text": [
            "los primeros 3 elementos de la tupla es: ('Barcelona', 'Real Madrid', 'Manchester City')\n"
          ]
        }
      ]
    },
    {
      "cell_type": "markdown",
      "source": [
        "## [5] Desempaquetado de tuplas"
      ],
      "metadata": {
        "id": "90beMxfqovaa"
      }
    },
    {
      "cell_type": "code",
      "source": [
        "var_1, var_2 = \"UTEC\",\"UPC\" # Desempaquetado de dos cadenas de caracteres en dos variables (var_1,var_2)"
      ],
      "metadata": {
        "id": "py4oDOQronuA"
      },
      "execution_count": null,
      "outputs": []
    },
    {
      "cell_type": "code",
      "source": [
        "print(f\"El valor de var_1 es {var_1}\")\n",
        "print(f\"El valor de var_2 es {var_2}\")"
      ],
      "metadata": {
        "id": "jzXde_wyo6mi"
      },
      "execution_count": null,
      "outputs": []
    },
    {
      "cell_type": "code",
      "source": [
        "t_vocales = (\"a\", \"e\", \"i\", \"o\", \"u\")\n",
        "print(f\"La tupla vocales es {t_vocales}\")"
      ],
      "metadata": {
        "id": "OnR3rrRvpBMJ"
      },
      "execution_count": null,
      "outputs": []
    },
    {
      "cell_type": "code",
      "source": [
        "print(f\"La selección de los primeros tres elementos es {t_vocales[0:3]}\")"
      ],
      "metadata": {
        "id": "7oXysCaZpVl-"
      },
      "execution_count": null,
      "outputs": []
    },
    {
      "cell_type": "code",
      "source": [
        "x, y, z = t_vocales[0:3] # Desempaquetar los elementos de la tupla en 3 variables"
      ],
      "metadata": {
        "id": "yygRS0qvqB9l"
      },
      "execution_count": null,
      "outputs": []
    },
    {
      "cell_type": "code",
      "source": [
        "print(f\"El primer elemento de la tupla vocales es {x}.\")\n",
        "print(f\"El segundo elemento de la tupla vocales es {y}.\")\n",
        "print(f\"El tercer elemento de la tupla vocales es {z}.\")"
      ],
      "metadata": {
        "id": "R1IwLShhqNaP"
      },
      "execution_count": null,
      "outputs": []
    },
    {
      "cell_type": "code",
      "source": [
        "t_vocales[0] = \"A\" # Tuplas son inmutables"
      ],
      "metadata": {
        "id": "NNXZ16M5qfIv"
      },
      "execution_count": null,
      "outputs": []
    },
    {
      "cell_type": "code",
      "source": [
        "print(materias)"
      ],
      "metadata": {
        "id": "54h3b0goFxLE"
      },
      "execution_count": null,
      "outputs": []
    },
    {
      "cell_type": "code",
      "source": [
        "x,y,z = materias[0:3]"
      ],
      "metadata": {
        "id": "XAelNq2gq_T5"
      },
      "execution_count": null,
      "outputs": []
    },
    {
      "cell_type": "markdown",
      "source": [
        "## Actividad N025"
      ],
      "metadata": {
        "id": "L6mFLkVaF_Qw"
      }
    },
    {
      "cell_type": "markdown",
      "source": [
        "Desempaquetar los 2 últimos equipos de la tupla (“equipos”) y almacenarlos en los objetos equipo_A y equipo_B."
      ],
      "metadata": {
        "id": "cpSfGmfoGCZO"
      }
    },
    {
      "cell_type": "code",
      "source": [],
      "metadata": {
        "id": "xMYOFUjqGBsb"
      },
      "execution_count": null,
      "outputs": []
    },
    {
      "cell_type": "markdown",
      "source": [
        "## [6] Desempaquetado de tuplas con FOR"
      ],
      "metadata": {
        "id": "bYvov9PCrwZf"
      }
    },
    {
      "cell_type": "code",
      "source": [
        "t_prod = ((\"A0001\",\"manzana\",3.0),(\"A0002\",\"aceite\",7.5))"
      ],
      "metadata": {
        "id": "ZBKicQLJre0p"
      },
      "execution_count": null,
      "outputs": []
    },
    {
      "cell_type": "code",
      "source": [
        "print(f\"La tupla de productos es \\n{t_prod}\")"
      ],
      "metadata": {
        "id": "N0IHEobWsEkJ"
      },
      "execution_count": null,
      "outputs": []
    },
    {
      "cell_type": "code",
      "source": [
        "for cod,prod,pre in t_prod:\n",
        "  print(f\"El producto {prod} con código {cod} tiene el precio vigente en S/.{pre}\")"
      ],
      "metadata": {
        "id": "rZt_NLthsI1k"
      },
      "execution_count": null,
      "outputs": []
    },
    {
      "cell_type": "markdown",
      "source": [
        "## [7] Función tuple"
      ],
      "metadata": {
        "id": "GKm73_I7supL"
      }
    },
    {
      "cell_type": "code",
      "source": [
        "pares = tuple(range(2,11,2))\n",
        "print(pares)"
      ],
      "metadata": {
        "id": "KXZ3pB0WGeXV"
      },
      "execution_count": null,
      "outputs": []
    },
    {
      "cell_type": "code",
      "source": [
        "lista_ = list(range(10)) # Función list me permite crear listas"
      ],
      "metadata": {
        "id": "FqYvb0BestuV"
      },
      "execution_count": null,
      "outputs": []
    },
    {
      "cell_type": "code",
      "source": [
        "print(f\"La lista {lista_} es del tipo {type(lista_)}\")"
      ],
      "metadata": {
        "id": "-9Dcr5ursiYC"
      },
      "execution_count": null,
      "outputs": []
    },
    {
      "cell_type": "code",
      "source": [
        "tupla_ = tuple(lista_) # Función tuple me permite crear tuplas\n",
        "print(f\"La tupla {tupla_} es del tipo {type(tupla_)}\")"
      ],
      "metadata": {
        "id": "p-5jW-BttDEa"
      },
      "execution_count": null,
      "outputs": []
    },
    {
      "cell_type": "code",
      "source": [
        "tuple(\"David\")"
      ],
      "metadata": {
        "id": "PCrzJ3y8tXrs"
      },
      "execution_count": null,
      "outputs": []
    },
    {
      "cell_type": "markdown",
      "source": [
        "## Actividad N026"
      ],
      "metadata": {
        "id": "eDbrnbWkGiLB"
      }
    },
    {
      "cell_type": "markdown",
      "source": [
        "Crear la tupla cobre_prod, esta tupla estará compuesta por la información del cuadro."
      ],
      "metadata": {
        "id": "Y3aiPsbNGqQi"
      }
    },
    {
      "cell_type": "code",
      "source": [],
      "metadata": {
        "id": "y_fwBZT0GkcE"
      },
      "execution_count": null,
      "outputs": []
    },
    {
      "cell_type": "markdown",
      "source": [
        "## Actividad N027"
      ],
      "metadata": {
        "id": "fyCkjmKrGvT4"
      }
    },
    {
      "cell_type": "markdown",
      "source": [
        "Desempaquetar la tupla cobre_prod, imprimir en pantalla los siguientes enunciados."
      ],
      "metadata": {
        "id": "OKnEoJyEGrrI"
      }
    },
    {
      "cell_type": "code",
      "source": [],
      "metadata": {
        "id": "KMLfnzfTGtu2"
      },
      "execution_count": null,
      "outputs": []
    }
  ]
}