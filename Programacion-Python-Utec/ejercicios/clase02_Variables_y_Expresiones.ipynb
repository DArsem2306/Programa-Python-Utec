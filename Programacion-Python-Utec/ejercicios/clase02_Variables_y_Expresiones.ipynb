{
  "nbformat": 4,
  "nbformat_minor": 0,
  "metadata": {
    "colab": {
      "provenance": [],
      "include_colab_link": true
    },
    "kernelspec": {
      "name": "python3",
      "display_name": "Python 3"
    },
    "language_info": {
      "name": "python"
    }
  },
  "cells": [
    {
      "cell_type": "markdown",
      "metadata": {
        "id": "view-in-github",
        "colab_type": "text"
      },
      "source": [
        "<a href=\"https://colab.research.google.com/github/DArsem2306/Programa-Python-Utec/blob/main/Programacion-Python-Utec/ejercicios/clase02_Variables_y_Expresiones.ipynb\" target=\"_parent\"><img src=\"https://colab.research.google.com/assets/colab-badge.svg\" alt=\"Open In Colab\"/></a>"
      ]
    },
    {
      "cell_type": "markdown",
      "source": [
        "<img src=\"https://posgrado.utec.edu.pe/sites/default/files/2023-08/Testimonial-home-2.jpg\" alt=\"HTML5 Icon\" width=\"900\" height=\"250\" >\n"
      ],
      "metadata": {
        "id": "cqadFmlrgAXp"
      }
    },
    {
      "cell_type": "markdown",
      "source": [
        "# **Ejercicios - Variables y Expresiones**"
      ],
      "metadata": {
        "id": "tW1-ULBmb0Cm"
      }
    },
    {
      "cell_type": "markdown",
      "source": [
        "**Ejercicio 1: Calculadora de ahorro semanal**\n",
        "\n",
        "Pide al usuario cuánto dinero ahorra cada día de lunes a domingo. Al final, muestra cuánto ahorró en total esa semana y cuánto tendría en un mes si repite el mismo patrón cada semana.\n",
        "\n",
        "- Pista: Usar 7 variables (ahorro_lunes, ahorro_martes, …), input(), float(), +, *."
      ],
      "metadata": {
        "id": "9igzfvIKqNGr"
      }
    },
    {
      "cell_type": "code",
      "source": [
        "## INICIO DE CÓDIGO\n",
        "print(\"Hola!\")\n",
        "print(\"Hoy vamos a calcular tus ahorros\")\n",
        "ahorro_lunes = float(input(\"Ingrese el monto ahorrado el lunes: \"))\n",
        "ahorro_martes = float(input(\"Ingrese el monto ahorrado el martes: \"))\n",
        "ahorro_miercoles = float(input(\"Ingrese el monto ahorrado el miercoles:\"))\n",
        "ahorro_jueves = float(input(\"Ingrese el monto ahorrado el jueves: \"))\n",
        "ahorro_viernes = float(input(\"Ingrese el monto ahorrado el viernes: \"))\n",
        "ahorro_sabado = float(input(\"Ingrese el monto ahorrado el sabado: \"))\n",
        "ahorro_domingo = float(input(\"Ingrese el monto ahorrado el domingo: \"))\n",
        "ahorro_semana = ahorro_lunes + ahorro_martes + ahorro_miercoles + ahorro_jueves + ahorro_viernes + ahorro_sabado + ahorro_domingo\n",
        "ahorro_mes = ahorro_semana * 4\n",
        "\n",
        "print(\"En la semana ahorraste: \", ahorro_semana)\n",
        "print(\"En el mes ahorraste: \", ahorro_mes)\n",
        "\n",
        "## FIN DE CÓDIGO"
      ],
      "metadata": {
        "id": "BX-O1-4wqWF9",
        "outputId": "f06e7ea5-16b5-4a7d-dec8-15c29863ae9e",
        "colab": {
          "base_uri": "https://localhost:8080/"
        }
      },
      "execution_count": 1,
      "outputs": [
        {
          "output_type": "stream",
          "name": "stdout",
          "text": [
            "Hola!\n",
            "Hoy vamos a calcular tus ahorros\n",
            "Ingrese el monto ahorrado el lunes: 5\n",
            "Ingrese el monto ahorrado el martes: 5.4\n",
            "Ingrese el monto ahorrado el miercoles:67\n",
            "Ingrese el monto ahorrado el jueves: 78\n",
            "Ingrese el monto ahorrado el viernes: 6\n",
            "Ingrese el monto ahorrado el sabado: 45\n",
            "Ingrese el monto ahorrado el domingo: 67.788\n",
            "En la semana ahorraste:  274.188\n",
            "En el mes ahorraste:  1096.752\n"
          ]
        }
      ]
    },
    {
      "cell_type": "markdown",
      "source": [
        "**Ejercicio 2: Conversor de segundos**\n",
        "\n",
        "Solicita una cantidad total de segundos y muestra cuántos minutos y segundos representa.\n",
        "\n",
        "Ejemplo: 130 segundos → 2 minutos y 10 segundos\n",
        "* Pista: Usar // y %\n"
      ],
      "metadata": {
        "id": "oLaw6UggqV3E"
      }
    },
    {
      "cell_type": "code",
      "source": [
        "## INICIO DE CÓDIGO\n",
        "print(\"Bienvenido a la herramienta de conversor de segundo\")\n",
        "\n",
        "segundos = int(input(\"Ingrese la cantidad de segundos: \"))\n",
        "minutos = segundos // 60\n",
        "segundos_restantes = segundos % 60\n",
        "print(segundos, \"segundos son\", minutos, \"minutos y\", segundos_restantes, \"segundos\")\n",
        "\n",
        "## FIN DE CÓDIGO"
      ],
      "metadata": {
        "id": "bAuxBROrqaWb",
        "outputId": "7aaa0c09-c98a-41cb-e1fd-b28a6d224ff9",
        "colab": {
          "base_uri": "https://localhost:8080/"
        }
      },
      "execution_count": 3,
      "outputs": [
        {
          "output_type": "stream",
          "name": "stdout",
          "text": [
            "Bienvenido a la herramienta de conversor de segundo\n",
            "Ingrese la cantidad de segundos: 45676\n",
            "45676 segundos son 761 minutos y 16 segundos\n"
          ]
        }
      ]
    },
    {
      "cell_type": "markdown",
      "source": [
        "**Ejercicio 3: Puntuación de juego**\n",
        "\n",
        "Un videojuego otorga:\n",
        "\n",
        "* 10 puntos por cada estrella recolectada,\n",
        "* 50 puntos por cada gema recolectada, y\n",
        "* 1 punto por cada segundo que el jugador se mantuvo vivo.\n",
        "\n",
        "Pide al usuario las tres cantidades y muestra su puntaje total.\n",
        "\n",
        "* Pista: total = estrellas*10 + gemas*50 + tiempo"
      ],
      "metadata": {
        "id": "dK4EIGoKrW2B"
      }
    },
    {
      "cell_type": "code",
      "source": [
        "## INICIO DE CÓDIGO\n",
        "\n",
        "estrellas = int(input(\"Ingrese la cantidad de estrellas recolectadas: \"))\n",
        "gemas = int(input(\"Ingrese la cantidad de gemas recolectadas: \"))\n",
        "tiempo = int(input(\"Ingrese la cantidad de segundos que el jugador se mantuvo vivo: \"))\n",
        "\n",
        "total = estrellas*10 + gemas*50 + tiempo\n",
        "print(\"El puntaje total es: \", total)\n",
        "\n",
        "## FIN DE CÓDIGO"
      ],
      "metadata": {
        "id": "jkBQHQF1rlUY",
        "outputId": "32e296e0-9e9d-48a0-a239-5a6ec2c015af",
        "colab": {
          "base_uri": "https://localhost:8080/"
        }
      },
      "execution_count": 4,
      "outputs": [
        {
          "output_type": "stream",
          "name": "stdout",
          "text": [
            "Ingrese la cantidad de estrellas recolectadas: 3\n",
            "Ingrese la cantidad de gemas recolectadas: 1\n",
            "Ingrese la cantidad de segundos que el jugador se mantuvo vivo: 40\n",
            "El puntaje total es:  120\n"
          ]
        }
      ]
    },
    {
      "cell_type": "markdown",
      "source": [
        "**Ejercicio 4: Conversor de monedas con tasa personalizada**\n",
        "\n",
        "Solicita al usuario:\n",
        "\n",
        "* El monto en soles\n",
        "* La tasa de cambio a dólares\n",
        "\n",
        "Muestra el equivalente en dólares, redondeado a 2 decimales.\n",
        "\n",
        "* Pista: Usar float(), *, round(valor, 2)"
      ],
      "metadata": {
        "id": "wW9Edl_8rlt1"
      }
    },
    {
      "cell_type": "code",
      "source": [
        "## INICIO DE CÓDIGO\n",
        "\n",
        "monto_soles = float(input(\"Ingrese el monto en soles: \"))\n",
        "tasa_cambio = float(input(\"Ingrese la tasa de cambio a dólares: \"))\n",
        "\n",
        "monto_dolares = round((monto_soles / tasa_cambio), 2)\n",
        "print(\"El equivalente en dólares es: \", monto_dolares)\n",
        "## FIN DE CÓDIGO"
      ],
      "metadata": {
        "id": "fTCsCohHrmQW",
        "outputId": "feebd3f5-7735-425d-c7bd-2309dbf28ee9",
        "colab": {
          "base_uri": "https://localhost:8080/"
        }
      },
      "execution_count": 5,
      "outputs": [
        {
          "output_type": "stream",
          "name": "stdout",
          "text": [
            "Ingrese el monto en soles: 1240\n",
            "Ingrese la tasa de cambio a dólares: 3.76\n",
            "El equivalente en dólares es:  329.79\n"
          ]
        }
      ]
    },
    {
      "cell_type": "markdown",
      "source": [
        "**Ejercicio 5: Costo compartido de viaje**\n",
        "\n",
        "Tres amigos hacen un viaje y pagan distintos montos:\n",
        "\n",
        "* Ana pagó gasolina,\n",
        "* Luis pagó peajes,\n",
        "* Carla pagó comida.\n",
        "\n",
        "Pide los tres montos, calcula el total y cuánto debería aportar cada uno para que paguen igual.\n",
        "\n",
        "* Pista: Calcular el total y luego dividirlo entre 3"
      ],
      "metadata": {
        "id": "JYUyJAidrmnT"
      }
    },
    {
      "cell_type": "code",
      "source": [
        "## INICIO DE CÓDIGO\n",
        "\n",
        "gasolina = float(input(\"Ingrese el monto pagado por Ana: \"))\n",
        "peajes = float(input(\"Ingrese el monto pagado por Luis: \"))\n",
        "comida = float(input(\"Ingrese el monto pagado por Carla: \"))\n",
        "\n",
        "## Calculo total y por Persona\n",
        "total = gasolina + peajes + comida\n",
        "por_persona = total / 3\n",
        "\n",
        "print(\"El total a pagar es:\", total)\n",
        "print(\"Cada uno debe pagar:\", round(por_persona, 2))\n",
        "\n",
        "# Ana\n",
        "if gasolina > por_persona:\n",
        "    print(\"Ana pago más. Le deben:\", round(gasolina - por_persona, 2))\n",
        "elif gasolina < por_persona:\n",
        "    print(\"Ana pago menos. Debe:\", round(por_persona - gasolina, 2))\n",
        "else:\n",
        "    print(\"Ana está cuadrada. No debe ni le deben.\")\n",
        "\n",
        "# Luis\n",
        "if peajes > por_persona:\n",
        "    print(\"Luis pago más. Le deben:\", round(peajes - por_persona, 2))\n",
        "elif peajes < por_persona:\n",
        "    print(\"Luis pago menos. Debe:\", round(por_persona - peajes, 2))\n",
        "else:\n",
        "    print(\"Luis está cuadrado. No debe ni le deben.\")\n",
        "\n",
        "# Carla\n",
        "if comida > por_persona:\n",
        "    print(\"Carla pago de más. Le deben:\", round(comida - por_persona, 2))\n",
        "elif comida < por_persona:\n",
        "    print(\"Carla pago menos. Debe:\", round(por_persona - comida, 2))\n",
        "else:\n",
        "    print(\"Carla está cuadrada. No debe ni le deben.\")\n",
        "\n",
        "\n",
        "## FIN DE CÓDIGO"
      ],
      "metadata": {
        "id": "SGjH-m_mrom9",
        "outputId": "4493e3ce-c9e5-4762-b1ca-f43ccf6b315c",
        "colab": {
          "base_uri": "https://localhost:8080/"
        }
      },
      "execution_count": 11,
      "outputs": [
        {
          "output_type": "stream",
          "name": "stdout",
          "text": [
            "Ingrese el monto pagado por Ana: 150\n",
            "Ingrese el monto pagado por Luis: 30\n",
            "Ingrese el monto pagado por Carla: 200\n",
            "El total a pagar es: 380.0\n",
            "Cada uno debe pagar: 126.67\n",
            "Ana pago más. Le deben: 23.33\n",
            "Luis pago menos. Debe: 96.67\n",
            "Carla pago de más. Le deben: 73.33\n"
          ]
        }
      ]
    },
    {
      "cell_type": "markdown",
      "source": [
        "**Ejercicio 6: Tiempo total de estudio**\n",
        "\n",
        "Solicita al usuario cuántas horas estudió en 4 materias distintas.\n",
        "\n",
        "Muestra el total de horas de estudio en la semana y el promedio diario (considerando 7 días).\n"
      ],
      "metadata": {
        "id": "skhBiCaCro5l"
      }
    },
    {
      "cell_type": "code",
      "source": [
        "## INICIO DE CÓDIGO\n",
        "\n",
        "horas_matematicas = float(input(\"Ingrese las horas estudiadas en Matemáticas: \"))\n",
        "horas_historia = float(input(\"Ingrese las horas estudiadas en Historia: \"))\n",
        "horas_fisica = float(input(\"Ingrese las horas estudiadas en Física: \"))\n",
        "horas_quimica = float(input(\"Ingrese las horas estudiadas en Química: \"))\n",
        "\n",
        "horas_total = horas_matematicas + horas_historia + horas_fisica + horas_quimica\n",
        "\n",
        "print(\"Horas total de estudio en la semana: \", horas_total)\n",
        "print(\"Horas promedio de estudio diario: \", round(horas_total / 7, 2))\n",
        "\n",
        "## FIN DE CÓDIGO"
      ],
      "metadata": {
        "id": "HnFuV1RPrqXQ",
        "outputId": "ab1579be-b6d8-4dd8-ea16-6d7787e3c7ae",
        "colab": {
          "base_uri": "https://localhost:8080/"
        }
      },
      "execution_count": 12,
      "outputs": [
        {
          "output_type": "stream",
          "name": "stdout",
          "text": [
            "Ingrese las horas estudiadas en Matemáticas: 45\n",
            "Ingrese las horas estudiadas en Historia: 4\n",
            "Ingrese las horas estudiadas en Física: 5\n",
            "Ingrese las horas estudiadas en Química: 7\n",
            "Horas total de estudio en la semana:  61.0\n",
            "Horas promedio de estudio diario:  8.71\n"
          ]
        }
      ]
    },
    {
      "cell_type": "markdown",
      "source": [
        "**Ejercicio 7: Nombre codificado (nivel string)**\n",
        "\n",
        "Pide al usuario su nombre completo y muestra:\n",
        "\n",
        "* La cantidad de caracteres (con len())\n",
        "* Su nombre todo en mayúsculas (.upper())\n",
        "* Su nombre todo en minúsculas (.lower())\n"
      ],
      "metadata": {
        "id": "rNjtOXKWrqs5"
      }
    },
    {
      "cell_type": "code",
      "source": [
        "## INICIO DE CÓDIGO\n",
        "\n",
        "name = input(\"Ingrese su nombre completo: \")\n",
        "\n",
        "print(\"Cantidad de caracteres: \", len(name))\n",
        "print(\"Nombre en mayúsculas: \", name.upper())\n",
        "print(\"Nombre en minúsculas: \", name.lower())\n",
        "## FIN DE CÓDIGO"
      ],
      "metadata": {
        "id": "GnGm74GXrsL0",
        "outputId": "ee584f39-f2c1-407c-ca1b-9634e3b1bf2d",
        "colab": {
          "base_uri": "https://localhost:8080/"
        }
      },
      "execution_count": 13,
      "outputs": [
        {
          "output_type": "stream",
          "name": "stdout",
          "text": [
            "Ingrese su nombre completo: Daniel Arrisueno\n",
            "Cantidad de caracteres:  16\n",
            "Nombre en mayúsculas:  DANIEL ARRISUENO\n",
            "Nombre en minúsculas:  daniel arrisueno\n"
          ]
        }
      ]
    },
    {
      "cell_type": "markdown",
      "source": [
        "**Ejercicio 8: Frase repetida**\n",
        "\n",
        "Pide una frase y un número n, y muestra la frase repetida n veces, cada una en una línea.\n",
        "\n",
        "* Pista: print(frase * n)  # y/o con '\\n'"
      ],
      "metadata": {
        "id": "lrhPyjmWrse2"
      }
    },
    {
      "cell_type": "code",
      "source": [
        "## INICIO DE CÓDIGO\n",
        "\n",
        "phrase = input(\"Ingrese una frase: \")\n",
        "n = int(input(\"Ingrese un número: \"))\n",
        "\n",
        "for i in range(n):\n",
        "    print(phrase)\n",
        "\n",
        "## FIN DE CÓDIGO"
      ],
      "metadata": {
        "id": "Vzef3t_Lru0p",
        "outputId": "9d8082a5-c793-4e89-cce4-61d7ea5ad4b7",
        "colab": {
          "base_uri": "https://localhost:8080/"
        }
      },
      "execution_count": 14,
      "outputs": [
        {
          "output_type": "stream",
          "name": "stdout",
          "text": [
            "Ingrese una frase: Las flores son rojas\n",
            "Ingrese un número: 56\n",
            "Las flores son rojas\n",
            "Las flores son rojas\n",
            "Las flores son rojas\n",
            "Las flores son rojas\n",
            "Las flores son rojas\n",
            "Las flores son rojas\n",
            "Las flores son rojas\n",
            "Las flores son rojas\n",
            "Las flores son rojas\n",
            "Las flores son rojas\n",
            "Las flores son rojas\n",
            "Las flores son rojas\n",
            "Las flores son rojas\n",
            "Las flores son rojas\n",
            "Las flores son rojas\n",
            "Las flores son rojas\n",
            "Las flores son rojas\n",
            "Las flores son rojas\n",
            "Las flores son rojas\n",
            "Las flores son rojas\n",
            "Las flores son rojas\n",
            "Las flores son rojas\n",
            "Las flores son rojas\n",
            "Las flores son rojas\n",
            "Las flores son rojas\n",
            "Las flores son rojas\n",
            "Las flores son rojas\n",
            "Las flores son rojas\n",
            "Las flores son rojas\n",
            "Las flores son rojas\n",
            "Las flores son rojas\n",
            "Las flores son rojas\n",
            "Las flores son rojas\n",
            "Las flores son rojas\n",
            "Las flores son rojas\n",
            "Las flores son rojas\n",
            "Las flores son rojas\n",
            "Las flores son rojas\n",
            "Las flores son rojas\n",
            "Las flores son rojas\n",
            "Las flores son rojas\n",
            "Las flores son rojas\n",
            "Las flores son rojas\n",
            "Las flores son rojas\n",
            "Las flores son rojas\n",
            "Las flores son rojas\n",
            "Las flores son rojas\n",
            "Las flores son rojas\n",
            "Las flores son rojas\n",
            "Las flores son rojas\n",
            "Las flores son rojas\n",
            "Las flores son rojas\n",
            "Las flores son rojas\n",
            "Las flores son rojas\n",
            "Las flores son rojas\n",
            "Las flores son rojas\n"
          ]
        }
      ]
    },
    {
      "cell_type": "markdown",
      "source": [
        "**Ejercicio 9: División de cuentas**\n",
        "\n",
        "Un grupo de amigos pide una cuenta por S/ 250.\n",
        "Pide al usuario cuántas personas están en el grupo y muestra cuánto debe pagar cada uno.\n",
        "\n",
        "Asegúrate de redondear el resultado a 2 decimales.\n",
        "\n",
        "* Pista: Usa la funcion round()"
      ],
      "metadata": {
        "id": "5NpbbGR_rvNH"
      }
    },
    {
      "cell_type": "code",
      "source": [
        "## INICIO DE CÓDIGO\n",
        "\n",
        "## FIN DE CÓDIGO"
      ],
      "metadata": {
        "id": "uMxuVCUVrvj6"
      },
      "execution_count": null,
      "outputs": []
    },
    {
      "cell_type": "markdown",
      "source": [
        "**Ejercicio 10: Calendario de clases**\n",
        "\n",
        "Pide cuántas horas se estudia en promedio por día, y cuántos días tiene el mes.\n",
        "\n",
        "Calcula cuántas horas de estudio habrá ese mes."
      ],
      "metadata": {
        "id": "p3PYp0l4pxuI"
      }
    },
    {
      "cell_type": "code",
      "source": [
        "## INICIO DE CÓDIGO\n",
        "\n",
        "## FIN DE CÓDIGO"
      ],
      "metadata": {
        "id": "y1bXFffhrxk2"
      },
      "execution_count": null,
      "outputs": []
    },
    {
      "cell_type": "markdown",
      "source": [
        "---\n",
        "\n",
        "# Gracias por completar este laboratorio!\n",
        "\n",
        "---\n"
      ],
      "metadata": {
        "id": "8_ZocYoOrx3Z"
      }
    }
  ]
}